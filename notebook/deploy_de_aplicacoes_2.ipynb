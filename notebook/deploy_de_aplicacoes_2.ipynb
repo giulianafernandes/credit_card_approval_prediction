{
 "cells": [
  {
   "cell_type": "markdown",
   "metadata": {},
   "source": [
    "# Parte 1 - Tratando os Dados"
   ]
  },
  {
   "cell_type": "code",
   "execution_count": 1,
   "metadata": {},
   "outputs": [],
   "source": [
    "import pandas as pd"
   ]
  },
  {
   "cell_type": "code",
   "execution_count": 2,
   "metadata": {},
   "outputs": [],
   "source": [
    "cadastrados = pd.read_csv('dados/clientes_cadastrados.csv')"
   ]
  },
  {
   "cell_type": "code",
   "execution_count": 3,
   "metadata": {},
   "outputs": [
    {
     "data": {
      "text/html": [
       "<div>\n",
       "<style scoped>\n",
       "    .dataframe tbody tr th:only-of-type {\n",
       "        vertical-align: middle;\n",
       "    }\n",
       "\n",
       "    .dataframe tbody tr th {\n",
       "        vertical-align: top;\n",
       "    }\n",
       "\n",
       "    .dataframe thead th {\n",
       "        text-align: right;\n",
       "    }\n",
       "</style>\n",
       "<table border=\"1\" class=\"dataframe\">\n",
       "  <thead>\n",
       "    <tr style=\"text-align: right;\">\n",
       "      <th></th>\n",
       "      <th>ID_Cliente</th>\n",
       "      <th>Genero</th>\n",
       "      <th>Tem_carro</th>\n",
       "      <th>Tem_casa_propria</th>\n",
       "      <th>Qtd_filhos</th>\n",
       "      <th>Rendimento_anual</th>\n",
       "      <th>Categoria_de_renda</th>\n",
       "      <th>Grau_escolaridade</th>\n",
       "      <th>Estado_civil</th>\n",
       "      <th>Moradia</th>\n",
       "      <th>Idade</th>\n",
       "      <th>Anos_empregado</th>\n",
       "      <th>Tem_celular</th>\n",
       "      <th>Tem_telefone_trabalho</th>\n",
       "      <th>Tem_telefone_fixo</th>\n",
       "      <th>Tem_email</th>\n",
       "      <th>Ocupacao</th>\n",
       "      <th>Tamanho_familia</th>\n",
       "    </tr>\n",
       "  </thead>\n",
       "  <tbody>\n",
       "    <tr>\n",
       "      <th>0</th>\n",
       "      <td>5008804</td>\n",
       "      <td>M</td>\n",
       "      <td>Y</td>\n",
       "      <td>Y</td>\n",
       "      <td>0</td>\n",
       "      <td>427500.0</td>\n",
       "      <td>Empregado</td>\n",
       "      <td>Ensino superior</td>\n",
       "      <td>União-estável</td>\n",
       "      <td>Apartamento alugado</td>\n",
       "      <td>-12005</td>\n",
       "      <td>-4542</td>\n",
       "      <td>1</td>\n",
       "      <td>1</td>\n",
       "      <td>0</td>\n",
       "      <td>0</td>\n",
       "      <td>NaN</td>\n",
       "      <td>2.0</td>\n",
       "    </tr>\n",
       "    <tr>\n",
       "      <th>1</th>\n",
       "      <td>5008805</td>\n",
       "      <td>M</td>\n",
       "      <td>Y</td>\n",
       "      <td>Y</td>\n",
       "      <td>0</td>\n",
       "      <td>427500.0</td>\n",
       "      <td>Empregado</td>\n",
       "      <td>Ensino superior</td>\n",
       "      <td>União-estável</td>\n",
       "      <td>Apartamento alugado</td>\n",
       "      <td>-12005</td>\n",
       "      <td>-4542</td>\n",
       "      <td>1</td>\n",
       "      <td>1</td>\n",
       "      <td>0</td>\n",
       "      <td>0</td>\n",
       "      <td>NaN</td>\n",
       "      <td>2.0</td>\n",
       "    </tr>\n",
       "    <tr>\n",
       "      <th>2</th>\n",
       "      <td>5008806</td>\n",
       "      <td>M</td>\n",
       "      <td>Y</td>\n",
       "      <td>Y</td>\n",
       "      <td>0</td>\n",
       "      <td>112500.0</td>\n",
       "      <td>Empregado</td>\n",
       "      <td>Ensino médio</td>\n",
       "      <td>Casado</td>\n",
       "      <td>Casa/apartamento próprio</td>\n",
       "      <td>-21474</td>\n",
       "      <td>-1134</td>\n",
       "      <td>1</td>\n",
       "      <td>0</td>\n",
       "      <td>0</td>\n",
       "      <td>0</td>\n",
       "      <td>Segurança</td>\n",
       "      <td>2.0</td>\n",
       "    </tr>\n",
       "  </tbody>\n",
       "</table>\n",
       "</div>"
      ],
      "text/plain": [
       "   ID_Cliente Genero Tem_carro Tem_casa_propria  Qtd_filhos  Rendimento_anual  \\\n",
       "0     5008804      M         Y                Y           0          427500.0   \n",
       "1     5008805      M         Y                Y           0          427500.0   \n",
       "2     5008806      M         Y                Y           0          112500.0   \n",
       "\n",
       "  Categoria_de_renda Grau_escolaridade   Estado_civil  \\\n",
       "0          Empregado   Ensino superior  União-estável   \n",
       "1          Empregado   Ensino superior  União-estável   \n",
       "2          Empregado      Ensino médio         Casado   \n",
       "\n",
       "                    Moradia  Idade  Anos_empregado  Tem_celular  \\\n",
       "0       Apartamento alugado -12005           -4542            1   \n",
       "1       Apartamento alugado -12005           -4542            1   \n",
       "2  Casa/apartamento próprio -21474           -1134            1   \n",
       "\n",
       "   Tem_telefone_trabalho  Tem_telefone_fixo  Tem_email   Ocupacao  \\\n",
       "0                      1                  0          0        NaN   \n",
       "1                      1                  0          0        NaN   \n",
       "2                      0                  0          0  Segurança   \n",
       "\n",
       "   Tamanho_familia  \n",
       "0              2.0  \n",
       "1              2.0  \n",
       "2              2.0  "
      ]
     },
     "execution_count": 3,
     "metadata": {},
     "output_type": "execute_result"
    }
   ],
   "source": [
    "cadastrados.head(3)"
   ]
  },
  {
   "cell_type": "code",
   "execution_count": 4,
   "metadata": {},
   "outputs": [
    {
     "data": {
      "text/plain": [
       "(438557, 18)"
      ]
     },
     "execution_count": 4,
     "metadata": {},
     "output_type": "execute_result"
    }
   ],
   "source": [
    "cadastrados.shape"
   ]
  },
  {
   "cell_type": "code",
   "execution_count": 5,
   "metadata": {},
   "outputs": [
    {
     "name": "stdout",
     "output_type": "stream",
     "text": [
      "<class 'pandas.core.frame.DataFrame'>\n",
      "RangeIndex: 438557 entries, 0 to 438556\n",
      "Data columns (total 18 columns):\n",
      " #   Column                 Non-Null Count   Dtype  \n",
      "---  ------                 --------------   -----  \n",
      " 0   ID_Cliente             438557 non-null  int64  \n",
      " 1   Genero                 438557 non-null  object \n",
      " 2   Tem_carro              438557 non-null  object \n",
      " 3   Tem_casa_propria       438557 non-null  object \n",
      " 4   Qtd_filhos             438557 non-null  int64  \n",
      " 5   Rendimento_anual       438557 non-null  float64\n",
      " 6   Categoria_de_renda     438557 non-null  object \n",
      " 7   Grau_escolaridade      438557 non-null  object \n",
      " 8   Estado_civil           438557 non-null  object \n",
      " 9   Moradia                438557 non-null  object \n",
      " 10  Idade                  438557 non-null  int64  \n",
      " 11  Anos_empregado         438557 non-null  int64  \n",
      " 12  Tem_celular            438557 non-null  int64  \n",
      " 13  Tem_telefone_trabalho  438557 non-null  int64  \n",
      " 14  Tem_telefone_fixo      438557 non-null  int64  \n",
      " 15  Tem_email              438557 non-null  int64  \n",
      " 16  Ocupacao               304354 non-null  object \n",
      " 17  Tamanho_familia        438557 non-null  float64\n",
      "dtypes: float64(2), int64(8), object(8)\n",
      "memory usage: 60.2+ MB\n"
     ]
    }
   ],
   "source": [
    "cadastrados.info()"
   ]
  },
  {
   "cell_type": "markdown",
   "metadata": {},
   "source": [
    "## Renomeando as colunas"
   ]
  },
  {
   "cell_type": "code",
   "execution_count": 6,
   "metadata": {},
   "outputs": [
    {
     "name": "stdout",
     "output_type": "stream",
     "text": [
      "['ID_Cliente', 'Genero', 'Tem_carro', 'Tem_casa_propria', 'Qtd_filhos', 'Rendimento_anual', 'Categoria_de_renda', 'Grau_escolaridade', 'Estado_civil', 'Moradia', 'Idade', 'Anos_empregado', 'Tem_celular', 'Tem_telefone_trabalho', 'Tem_telefone_fixo', 'Tem_email', 'Ocupacao', 'Tamanho_familia']\n"
     ]
    }
   ],
   "source": [
    "columns_list = cadastrados.columns.tolist()\n",
    "print(columns_list)"
   ]
  },
  {
   "cell_type": "code",
   "execution_count": 7,
   "metadata": {},
   "outputs": [],
   "source": [
    "cadastrados = cadastrados.rename(columns={'ID_Cliente': 'id_cliente', \n",
    "                            'Genero': 'genero',\n",
    "                            'Tem_carro': 'tem_carro', \n",
    "                            'Tem_casa_propria': 'tem_casa', \n",
    "                            'Qtd_filhos': 'qtd_filhos', \n",
    "                            'Rendimento_anual': 'rendimento_anual', \n",
    "                            'Categoria_de_renda': 'categoria_renda', \n",
    "                            'Grau_escolaridade': 'grau_escolaridade', \n",
    "                            'Estado_civil': 'estado_civil', \n",
    "                            'Moradia': 'moradia', \n",
    "                            'Idade': 'idade', \n",
    "                            'Anos_empregado': 'anos_empregado', \n",
    "                            'Tem_celular': 'tem_celular', \n",
    "                            'Tem_telefone_trabalho': 'tem_telefone_trabalho', \n",
    "                            'Tem_telefone_fixo': 'tem_telefone_fixo', \n",
    "                            'Tem_email': 'tem_email', \n",
    "                            'Ocupacao': 'ocupacao', \n",
    "                            'Tamanho_familia': 'tam_familia'\n",
    "    })"
   ]
  },
  {
   "cell_type": "code",
   "execution_count": 8,
   "metadata": {},
   "outputs": [
    {
     "data": {
      "text/html": [
       "<div>\n",
       "<style scoped>\n",
       "    .dataframe tbody tr th:only-of-type {\n",
       "        vertical-align: middle;\n",
       "    }\n",
       "\n",
       "    .dataframe tbody tr th {\n",
       "        vertical-align: top;\n",
       "    }\n",
       "\n",
       "    .dataframe thead th {\n",
       "        text-align: right;\n",
       "    }\n",
       "</style>\n",
       "<table border=\"1\" class=\"dataframe\">\n",
       "  <thead>\n",
       "    <tr style=\"text-align: right;\">\n",
       "      <th></th>\n",
       "      <th>id_cliente</th>\n",
       "      <th>genero</th>\n",
       "      <th>tem_carro</th>\n",
       "      <th>tem_casa</th>\n",
       "      <th>qtd_filhos</th>\n",
       "      <th>rendimento_anual</th>\n",
       "      <th>categoria_renda</th>\n",
       "      <th>grau_escolaridade</th>\n",
       "      <th>estado_civil</th>\n",
       "      <th>moradia</th>\n",
       "      <th>idade</th>\n",
       "      <th>anos_empregado</th>\n",
       "      <th>tem_celular</th>\n",
       "      <th>tem_telefone_trabalho</th>\n",
       "      <th>tem_telefone_fixo</th>\n",
       "      <th>tem_email</th>\n",
       "      <th>ocupacao</th>\n",
       "      <th>tam_familia</th>\n",
       "    </tr>\n",
       "  </thead>\n",
       "  <tbody>\n",
       "    <tr>\n",
       "      <th>0</th>\n",
       "      <td>5008804</td>\n",
       "      <td>M</td>\n",
       "      <td>Y</td>\n",
       "      <td>Y</td>\n",
       "      <td>0</td>\n",
       "      <td>427500.0</td>\n",
       "      <td>Empregado</td>\n",
       "      <td>Ensino superior</td>\n",
       "      <td>União-estável</td>\n",
       "      <td>Apartamento alugado</td>\n",
       "      <td>-12005</td>\n",
       "      <td>-4542</td>\n",
       "      <td>1</td>\n",
       "      <td>1</td>\n",
       "      <td>0</td>\n",
       "      <td>0</td>\n",
       "      <td>NaN</td>\n",
       "      <td>2.0</td>\n",
       "    </tr>\n",
       "    <tr>\n",
       "      <th>1</th>\n",
       "      <td>5008805</td>\n",
       "      <td>M</td>\n",
       "      <td>Y</td>\n",
       "      <td>Y</td>\n",
       "      <td>0</td>\n",
       "      <td>427500.0</td>\n",
       "      <td>Empregado</td>\n",
       "      <td>Ensino superior</td>\n",
       "      <td>União-estável</td>\n",
       "      <td>Apartamento alugado</td>\n",
       "      <td>-12005</td>\n",
       "      <td>-4542</td>\n",
       "      <td>1</td>\n",
       "      <td>1</td>\n",
       "      <td>0</td>\n",
       "      <td>0</td>\n",
       "      <td>NaN</td>\n",
       "      <td>2.0</td>\n",
       "    </tr>\n",
       "    <tr>\n",
       "      <th>2</th>\n",
       "      <td>5008806</td>\n",
       "      <td>M</td>\n",
       "      <td>Y</td>\n",
       "      <td>Y</td>\n",
       "      <td>0</td>\n",
       "      <td>112500.0</td>\n",
       "      <td>Empregado</td>\n",
       "      <td>Ensino médio</td>\n",
       "      <td>Casado</td>\n",
       "      <td>Casa/apartamento próprio</td>\n",
       "      <td>-21474</td>\n",
       "      <td>-1134</td>\n",
       "      <td>1</td>\n",
       "      <td>0</td>\n",
       "      <td>0</td>\n",
       "      <td>0</td>\n",
       "      <td>Segurança</td>\n",
       "      <td>2.0</td>\n",
       "    </tr>\n",
       "  </tbody>\n",
       "</table>\n",
       "</div>"
      ],
      "text/plain": [
       "   id_cliente genero tem_carro tem_casa  qtd_filhos  rendimento_anual  \\\n",
       "0     5008804      M         Y        Y           0          427500.0   \n",
       "1     5008805      M         Y        Y           0          427500.0   \n",
       "2     5008806      M         Y        Y           0          112500.0   \n",
       "\n",
       "  categoria_renda grau_escolaridade   estado_civil                   moradia  \\\n",
       "0       Empregado   Ensino superior  União-estável       Apartamento alugado   \n",
       "1       Empregado   Ensino superior  União-estável       Apartamento alugado   \n",
       "2       Empregado      Ensino médio         Casado  Casa/apartamento próprio   \n",
       "\n",
       "   idade  anos_empregado  tem_celular  tem_telefone_trabalho  \\\n",
       "0 -12005           -4542            1                      1   \n",
       "1 -12005           -4542            1                      1   \n",
       "2 -21474           -1134            1                      0   \n",
       "\n",
       "   tem_telefone_fixo  tem_email   ocupacao  tam_familia  \n",
       "0                  0          0        NaN          2.0  \n",
       "1                  0          0        NaN          2.0  \n",
       "2                  0          0  Segurança          2.0  "
      ]
     },
     "execution_count": 8,
     "metadata": {},
     "output_type": "execute_result"
    }
   ],
   "source": [
    "cadastrados.head(3)"
   ]
  },
  {
   "cell_type": "markdown",
   "metadata": {},
   "source": [
    "## Checando se existem ids duplicados"
   ]
  },
  {
   "cell_type": "code",
   "execution_count": 9,
   "metadata": {},
   "outputs": [
    {
     "data": {
      "text/plain": [
       "id_cliente\n",
       "7137299    2\n",
       "7702238    2\n",
       "7282535    2\n",
       "7243768    2\n",
       "7050948    2\n",
       "          ..\n",
       "5690727    1\n",
       "6621262    1\n",
       "6621261    1\n",
       "6621260    1\n",
       "6842885    1\n",
       "Name: count, Length: 438510, dtype: int64"
      ]
     },
     "execution_count": 9,
     "metadata": {},
     "output_type": "execute_result"
    }
   ],
   "source": [
    "cadastrados['id_cliente'].value_counts()"
   ]
  },
  {
   "cell_type": "code",
   "execution_count": 10,
   "metadata": {},
   "outputs": [
    {
     "data": {
      "text/plain": [
       "(94, 18)"
      ]
     },
     "execution_count": 10,
     "metadata": {},
     "output_type": "execute_result"
    }
   ],
   "source": [
    "cadastrados[cadastrados['id_cliente'].duplicated(keep=False)].shape\n",
    "# existem 94 ids duplicados"
   ]
  },
  {
   "cell_type": "code",
   "execution_count": 11,
   "metadata": {},
   "outputs": [],
   "source": [
    "ids_repetidos = cadastrados[cadastrados['id_cliente'].duplicated(keep=False)]"
   ]
  },
  {
   "cell_type": "code",
   "execution_count": 12,
   "metadata": {},
   "outputs": [],
   "source": [
    "cadastrados_limpo = cadastrados.drop(ids_repetidos.index)"
   ]
  },
  {
   "cell_type": "code",
   "execution_count": 13,
   "metadata": {},
   "outputs": [
    {
     "data": {
      "text/plain": [
       "id_cliente\n",
       "5008804    1\n",
       "6147691    1\n",
       "6147689    1\n",
       "6147688    1\n",
       "6147685    1\n",
       "          ..\n",
       "6093492    1\n",
       "5690720    1\n",
       "6538938    1\n",
       "6538937    1\n",
       "6842885    1\n",
       "Name: count, Length: 438463, dtype: int64"
      ]
     },
     "execution_count": 13,
     "metadata": {},
     "output_type": "execute_result"
    }
   ],
   "source": [
    "cadastrados_limpo['id_cliente'].value_counts()"
   ]
  },
  {
   "cell_type": "markdown",
   "metadata": {},
   "source": [
    "## Tratando os dados nulos"
   ]
  },
  {
   "cell_type": "code",
   "execution_count": 14,
   "metadata": {},
   "outputs": [
    {
     "data": {
      "text/plain": [
       "id_cliente                    0\n",
       "genero                        0\n",
       "tem_carro                     0\n",
       "tem_casa                      0\n",
       "qtd_filhos                    0\n",
       "rendimento_anual              0\n",
       "categoria_renda               0\n",
       "grau_escolaridade             0\n",
       "estado_civil                  0\n",
       "moradia                       0\n",
       "idade                         0\n",
       "anos_empregado                0\n",
       "tem_celular                   0\n",
       "tem_telefone_trabalho         0\n",
       "tem_telefone_fixo             0\n",
       "tem_email                     0\n",
       "ocupacao                 134177\n",
       "tam_familia                   0\n",
       "dtype: int64"
      ]
     },
     "execution_count": 14,
     "metadata": {},
     "output_type": "execute_result"
    }
   ],
   "source": [
    "cadastrados_limpo.isnull().sum()"
   ]
  },
  {
   "cell_type": "code",
   "execution_count": 15,
   "metadata": {},
   "outputs": [],
   "source": [
    "# tratando a coluna ocupacao, que tem 134177 dados nulos"
   ]
  },
  {
   "cell_type": "code",
   "execution_count": 16,
   "metadata": {},
   "outputs": [
    {
     "data": {
      "text/plain": [
       "array([nan, 'Segurança', 'Vendas', 'Contabilidade', 'Construção Civil',\n",
       "       'Gerência', 'Motorista', 'Equipe principal', 'Alta tecnologia',\n",
       "       'Limpeza', 'Serviço privado', 'Cozinha', 'Baixa qualificação',\n",
       "       'Medicina', 'Secretariado', 'Garçom', 'RH', 'Corretor imobiliário',\n",
       "       'TI'], dtype=object)"
      ]
     },
     "execution_count": 16,
     "metadata": {},
     "output_type": "execute_result"
    }
   ],
   "source": [
    "cadastrados_limpo['ocupacao'].unique()"
   ]
  },
  {
   "cell_type": "code",
   "execution_count": 17,
   "metadata": {},
   "outputs": [
    {
     "name": "stderr",
     "output_type": "stream",
     "text": [
      "/var/folders/rx/b37fngts0v1fljw_kvgpxnpm0000gn/T/ipykernel_17999/1467502602.py:1: FutureWarning: A value is trying to be set on a copy of a DataFrame or Series through chained assignment using an inplace method.\n",
      "The behavior will change in pandas 3.0. This inplace method will never work because the intermediate object on which we are setting values always behaves as a copy.\n",
      "\n",
      "For example, when doing 'df[col].method(value, inplace=True)', try using 'df.method({col: value}, inplace=True)' or df[col] = df[col].method(value) instead, to perform the operation inplace on the original object.\n",
      "\n",
      "\n",
      "  cadastrados_limpo['ocupacao'].fillna(value='Outro', inplace=True)\n"
     ]
    }
   ],
   "source": [
    "cadastrados_limpo['ocupacao'].fillna(value='Outro', inplace=True)"
   ]
  },
  {
   "cell_type": "code",
   "execution_count": 18,
   "metadata": {},
   "outputs": [
    {
     "data": {
      "text/plain": [
       "id_cliente               0\n",
       "genero                   0\n",
       "tem_carro                0\n",
       "tem_casa                 0\n",
       "qtd_filhos               0\n",
       "rendimento_anual         0\n",
       "categoria_renda          0\n",
       "grau_escolaridade        0\n",
       "estado_civil             0\n",
       "moradia                  0\n",
       "idade                    0\n",
       "anos_empregado           0\n",
       "tem_celular              0\n",
       "tem_telefone_trabalho    0\n",
       "tem_telefone_fixo        0\n",
       "tem_email                0\n",
       "ocupacao                 0\n",
       "tam_familia              0\n",
       "dtype: int64"
      ]
     },
     "execution_count": 18,
     "metadata": {},
     "output_type": "execute_result"
    }
   ],
   "source": [
    "cadastrados_limpo.isnull().sum()"
   ]
  },
  {
   "cell_type": "markdown",
   "metadata": {},
   "source": [
    "## Tratando os valores das colunas"
   ]
  },
  {
   "cell_type": "code",
   "execution_count": 19,
   "metadata": {},
   "outputs": [
    {
     "data": {
      "text/plain": [
       "id_cliente               438463\n",
       "genero                        2\n",
       "tem_carro                     2\n",
       "tem_casa                      2\n",
       "qtd_filhos                   12\n",
       "rendimento_anual            866\n",
       "categoria_renda               5\n",
       "grau_escolaridade             5\n",
       "estado_civil                  5\n",
       "moradia                       6\n",
       "idade                     16379\n",
       "anos_empregado             9406\n",
       "tem_celular                   1\n",
       "tem_telefone_trabalho         2\n",
       "tem_telefone_fixo             2\n",
       "tem_email                     2\n",
       "ocupacao                     19\n",
       "tam_familia                  13\n",
       "dtype: int64"
      ]
     },
     "execution_count": 19,
     "metadata": {},
     "output_type": "execute_result"
    }
   ],
   "source": [
    "cadastrados_limpo.nunique()"
   ]
  },
  {
   "cell_type": "code",
   "execution_count": 20,
   "metadata": {},
   "outputs": [],
   "source": [
    "# removendo a coluna de genero, pois pode gerar um viés no nosso modelo de ml"
   ]
  },
  {
   "cell_type": "code",
   "execution_count": 21,
   "metadata": {},
   "outputs": [],
   "source": [
    "cadastrados_limpo.drop('genero', axis=1, inplace=True)"
   ]
  },
  {
   "cell_type": "code",
   "execution_count": 22,
   "metadata": {},
   "outputs": [],
   "source": [
    "cadastrados_limpo.drop('tem_celular', axis=1, inplace=True)"
   ]
  },
  {
   "cell_type": "code",
   "execution_count": 23,
   "metadata": {},
   "outputs": [
    {
     "data": {
      "text/plain": [
       "array(['Y', 'N'], dtype=object)"
      ]
     },
     "execution_count": 23,
     "metadata": {},
     "output_type": "execute_result"
    }
   ],
   "source": [
    "cadastrados_limpo['tem_carro'].unique()"
   ]
  },
  {
   "cell_type": "code",
   "execution_count": 24,
   "metadata": {},
   "outputs": [
    {
     "data": {
      "text/plain": [
       "array(['Y', 'N'], dtype=object)"
      ]
     },
     "execution_count": 24,
     "metadata": {},
     "output_type": "execute_result"
    }
   ],
   "source": [
    "cadastrados_limpo['tem_casa'].unique()"
   ]
  },
  {
   "cell_type": "code",
   "execution_count": 25,
   "metadata": {},
   "outputs": [
    {
     "data": {
      "text/plain": [
       "array([1, 0])"
      ]
     },
     "execution_count": 25,
     "metadata": {},
     "output_type": "execute_result"
    }
   ],
   "source": [
    "cadastrados_limpo['tem_telefone_trabalho'].unique()"
   ]
  },
  {
   "cell_type": "code",
   "execution_count": 26,
   "metadata": {},
   "outputs": [
    {
     "data": {
      "text/plain": [
       "array([0, 1])"
      ]
     },
     "execution_count": 26,
     "metadata": {},
     "output_type": "execute_result"
    }
   ],
   "source": [
    "cadastrados_limpo['tem_telefone_fixo'].unique()"
   ]
  },
  {
   "cell_type": "code",
   "execution_count": 27,
   "metadata": {},
   "outputs": [
    {
     "name": "stdout",
     "output_type": "stream",
     "text": [
      "<class 'pandas.core.frame.DataFrame'>\n",
      "Index: 438463 entries, 0 to 438556\n",
      "Data columns (total 16 columns):\n",
      " #   Column                 Non-Null Count   Dtype  \n",
      "---  ------                 --------------   -----  \n",
      " 0   id_cliente             438463 non-null  int64  \n",
      " 1   tem_carro              438463 non-null  object \n",
      " 2   tem_casa               438463 non-null  object \n",
      " 3   qtd_filhos             438463 non-null  int64  \n",
      " 4   rendimento_anual       438463 non-null  float64\n",
      " 5   categoria_renda        438463 non-null  object \n",
      " 6   grau_escolaridade      438463 non-null  object \n",
      " 7   estado_civil           438463 non-null  object \n",
      " 8   moradia                438463 non-null  object \n",
      " 9   idade                  438463 non-null  int64  \n",
      " 10  anos_empregado         438463 non-null  int64  \n",
      " 11  tem_telefone_trabalho  438463 non-null  int64  \n",
      " 12  tem_telefone_fixo      438463 non-null  int64  \n",
      " 13  tem_email              438463 non-null  int64  \n",
      " 14  ocupacao               438463 non-null  object \n",
      " 15  tam_familia            438463 non-null  float64\n",
      "dtypes: float64(2), int64(7), object(7)\n",
      "memory usage: 56.9+ MB\n"
     ]
    }
   ],
   "source": [
    "cadastrados_limpo.info()"
   ]
  },
  {
   "cell_type": "code",
   "execution_count": 28,
   "metadata": {},
   "outputs": [
    {
     "name": "stderr",
     "output_type": "stream",
     "text": [
      "/var/folders/rx/b37fngts0v1fljw_kvgpxnpm0000gn/T/ipykernel_17999/77457946.py:1: FutureWarning: Downcasting behavior in `replace` is deprecated and will be removed in a future version. To retain the old behavior, explicitly call `result.infer_objects(copy=False)`. To opt-in to the future behavior, set `pd.set_option('future.no_silent_downcasting', True)`\n",
      "  cadastrados_limpo['tem_carro'] = cadastrados_limpo['tem_carro'].replace(['Y', 'N'], [1, 0])\n"
     ]
    }
   ],
   "source": [
    "cadastrados_limpo['tem_carro'] = cadastrados_limpo['tem_carro'].replace(['Y', 'N'], [1, 0])"
   ]
  },
  {
   "cell_type": "code",
   "execution_count": 29,
   "metadata": {},
   "outputs": [
    {
     "name": "stderr",
     "output_type": "stream",
     "text": [
      "/var/folders/rx/b37fngts0v1fljw_kvgpxnpm0000gn/T/ipykernel_17999/1548733340.py:1: FutureWarning: Downcasting behavior in `replace` is deprecated and will be removed in a future version. To retain the old behavior, explicitly call `result.infer_objects(copy=False)`. To opt-in to the future behavior, set `pd.set_option('future.no_silent_downcasting', True)`\n",
      "  cadastrados_limpo['tem_casa'] = cadastrados_limpo['tem_casa'].replace(['Y', 'N'], [1, 0])\n"
     ]
    }
   ],
   "source": [
    "cadastrados_limpo['tem_casa'] = cadastrados_limpo['tem_casa'].replace(['Y', 'N'], [1, 0])"
   ]
  },
  {
   "cell_type": "code",
   "execution_count": 30,
   "metadata": {},
   "outputs": [
    {
     "data": {
      "text/html": [
       "<div>\n",
       "<style scoped>\n",
       "    .dataframe tbody tr th:only-of-type {\n",
       "        vertical-align: middle;\n",
       "    }\n",
       "\n",
       "    .dataframe tbody tr th {\n",
       "        vertical-align: top;\n",
       "    }\n",
       "\n",
       "    .dataframe thead th {\n",
       "        text-align: right;\n",
       "    }\n",
       "</style>\n",
       "<table border=\"1\" class=\"dataframe\">\n",
       "  <thead>\n",
       "    <tr style=\"text-align: right;\">\n",
       "      <th></th>\n",
       "      <th>id_cliente</th>\n",
       "      <th>tem_carro</th>\n",
       "      <th>tem_casa</th>\n",
       "      <th>qtd_filhos</th>\n",
       "      <th>rendimento_anual</th>\n",
       "      <th>categoria_renda</th>\n",
       "      <th>grau_escolaridade</th>\n",
       "      <th>estado_civil</th>\n",
       "      <th>moradia</th>\n",
       "      <th>idade</th>\n",
       "      <th>anos_empregado</th>\n",
       "      <th>tem_telefone_trabalho</th>\n",
       "      <th>tem_telefone_fixo</th>\n",
       "      <th>tem_email</th>\n",
       "      <th>ocupacao</th>\n",
       "      <th>tam_familia</th>\n",
       "    </tr>\n",
       "  </thead>\n",
       "  <tbody>\n",
       "    <tr>\n",
       "      <th>0</th>\n",
       "      <td>5008804</td>\n",
       "      <td>1</td>\n",
       "      <td>1</td>\n",
       "      <td>0</td>\n",
       "      <td>427500.0</td>\n",
       "      <td>Empregado</td>\n",
       "      <td>Ensino superior</td>\n",
       "      <td>União-estável</td>\n",
       "      <td>Apartamento alugado</td>\n",
       "      <td>-12005</td>\n",
       "      <td>-4542</td>\n",
       "      <td>1</td>\n",
       "      <td>0</td>\n",
       "      <td>0</td>\n",
       "      <td>Outro</td>\n",
       "      <td>2.0</td>\n",
       "    </tr>\n",
       "    <tr>\n",
       "      <th>1</th>\n",
       "      <td>5008805</td>\n",
       "      <td>1</td>\n",
       "      <td>1</td>\n",
       "      <td>0</td>\n",
       "      <td>427500.0</td>\n",
       "      <td>Empregado</td>\n",
       "      <td>Ensino superior</td>\n",
       "      <td>União-estável</td>\n",
       "      <td>Apartamento alugado</td>\n",
       "      <td>-12005</td>\n",
       "      <td>-4542</td>\n",
       "      <td>1</td>\n",
       "      <td>0</td>\n",
       "      <td>0</td>\n",
       "      <td>Outro</td>\n",
       "      <td>2.0</td>\n",
       "    </tr>\n",
       "    <tr>\n",
       "      <th>2</th>\n",
       "      <td>5008806</td>\n",
       "      <td>1</td>\n",
       "      <td>1</td>\n",
       "      <td>0</td>\n",
       "      <td>112500.0</td>\n",
       "      <td>Empregado</td>\n",
       "      <td>Ensino médio</td>\n",
       "      <td>Casado</td>\n",
       "      <td>Casa/apartamento próprio</td>\n",
       "      <td>-21474</td>\n",
       "      <td>-1134</td>\n",
       "      <td>0</td>\n",
       "      <td>0</td>\n",
       "      <td>0</td>\n",
       "      <td>Segurança</td>\n",
       "      <td>2.0</td>\n",
       "    </tr>\n",
       "  </tbody>\n",
       "</table>\n",
       "</div>"
      ],
      "text/plain": [
       "   id_cliente  tem_carro  tem_casa  qtd_filhos  rendimento_anual  \\\n",
       "0     5008804          1         1           0          427500.0   \n",
       "1     5008805          1         1           0          427500.0   \n",
       "2     5008806          1         1           0          112500.0   \n",
       "\n",
       "  categoria_renda grau_escolaridade   estado_civil                   moradia  \\\n",
       "0       Empregado   Ensino superior  União-estável       Apartamento alugado   \n",
       "1       Empregado   Ensino superior  União-estável       Apartamento alugado   \n",
       "2       Empregado      Ensino médio         Casado  Casa/apartamento próprio   \n",
       "\n",
       "   idade  anos_empregado  tem_telefone_trabalho  tem_telefone_fixo  tem_email  \\\n",
       "0 -12005           -4542                      1                  0          0   \n",
       "1 -12005           -4542                      1                  0          0   \n",
       "2 -21474           -1134                      0                  0          0   \n",
       "\n",
       "    ocupacao  tam_familia  \n",
       "0      Outro          2.0  \n",
       "1      Outro          2.0  \n",
       "2  Segurança          2.0  "
      ]
     },
     "execution_count": 30,
     "metadata": {},
     "output_type": "execute_result"
    }
   ],
   "source": [
    "cadastrados_limpo.head(3)"
   ]
  },
  {
   "cell_type": "code",
   "execution_count": 31,
   "metadata": {},
   "outputs": [],
   "source": [
    "cadastrados_limpo['idade'] = -cadastrados_limpo['idade']/365.2425"
   ]
  },
  {
   "cell_type": "code",
   "execution_count": 32,
   "metadata": {},
   "outputs": [],
   "source": [
    "cadastrados_limpo['anos_empregado'] = -cadastrados_limpo['anos_empregado']/365.2425"
   ]
  },
  {
   "cell_type": "code",
   "execution_count": 33,
   "metadata": {},
   "outputs": [
    {
     "data": {
      "text/html": [
       "<div>\n",
       "<style scoped>\n",
       "    .dataframe tbody tr th:only-of-type {\n",
       "        vertical-align: middle;\n",
       "    }\n",
       "\n",
       "    .dataframe tbody tr th {\n",
       "        vertical-align: top;\n",
       "    }\n",
       "\n",
       "    .dataframe thead th {\n",
       "        text-align: right;\n",
       "    }\n",
       "</style>\n",
       "<table border=\"1\" class=\"dataframe\">\n",
       "  <thead>\n",
       "    <tr style=\"text-align: right;\">\n",
       "      <th></th>\n",
       "      <th>id_cliente</th>\n",
       "      <th>tem_carro</th>\n",
       "      <th>tem_casa</th>\n",
       "      <th>qtd_filhos</th>\n",
       "      <th>rendimento_anual</th>\n",
       "      <th>categoria_renda</th>\n",
       "      <th>grau_escolaridade</th>\n",
       "      <th>estado_civil</th>\n",
       "      <th>moradia</th>\n",
       "      <th>idade</th>\n",
       "      <th>anos_empregado</th>\n",
       "      <th>tem_telefone_trabalho</th>\n",
       "      <th>tem_telefone_fixo</th>\n",
       "      <th>tem_email</th>\n",
       "      <th>ocupacao</th>\n",
       "      <th>tam_familia</th>\n",
       "    </tr>\n",
       "  </thead>\n",
       "  <tbody>\n",
       "    <tr>\n",
       "      <th>0</th>\n",
       "      <td>5008804</td>\n",
       "      <td>1</td>\n",
       "      <td>1</td>\n",
       "      <td>0</td>\n",
       "      <td>427500.0</td>\n",
       "      <td>Empregado</td>\n",
       "      <td>Ensino superior</td>\n",
       "      <td>União-estável</td>\n",
       "      <td>Apartamento alugado</td>\n",
       "      <td>32.868574</td>\n",
       "      <td>12.435574</td>\n",
       "      <td>1</td>\n",
       "      <td>0</td>\n",
       "      <td>0</td>\n",
       "      <td>Outro</td>\n",
       "      <td>2.0</td>\n",
       "    </tr>\n",
       "    <tr>\n",
       "      <th>1</th>\n",
       "      <td>5008805</td>\n",
       "      <td>1</td>\n",
       "      <td>1</td>\n",
       "      <td>0</td>\n",
       "      <td>427500.0</td>\n",
       "      <td>Empregado</td>\n",
       "      <td>Ensino superior</td>\n",
       "      <td>União-estável</td>\n",
       "      <td>Apartamento alugado</td>\n",
       "      <td>32.868574</td>\n",
       "      <td>12.435574</td>\n",
       "      <td>1</td>\n",
       "      <td>0</td>\n",
       "      <td>0</td>\n",
       "      <td>Outro</td>\n",
       "      <td>2.0</td>\n",
       "    </tr>\n",
       "    <tr>\n",
       "      <th>2</th>\n",
       "      <td>5008806</td>\n",
       "      <td>1</td>\n",
       "      <td>1</td>\n",
       "      <td>0</td>\n",
       "      <td>112500.0</td>\n",
       "      <td>Empregado</td>\n",
       "      <td>Ensino médio</td>\n",
       "      <td>Casado</td>\n",
       "      <td>Casa/apartamento próprio</td>\n",
       "      <td>58.793815</td>\n",
       "      <td>3.104787</td>\n",
       "      <td>0</td>\n",
       "      <td>0</td>\n",
       "      <td>0</td>\n",
       "      <td>Segurança</td>\n",
       "      <td>2.0</td>\n",
       "    </tr>\n",
       "  </tbody>\n",
       "</table>\n",
       "</div>"
      ],
      "text/plain": [
       "   id_cliente  tem_carro  tem_casa  qtd_filhos  rendimento_anual  \\\n",
       "0     5008804          1         1           0          427500.0   \n",
       "1     5008805          1         1           0          427500.0   \n",
       "2     5008806          1         1           0          112500.0   \n",
       "\n",
       "  categoria_renda grau_escolaridade   estado_civil                   moradia  \\\n",
       "0       Empregado   Ensino superior  União-estável       Apartamento alugado   \n",
       "1       Empregado   Ensino superior  União-estável       Apartamento alugado   \n",
       "2       Empregado      Ensino médio         Casado  Casa/apartamento próprio   \n",
       "\n",
       "       idade  anos_empregado  tem_telefone_trabalho  tem_telefone_fixo  \\\n",
       "0  32.868574       12.435574                      1                  0   \n",
       "1  32.868574       12.435574                      1                  0   \n",
       "2  58.793815        3.104787                      0                  0   \n",
       "\n",
       "   tem_email   ocupacao  tam_familia  \n",
       "0          0      Outro          2.0  \n",
       "1          0      Outro          2.0  \n",
       "2          0  Segurança          2.0  "
      ]
     },
     "execution_count": 33,
     "metadata": {},
     "output_type": "execute_result"
    }
   ],
   "source": [
    "cadastrados_limpo.head(3)"
   ]
  },
  {
   "cell_type": "code",
   "execution_count": 34,
   "metadata": {},
   "outputs": [
    {
     "data": {
      "text/plain": [
       "anos_empregado\n",
       "-1000.001369    75314\n",
       " 0.596864         262\n",
       " 4.594208         251\n",
       " 0.681739         241\n",
       " 2.677673         240\n",
       "                ...  \n",
       " 37.041144          1\n",
       " 27.989623          1\n",
       " 24.413917          1\n",
       " 31.291539          1\n",
       " 22.190736          1\n",
       "Name: count, Length: 9406, dtype: int64"
      ]
     },
     "execution_count": 34,
     "metadata": {},
     "output_type": "execute_result"
    }
   ],
   "source": [
    "cadastrados_limpo['anos_empregado'].value_counts()"
   ]
  },
  {
   "cell_type": "code",
   "execution_count": 35,
   "metadata": {},
   "outputs": [],
   "source": [
    "cadastrados_limpo.loc[cadastrados_limpo['anos_empregado']<0, 'anos_empregado']=0"
   ]
  },
  {
   "cell_type": "code",
   "execution_count": 36,
   "metadata": {},
   "outputs": [
    {
     "data": {
      "text/plain": [
       "anos_empregado\n",
       "0.000000     75314\n",
       "0.596864       262\n",
       "4.594208       251\n",
       "0.681739       241\n",
       "2.677673       240\n",
       "             ...  \n",
       "37.041144        1\n",
       "27.989623        1\n",
       "24.413917        1\n",
       "31.291539        1\n",
       "22.190736        1\n",
       "Name: count, Length: 9406, dtype: int64"
      ]
     },
     "execution_count": 36,
     "metadata": {},
     "output_type": "execute_result"
    }
   ],
   "source": [
    "cadastrados_limpo['anos_empregado'].value_counts()"
   ]
  },
  {
   "cell_type": "code",
   "execution_count": 37,
   "metadata": {},
   "outputs": [],
   "source": [
    "import matplotlib.pyplot as plt\n",
    "import seaborn as sns"
   ]
  },
  {
   "cell_type": "code",
   "execution_count": 38,
   "metadata": {},
   "outputs": [
    {
     "name": "stdout",
     "output_type": "stream",
     "text": [
      "<class 'pandas.core.frame.DataFrame'>\n",
      "Index: 438463 entries, 0 to 438556\n",
      "Data columns (total 16 columns):\n",
      " #   Column                 Non-Null Count   Dtype  \n",
      "---  ------                 --------------   -----  \n",
      " 0   id_cliente             438463 non-null  int64  \n",
      " 1   tem_carro              438463 non-null  int64  \n",
      " 2   tem_casa               438463 non-null  int64  \n",
      " 3   qtd_filhos             438463 non-null  int64  \n",
      " 4   rendimento_anual       438463 non-null  float64\n",
      " 5   categoria_renda        438463 non-null  object \n",
      " 6   grau_escolaridade      438463 non-null  object \n",
      " 7   estado_civil           438463 non-null  object \n",
      " 8   moradia                438463 non-null  object \n",
      " 9   idade                  438463 non-null  float64\n",
      " 10  anos_empregado         438463 non-null  float64\n",
      " 11  tem_telefone_trabalho  438463 non-null  int64  \n",
      " 12  tem_telefone_fixo      438463 non-null  int64  \n",
      " 13  tem_email              438463 non-null  int64  \n",
      " 14  ocupacao               438463 non-null  object \n",
      " 15  tam_familia            438463 non-null  float64\n",
      "dtypes: float64(4), int64(7), object(5)\n",
      "memory usage: 56.9+ MB\n"
     ]
    }
   ],
   "source": [
    "cadastrados_limpo.info()"
   ]
  },
  {
   "cell_type": "code",
   "execution_count": 39,
   "metadata": {},
   "outputs": [],
   "source": [
    "# separando colunas numericas em um dataframe\n",
    "cadastrados_num = cadastrados_limpo.drop(['categoria_renda', 'grau_escolaridade', \n",
    "                                          'estado_civil', 'moradia', 'ocupacao'], axis=1)"
   ]
  },
  {
   "cell_type": "code",
   "execution_count": 40,
   "metadata": {},
   "outputs": [
    {
     "data": {
      "text/html": [
       "<div>\n",
       "<style scoped>\n",
       "    .dataframe tbody tr th:only-of-type {\n",
       "        vertical-align: middle;\n",
       "    }\n",
       "\n",
       "    .dataframe tbody tr th {\n",
       "        vertical-align: top;\n",
       "    }\n",
       "\n",
       "    .dataframe thead th {\n",
       "        text-align: right;\n",
       "    }\n",
       "</style>\n",
       "<table border=\"1\" class=\"dataframe\">\n",
       "  <thead>\n",
       "    <tr style=\"text-align: right;\">\n",
       "      <th></th>\n",
       "      <th>id_cliente</th>\n",
       "      <th>tem_carro</th>\n",
       "      <th>tem_casa</th>\n",
       "      <th>qtd_filhos</th>\n",
       "      <th>rendimento_anual</th>\n",
       "      <th>idade</th>\n",
       "      <th>anos_empregado</th>\n",
       "      <th>tem_telefone_trabalho</th>\n",
       "      <th>tem_telefone_fixo</th>\n",
       "      <th>tem_email</th>\n",
       "      <th>tam_familia</th>\n",
       "    </tr>\n",
       "  </thead>\n",
       "  <tbody>\n",
       "    <tr>\n",
       "      <th>0</th>\n",
       "      <td>5008804</td>\n",
       "      <td>1</td>\n",
       "      <td>1</td>\n",
       "      <td>0</td>\n",
       "      <td>427500.0</td>\n",
       "      <td>32.868574</td>\n",
       "      <td>12.435574</td>\n",
       "      <td>1</td>\n",
       "      <td>0</td>\n",
       "      <td>0</td>\n",
       "      <td>2.0</td>\n",
       "    </tr>\n",
       "    <tr>\n",
       "      <th>1</th>\n",
       "      <td>5008805</td>\n",
       "      <td>1</td>\n",
       "      <td>1</td>\n",
       "      <td>0</td>\n",
       "      <td>427500.0</td>\n",
       "      <td>32.868574</td>\n",
       "      <td>12.435574</td>\n",
       "      <td>1</td>\n",
       "      <td>0</td>\n",
       "      <td>0</td>\n",
       "      <td>2.0</td>\n",
       "    </tr>\n",
       "    <tr>\n",
       "      <th>2</th>\n",
       "      <td>5008806</td>\n",
       "      <td>1</td>\n",
       "      <td>1</td>\n",
       "      <td>0</td>\n",
       "      <td>112500.0</td>\n",
       "      <td>58.793815</td>\n",
       "      <td>3.104787</td>\n",
       "      <td>0</td>\n",
       "      <td>0</td>\n",
       "      <td>0</td>\n",
       "      <td>2.0</td>\n",
       "    </tr>\n",
       "  </tbody>\n",
       "</table>\n",
       "</div>"
      ],
      "text/plain": [
       "   id_cliente  tem_carro  tem_casa  qtd_filhos  rendimento_anual      idade  \\\n",
       "0     5008804          1         1           0          427500.0  32.868574   \n",
       "1     5008805          1         1           0          427500.0  32.868574   \n",
       "2     5008806          1         1           0          112500.0  58.793815   \n",
       "\n",
       "   anos_empregado  tem_telefone_trabalho  tem_telefone_fixo  tem_email  \\\n",
       "0       12.435574                      1                  0          0   \n",
       "1       12.435574                      1                  0          0   \n",
       "2        3.104787                      0                  0          0   \n",
       "\n",
       "   tam_familia  \n",
       "0          2.0  \n",
       "1          2.0  \n",
       "2          2.0  "
      ]
     },
     "execution_count": 40,
     "metadata": {},
     "output_type": "execute_result"
    }
   ],
   "source": [
    "cadastrados_num.head(3)"
   ]
  },
  {
   "cell_type": "code",
   "execution_count": 41,
   "metadata": {},
   "outputs": [
    {
     "data": {
      "text/plain": [
       "<Axes: >"
      ]
     },
     "execution_count": 41,
     "metadata": {},
     "output_type": "execute_result"
    },
    {
     "data": {
      "image/png": "[encoded data removed]",
      "text/plain": [
       "<Figure size 1200x800 with 2 Axes>"
      ]
     },
     "metadata": {},
     "output_type": "display_data"
    }
   ],
   "source": [
    "corr = cadastrados_num.corr()\n",
    "\n",
    "plt.figure(figsize=(12,8))\n",
    "sns.heatmap(corr, cmap='Reds', annot=True)"
   ]
  },
  {
   "cell_type": "code",
   "execution_count": 42,
   "metadata": {},
   "outputs": [],
   "source": [
    "cadastrados_limpo.drop(['qtd_filhos'], axis=1, inplace=True)"
   ]
  },
  {
   "cell_type": "code",
   "execution_count": 43,
   "metadata": {},
   "outputs": [
    {
     "data": {
      "text/html": [
       "<div>\n",
       "<style scoped>\n",
       "    .dataframe tbody tr th:only-of-type {\n",
       "        vertical-align: middle;\n",
       "    }\n",
       "\n",
       "    .dataframe tbody tr th {\n",
       "        vertical-align: top;\n",
       "    }\n",
       "\n",
       "    .dataframe thead th {\n",
       "        text-align: right;\n",
       "    }\n",
       "</style>\n",
       "<table border=\"1\" class=\"dataframe\">\n",
       "  <thead>\n",
       "    <tr style=\"text-align: right;\">\n",
       "      <th></th>\n",
       "      <th>id_cliente</th>\n",
       "      <th>tem_carro</th>\n",
       "      <th>tem_casa</th>\n",
       "      <th>rendimento_anual</th>\n",
       "      <th>categoria_renda</th>\n",
       "      <th>grau_escolaridade</th>\n",
       "      <th>estado_civil</th>\n",
       "      <th>moradia</th>\n",
       "      <th>idade</th>\n",
       "      <th>anos_empregado</th>\n",
       "      <th>tem_telefone_trabalho</th>\n",
       "      <th>tem_telefone_fixo</th>\n",
       "      <th>tem_email</th>\n",
       "      <th>ocupacao</th>\n",
       "      <th>tam_familia</th>\n",
       "    </tr>\n",
       "  </thead>\n",
       "  <tbody>\n",
       "    <tr>\n",
       "      <th>0</th>\n",
       "      <td>5008804</td>\n",
       "      <td>1</td>\n",
       "      <td>1</td>\n",
       "      <td>427500.0</td>\n",
       "      <td>Empregado</td>\n",
       "      <td>Ensino superior</td>\n",
       "      <td>União-estável</td>\n",
       "      <td>Apartamento alugado</td>\n",
       "      <td>32.868574</td>\n",
       "      <td>12.435574</td>\n",
       "      <td>1</td>\n",
       "      <td>0</td>\n",
       "      <td>0</td>\n",
       "      <td>Outro</td>\n",
       "      <td>2.0</td>\n",
       "    </tr>\n",
       "    <tr>\n",
       "      <th>1</th>\n",
       "      <td>5008805</td>\n",
       "      <td>1</td>\n",
       "      <td>1</td>\n",
       "      <td>427500.0</td>\n",
       "      <td>Empregado</td>\n",
       "      <td>Ensino superior</td>\n",
       "      <td>União-estável</td>\n",
       "      <td>Apartamento alugado</td>\n",
       "      <td>32.868574</td>\n",
       "      <td>12.435574</td>\n",
       "      <td>1</td>\n",
       "      <td>0</td>\n",
       "      <td>0</td>\n",
       "      <td>Outro</td>\n",
       "      <td>2.0</td>\n",
       "    </tr>\n",
       "  </tbody>\n",
       "</table>\n",
       "</div>"
      ],
      "text/plain": [
       "   id_cliente  tem_carro  tem_casa  rendimento_anual categoria_renda  \\\n",
       "0     5008804          1         1          427500.0       Empregado   \n",
       "1     5008805          1         1          427500.0       Empregado   \n",
       "\n",
       "  grau_escolaridade   estado_civil              moradia      idade  \\\n",
       "0   Ensino superior  União-estável  Apartamento alugado  32.868574   \n",
       "1   Ensino superior  União-estável  Apartamento alugado  32.868574   \n",
       "\n",
       "   anos_empregado  tem_telefone_trabalho  tem_telefone_fixo  tem_email  \\\n",
       "0       12.435574                      1                  0          0   \n",
       "1       12.435574                      1                  0          0   \n",
       "\n",
       "  ocupacao  tam_familia  \n",
       "0    Outro          2.0  \n",
       "1    Outro          2.0  "
      ]
     },
     "execution_count": 43,
     "metadata": {},
     "output_type": "execute_result"
    }
   ],
   "source": [
    "cadastrados_limpo.head(2)"
   ]
  },
  {
   "cell_type": "code",
   "execution_count": 44,
   "metadata": {},
   "outputs": [],
   "source": [
    "# organizando as features\n",
    "cadastrados_limpo = cadastrados_limpo[['id_cliente', 'tem_carro', 'tem_casa', 'tem_telefone_trabalho', \n",
    "                                       'tem_telefone_fixo', 'tem_email', 'rendimento_anual', 'tam_familia', 'idade',\n",
    "                                       'anos_empregado', 'categoria_renda', 'grau_escolaridade', 'estado_civil', \n",
    "                                       'moradia', 'ocupacao']]"
   ]
  },
  {
   "cell_type": "code",
   "execution_count": 45,
   "metadata": {},
   "outputs": [
    {
     "data": {
      "text/html": [
       "<div>\n",
       "<style scoped>\n",
       "    .dataframe tbody tr th:only-of-type {\n",
       "        vertical-align: middle;\n",
       "    }\n",
       "\n",
       "    .dataframe tbody tr th {\n",
       "        vertical-align: top;\n",
       "    }\n",
       "\n",
       "    .dataframe thead th {\n",
       "        text-align: right;\n",
       "    }\n",
       "</style>\n",
       "<table border=\"1\" class=\"dataframe\">\n",
       "  <thead>\n",
       "    <tr style=\"text-align: right;\">\n",
       "      <th></th>\n",
       "      <th>id_cliente</th>\n",
       "      <th>tem_carro</th>\n",
       "      <th>tem_casa</th>\n",
       "      <th>tem_telefone_trabalho</th>\n",
       "      <th>tem_telefone_fixo</th>\n",
       "      <th>tem_email</th>\n",
       "      <th>rendimento_anual</th>\n",
       "      <th>tam_familia</th>\n",
       "      <th>idade</th>\n",
       "      <th>anos_empregado</th>\n",
       "      <th>categoria_renda</th>\n",
       "      <th>grau_escolaridade</th>\n",
       "      <th>estado_civil</th>\n",
       "      <th>moradia</th>\n",
       "      <th>ocupacao</th>\n",
       "    </tr>\n",
       "  </thead>\n",
       "  <tbody>\n",
       "    <tr>\n",
       "      <th>0</th>\n",
       "      <td>5008804</td>\n",
       "      <td>1</td>\n",
       "      <td>1</td>\n",
       "      <td>1</td>\n",
       "      <td>0</td>\n",
       "      <td>0</td>\n",
       "      <td>427500.0</td>\n",
       "      <td>2.0</td>\n",
       "      <td>32.868574</td>\n",
       "      <td>12.435574</td>\n",
       "      <td>Empregado</td>\n",
       "      <td>Ensino superior</td>\n",
       "      <td>União-estável</td>\n",
       "      <td>Apartamento alugado</td>\n",
       "      <td>Outro</td>\n",
       "    </tr>\n",
       "    <tr>\n",
       "      <th>1</th>\n",
       "      <td>5008805</td>\n",
       "      <td>1</td>\n",
       "      <td>1</td>\n",
       "      <td>1</td>\n",
       "      <td>0</td>\n",
       "      <td>0</td>\n",
       "      <td>427500.0</td>\n",
       "      <td>2.0</td>\n",
       "      <td>32.868574</td>\n",
       "      <td>12.435574</td>\n",
       "      <td>Empregado</td>\n",
       "      <td>Ensino superior</td>\n",
       "      <td>União-estável</td>\n",
       "      <td>Apartamento alugado</td>\n",
       "      <td>Outro</td>\n",
       "    </tr>\n",
       "    <tr>\n",
       "      <th>2</th>\n",
       "      <td>5008806</td>\n",
       "      <td>1</td>\n",
       "      <td>1</td>\n",
       "      <td>0</td>\n",
       "      <td>0</td>\n",
       "      <td>0</td>\n",
       "      <td>112500.0</td>\n",
       "      <td>2.0</td>\n",
       "      <td>58.793815</td>\n",
       "      <td>3.104787</td>\n",
       "      <td>Empregado</td>\n",
       "      <td>Ensino médio</td>\n",
       "      <td>Casado</td>\n",
       "      <td>Casa/apartamento próprio</td>\n",
       "      <td>Segurança</td>\n",
       "    </tr>\n",
       "  </tbody>\n",
       "</table>\n",
       "</div>"
      ],
      "text/plain": [
       "   id_cliente  tem_carro  tem_casa  tem_telefone_trabalho  tem_telefone_fixo  \\\n",
       "0     5008804          1         1                      1                  0   \n",
       "1     5008805          1         1                      1                  0   \n",
       "2     5008806          1         1                      0                  0   \n",
       "\n",
       "   tem_email  rendimento_anual  tam_familia      idade  anos_empregado  \\\n",
       "0          0          427500.0          2.0  32.868574       12.435574   \n",
       "1          0          427500.0          2.0  32.868574       12.435574   \n",
       "2          0          112500.0          2.0  58.793815        3.104787   \n",
       "\n",
       "  categoria_renda grau_escolaridade   estado_civil                   moradia  \\\n",
       "0       Empregado   Ensino superior  União-estável       Apartamento alugado   \n",
       "1       Empregado   Ensino superior  União-estável       Apartamento alugado   \n",
       "2       Empregado      Ensino médio         Casado  Casa/apartamento próprio   \n",
       "\n",
       "    ocupacao  \n",
       "0      Outro  \n",
       "1      Outro  \n",
       "2  Segurança  "
      ]
     },
     "execution_count": 45,
     "metadata": {},
     "output_type": "execute_result"
    }
   ],
   "source": [
    "cadastrados_limpo.head(3)"
   ]
  },
  {
   "cell_type": "code",
   "execution_count": 46,
   "metadata": {},
   "outputs": [
    {
     "data": {
      "text/html": [
       "<div>\n",
       "<style scoped>\n",
       "    .dataframe tbody tr th:only-of-type {\n",
       "        vertical-align: middle;\n",
       "    }\n",
       "\n",
       "    .dataframe tbody tr th {\n",
       "        vertical-align: top;\n",
       "    }\n",
       "\n",
       "    .dataframe thead th {\n",
       "        text-align: right;\n",
       "    }\n",
       "</style>\n",
       "<table border=\"1\" class=\"dataframe\">\n",
       "  <thead>\n",
       "    <tr style=\"text-align: right;\">\n",
       "      <th></th>\n",
       "      <th>tam_familia</th>\n",
       "      <th>rendimento_anual</th>\n",
       "      <th>idade</th>\n",
       "      <th>anos_empregado</th>\n",
       "    </tr>\n",
       "  </thead>\n",
       "  <tbody>\n",
       "    <tr>\n",
       "      <th>count</th>\n",
       "      <td>438463.000000</td>\n",
       "      <td>4.384630e+05</td>\n",
       "      <td>438463.000000</td>\n",
       "      <td>438463.000000</td>\n",
       "    </tr>\n",
       "    <tr>\n",
       "      <th>mean</th>\n",
       "      <td>2.194461</td>\n",
       "      <td>1.875220e+05</td>\n",
       "      <td>43.800857</td>\n",
       "      <td>5.948371</td>\n",
       "    </tr>\n",
       "    <tr>\n",
       "      <th>std</th>\n",
       "      <td>0.897194</td>\n",
       "      <td>1.100832e+05</td>\n",
       "      <td>11.458262</td>\n",
       "      <td>6.564112</td>\n",
       "    </tr>\n",
       "    <tr>\n",
       "      <th>min</th>\n",
       "      <td>1.000000</td>\n",
       "      <td>2.610000e+04</td>\n",
       "      <td>20.504186</td>\n",
       "      <td>0.000000</td>\n",
       "    </tr>\n",
       "    <tr>\n",
       "      <th>25%</th>\n",
       "      <td>2.000000</td>\n",
       "      <td>1.215000e+05</td>\n",
       "      <td>34.262168</td>\n",
       "      <td>1.015763</td>\n",
       "    </tr>\n",
       "    <tr>\n",
       "      <th>50%</th>\n",
       "      <td>2.000000</td>\n",
       "      <td>1.611000e+05</td>\n",
       "      <td>42.793487</td>\n",
       "      <td>4.019247</td>\n",
       "    </tr>\n",
       "    <tr>\n",
       "      <th>75%</th>\n",
       "      <td>3.000000</td>\n",
       "      <td>2.250000e+05</td>\n",
       "      <td>53.345380</td>\n",
       "      <td>8.495725</td>\n",
       "    </tr>\n",
       "    <tr>\n",
       "      <th>max</th>\n",
       "      <td>20.000000</td>\n",
       "      <td>6.750000e+06</td>\n",
       "      <td>68.997994</td>\n",
       "      <td>47.998248</td>\n",
       "    </tr>\n",
       "  </tbody>\n",
       "</table>\n",
       "</div>"
      ],
      "text/plain": [
       "         tam_familia  rendimento_anual          idade  anos_empregado\n",
       "count  438463.000000      4.384630e+05  438463.000000   438463.000000\n",
       "mean        2.194461      1.875220e+05      43.800857        5.948371\n",
       "std         0.897194      1.100832e+05      11.458262        6.564112\n",
       "min         1.000000      2.610000e+04      20.504186        0.000000\n",
       "25%         2.000000      1.215000e+05      34.262168        1.015763\n",
       "50%         2.000000      1.611000e+05      42.793487        4.019247\n",
       "75%         3.000000      2.250000e+05      53.345380        8.495725\n",
       "max        20.000000      6.750000e+06      68.997994       47.998248"
      ]
     },
     "execution_count": 46,
     "metadata": {},
     "output_type": "execute_result"
    }
   ],
   "source": [
    "colunas_quantitativas = ['tam_familia', 'rendimento_anual', 'idade', 'anos_empregado']\n",
    "cadastrados_limpo[colunas_quantitativas].describe()"
   ]
  },
  {
   "cell_type": "code",
   "execution_count": 47,
   "metadata": {},
   "outputs": [
    {
     "data": {
      "text/plain": [
       "categoria_renda\n",
       "Empregado              51.557144\n",
       "Associado comercial    22.972520\n",
       "Pensionista            17.214223\n",
       "Servidor público        8.252236\n",
       "Estudante               0.003877\n",
       "Name: proportion, dtype: float64"
      ]
     },
     "execution_count": 47,
     "metadata": {},
     "output_type": "execute_result"
    }
   ],
   "source": [
    "cadastrados_limpo['categoria_renda'].value_counts(normalize=True)*100"
   ]
  },
  {
   "cell_type": "code",
   "execution_count": 48,
   "metadata": {},
   "outputs": [
    {
     "data": {
      "text/plain": [
       "grau_escolaridade\n",
       "Ensino médio                  68.821314\n",
       "Ensino superior               26.797928\n",
       "Ensino superior incompleto     3.385690\n",
       "Ensino fundamental             0.923909\n",
       "Pós-graduação                  0.071158\n",
       "Name: proportion, dtype: float64"
      ]
     },
     "execution_count": 48,
     "metadata": {},
     "output_type": "execute_result"
    }
   ],
   "source": [
    "cadastrados_limpo['grau_escolaridade'].value_counts(normalize=True)*100"
   ]
  },
  {
   "cell_type": "code",
   "execution_count": 49,
   "metadata": {},
   "outputs": [
    {
     "data": {
      "text/plain": [
       "estado_civil\n",
       "Casado           68.367912\n",
       "Solteiro         12.601976\n",
       "União-estável     8.329323\n",
       "Divorciado        6.214663\n",
       "Viúvo             4.486125\n",
       "Name: proportion, dtype: float64"
      ]
     },
     "execution_count": 49,
     "metadata": {},
     "output_type": "execute_result"
    }
   ],
   "source": [
    "cadastrados_limpo['estado_civil'].value_counts(normalize=True)*100"
   ]
  },
  {
   "cell_type": "code",
   "execution_count": 50,
   "metadata": {},
   "outputs": [
    {
     "data": {
      "text/plain": [
       "moradia\n",
       "Casa/apartamento próprio    89.801876\n",
       "Mora com os pais             4.349740\n",
       "Habitação pública            3.241094\n",
       "Apartamento alugado          1.362259\n",
       "Apartamento comercial        0.894032\n",
       "Cooperativa habitacional     0.350999\n",
       "Name: proportion, dtype: float64"
      ]
     },
     "execution_count": 50,
     "metadata": {},
     "output_type": "execute_result"
    }
   ],
   "source": [
    "cadastrados_limpo['moradia'].value_counts(normalize=True)*100"
   ]
  },
  {
   "cell_type": "code",
   "execution_count": 51,
   "metadata": {},
   "outputs": [
    {
     "data": {
      "text/plain": [
       "ocupacao\n",
       "Outro                   30.601670\n",
       "Construção Civil        17.840730\n",
       "Equipe principal         9.805388\n",
       "Vendas                   9.371828\n",
       "Gerência                 8.091219\n",
       "Motorista                5.949191\n",
       "Alta tecnologia          3.941724\n",
       "Contabilidade            3.644549\n",
       "Medicina                 3.083042\n",
       "Cozinha                  1.841432\n",
       "Segurança                1.822959\n",
       "Limpeza                  1.332610\n",
       "Serviço privado          0.787980\n",
       "Baixa qualificação       0.488069\n",
       "Secretariado             0.466174\n",
       "Garçom                   0.379736\n",
       "Corretor imobiliário     0.237420\n",
       "RH                       0.176526\n",
       "TI                       0.137754\n",
       "Name: proportion, dtype: float64"
      ]
     },
     "execution_count": 51,
     "metadata": {},
     "output_type": "execute_result"
    }
   ],
   "source": [
    "cadastrados_limpo['ocupacao'].value_counts(normalize=True)*100"
   ]
  },
  {
   "cell_type": "code",
   "execution_count": 52,
   "metadata": {},
   "outputs": [
    {
     "data": {
      "text/plain": [
       "12641"
      ]
     },
     "execution_count": 52,
     "metadata": {},
     "output_type": "execute_result"
    }
   ],
   "source": [
    "'''tecnica para remocao de outliers a partir de um intervalor de confiança'''\n",
    "coluna = cadastrados_limpo['rendimento_anual']\n",
    "\n",
    "coluna_med = coluna.mean()\n",
    "coluna_std = coluna.std()\n",
    "\n",
    "limite_sup = coluna_med + (2 * coluna_std)\n",
    "limite_inf = coluna_med - (2 * coluna_std)\n",
    "\n",
    "index_outliers = []\n",
    "\n",
    "for index, valor in coluna.items():\n",
    "    if valor > limite_sup or valor < limite_inf:\n",
    "        index_outliers.append(index)\n",
    "        \n",
    "len(index_outliers)"
   ]
  },
  {
   "cell_type": "code",
   "execution_count": 53,
   "metadata": {},
   "outputs": [
    {
     "data": {
      "text/plain": [
       "(425822, 15)"
      ]
     },
     "execution_count": 53,
     "metadata": {},
     "output_type": "execute_result"
    }
   ],
   "source": [
    "clientes_cad_sem_outliers = cadastrados_limpo.drop(index_outliers)\n",
    "clientes_cad_sem_outliers.shape"
   ]
  },
  {
   "cell_type": "code",
   "execution_count": 54,
   "metadata": {},
   "outputs": [
    {
     "data": {
      "text/plain": [
       "(425822, 15)"
      ]
     },
     "execution_count": 54,
     "metadata": {},
     "output_type": "execute_result"
    }
   ],
   "source": [
    "clientes_cad_tratamento1 = clientes_cad_sem_outliers\n",
    "clientes_cad_tratamento1.shape"
   ]
  },
  {
   "cell_type": "markdown",
   "metadata": {},
   "source": [
    "# Parte 2 - Criando a variável Target"
   ]
  },
  {
   "cell_type": "code",
   "execution_count": 55,
   "metadata": {},
   "outputs": [],
   "source": [
    "aprovados = pd.read_csv('dados/clientes_aprovados.csv')"
   ]
  },
  {
   "cell_type": "code",
   "execution_count": 56,
   "metadata": {},
   "outputs": [
    {
     "data": {
      "text/html": [
       "<div>\n",
       "<style scoped>\n",
       "    .dataframe tbody tr th:only-of-type {\n",
       "        vertical-align: middle;\n",
       "    }\n",
       "\n",
       "    .dataframe tbody tr th {\n",
       "        vertical-align: top;\n",
       "    }\n",
       "\n",
       "    .dataframe thead th {\n",
       "        text-align: right;\n",
       "    }\n",
       "</style>\n",
       "<table border=\"1\" class=\"dataframe\">\n",
       "  <thead>\n",
       "    <tr style=\"text-align: right;\">\n",
       "      <th></th>\n",
       "      <th>ID_Cliente</th>\n",
       "      <th>Mes_referencia</th>\n",
       "      <th>Faixa_atraso</th>\n",
       "    </tr>\n",
       "  </thead>\n",
       "  <tbody>\n",
       "    <tr>\n",
       "      <th>0</th>\n",
       "      <td>5001711</td>\n",
       "      <td>0</td>\n",
       "      <td>nenhum empréstimo</td>\n",
       "    </tr>\n",
       "    <tr>\n",
       "      <th>1</th>\n",
       "      <td>5001711</td>\n",
       "      <td>-1</td>\n",
       "      <td>1-29 dias</td>\n",
       "    </tr>\n",
       "    <tr>\n",
       "      <th>2</th>\n",
       "      <td>5001711</td>\n",
       "      <td>-2</td>\n",
       "      <td>1-29 dias</td>\n",
       "    </tr>\n",
       "    <tr>\n",
       "      <th>3</th>\n",
       "      <td>5001711</td>\n",
       "      <td>-3</td>\n",
       "      <td>1-29 dias</td>\n",
       "    </tr>\n",
       "    <tr>\n",
       "      <th>4</th>\n",
       "      <td>5001712</td>\n",
       "      <td>0</td>\n",
       "      <td>pagamento realizado</td>\n",
       "    </tr>\n",
       "  </tbody>\n",
       "</table>\n",
       "</div>"
      ],
      "text/plain": [
       "   ID_Cliente  Mes_referencia         Faixa_atraso\n",
       "0     5001711               0    nenhum empréstimo\n",
       "1     5001711              -1            1-29 dias\n",
       "2     5001711              -2            1-29 dias\n",
       "3     5001711              -3            1-29 dias\n",
       "4     5001712               0  pagamento realizado"
      ]
     },
     "execution_count": 56,
     "metadata": {},
     "output_type": "execute_result"
    }
   ],
   "source": [
    "aprovados.head()"
   ]
  },
  {
   "cell_type": "code",
   "execution_count": 57,
   "metadata": {},
   "outputs": [
    {
     "name": "stdout",
     "output_type": "stream",
     "text": [
      "<class 'pandas.core.frame.DataFrame'>\n",
      "RangeIndex: 1048575 entries, 0 to 1048574\n",
      "Data columns (total 3 columns):\n",
      " #   Column          Non-Null Count    Dtype \n",
      "---  ------          --------------    ----- \n",
      " 0   ID_Cliente      1048575 non-null  int64 \n",
      " 1   Mes_referencia  1048575 non-null  int64 \n",
      " 2   Faixa_atraso    1048575 non-null  object\n",
      "dtypes: int64(2), object(1)\n",
      "memory usage: 24.0+ MB\n"
     ]
    }
   ],
   "source": [
    "aprovados.info()"
   ]
  },
  {
   "cell_type": "code",
   "execution_count": 58,
   "metadata": {},
   "outputs": [],
   "source": [
    "aprovados = aprovados.rename(columns={'ID_Cliente': 'id_cliente',\n",
    "                                      'Mes_referencia': 'mes_referencia',\n",
    "                                      'Faixa_atraso': 'faixa_atraso'})"
   ]
  },
  {
   "cell_type": "code",
   "execution_count": 59,
   "metadata": {},
   "outputs": [
    {
     "data": {
      "text/html": [
       "<div>\n",
       "<style scoped>\n",
       "    .dataframe tbody tr th:only-of-type {\n",
       "        vertical-align: middle;\n",
       "    }\n",
       "\n",
       "    .dataframe tbody tr th {\n",
       "        vertical-align: top;\n",
       "    }\n",
       "\n",
       "    .dataframe thead th {\n",
       "        text-align: right;\n",
       "    }\n",
       "</style>\n",
       "<table border=\"1\" class=\"dataframe\">\n",
       "  <thead>\n",
       "    <tr style=\"text-align: right;\">\n",
       "      <th></th>\n",
       "      <th>id_cliente</th>\n",
       "      <th>mes_referencia</th>\n",
       "      <th>faixa_atraso</th>\n",
       "    </tr>\n",
       "  </thead>\n",
       "  <tbody>\n",
       "    <tr>\n",
       "      <th>0</th>\n",
       "      <td>5001711</td>\n",
       "      <td>0</td>\n",
       "      <td>nenhum empréstimo</td>\n",
       "    </tr>\n",
       "    <tr>\n",
       "      <th>1</th>\n",
       "      <td>5001711</td>\n",
       "      <td>-1</td>\n",
       "      <td>1-29 dias</td>\n",
       "    </tr>\n",
       "  </tbody>\n",
       "</table>\n",
       "</div>"
      ],
      "text/plain": [
       "   id_cliente  mes_referencia       faixa_atraso\n",
       "0     5001711               0  nenhum empréstimo\n",
       "1     5001711              -1          1-29 dias"
      ]
     },
     "execution_count": 59,
     "metadata": {},
     "output_type": "execute_result"
    }
   ],
   "source": [
    "aprovados.head(2)"
   ]
  },
  {
   "cell_type": "code",
   "execution_count": 60,
   "metadata": {},
   "outputs": [
    {
     "data": {
      "text/html": [
       "<div>\n",
       "<style scoped>\n",
       "    .dataframe tbody tr th:only-of-type {\n",
       "        vertical-align: middle;\n",
       "    }\n",
       "\n",
       "    .dataframe tbody tr th {\n",
       "        vertical-align: top;\n",
       "    }\n",
       "\n",
       "    .dataframe thead th {\n",
       "        text-align: right;\n",
       "    }\n",
       "</style>\n",
       "<table border=\"1\" class=\"dataframe\">\n",
       "  <thead>\n",
       "    <tr style=\"text-align: right;\">\n",
       "      <th></th>\n",
       "      <th>id_cliente</th>\n",
       "      <th>mes_referencia</th>\n",
       "      <th>faixa_atraso</th>\n",
       "    </tr>\n",
       "  </thead>\n",
       "  <tbody>\n",
       "    <tr>\n",
       "      <th>4</th>\n",
       "      <td>5001712</td>\n",
       "      <td>0</td>\n",
       "      <td>pagamento realizado</td>\n",
       "    </tr>\n",
       "    <tr>\n",
       "      <th>5</th>\n",
       "      <td>5001712</td>\n",
       "      <td>-1</td>\n",
       "      <td>pagamento realizado</td>\n",
       "    </tr>\n",
       "    <tr>\n",
       "      <th>6</th>\n",
       "      <td>5001712</td>\n",
       "      <td>-2</td>\n",
       "      <td>pagamento realizado</td>\n",
       "    </tr>\n",
       "    <tr>\n",
       "      <th>7</th>\n",
       "      <td>5001712</td>\n",
       "      <td>-3</td>\n",
       "      <td>pagamento realizado</td>\n",
       "    </tr>\n",
       "    <tr>\n",
       "      <th>8</th>\n",
       "      <td>5001712</td>\n",
       "      <td>-4</td>\n",
       "      <td>pagamento realizado</td>\n",
       "    </tr>\n",
       "    <tr>\n",
       "      <th>9</th>\n",
       "      <td>5001712</td>\n",
       "      <td>-5</td>\n",
       "      <td>pagamento realizado</td>\n",
       "    </tr>\n",
       "    <tr>\n",
       "      <th>10</th>\n",
       "      <td>5001712</td>\n",
       "      <td>-6</td>\n",
       "      <td>pagamento realizado</td>\n",
       "    </tr>\n",
       "    <tr>\n",
       "      <th>11</th>\n",
       "      <td>5001712</td>\n",
       "      <td>-7</td>\n",
       "      <td>pagamento realizado</td>\n",
       "    </tr>\n",
       "    <tr>\n",
       "      <th>12</th>\n",
       "      <td>5001712</td>\n",
       "      <td>-8</td>\n",
       "      <td>pagamento realizado</td>\n",
       "    </tr>\n",
       "    <tr>\n",
       "      <th>13</th>\n",
       "      <td>5001712</td>\n",
       "      <td>-9</td>\n",
       "      <td>1-29 dias</td>\n",
       "    </tr>\n",
       "    <tr>\n",
       "      <th>14</th>\n",
       "      <td>5001712</td>\n",
       "      <td>-10</td>\n",
       "      <td>1-29 dias</td>\n",
       "    </tr>\n",
       "    <tr>\n",
       "      <th>15</th>\n",
       "      <td>5001712</td>\n",
       "      <td>-11</td>\n",
       "      <td>1-29 dias</td>\n",
       "    </tr>\n",
       "    <tr>\n",
       "      <th>16</th>\n",
       "      <td>5001712</td>\n",
       "      <td>-12</td>\n",
       "      <td>1-29 dias</td>\n",
       "    </tr>\n",
       "    <tr>\n",
       "      <th>17</th>\n",
       "      <td>5001712</td>\n",
       "      <td>-13</td>\n",
       "      <td>1-29 dias</td>\n",
       "    </tr>\n",
       "    <tr>\n",
       "      <th>18</th>\n",
       "      <td>5001712</td>\n",
       "      <td>-14</td>\n",
       "      <td>1-29 dias</td>\n",
       "    </tr>\n",
       "    <tr>\n",
       "      <th>19</th>\n",
       "      <td>5001712</td>\n",
       "      <td>-15</td>\n",
       "      <td>1-29 dias</td>\n",
       "    </tr>\n",
       "    <tr>\n",
       "      <th>20</th>\n",
       "      <td>5001712</td>\n",
       "      <td>-16</td>\n",
       "      <td>1-29 dias</td>\n",
       "    </tr>\n",
       "    <tr>\n",
       "      <th>21</th>\n",
       "      <td>5001712</td>\n",
       "      <td>-17</td>\n",
       "      <td>1-29 dias</td>\n",
       "    </tr>\n",
       "    <tr>\n",
       "      <th>22</th>\n",
       "      <td>5001712</td>\n",
       "      <td>-18</td>\n",
       "      <td>1-29 dias</td>\n",
       "    </tr>\n",
       "  </tbody>\n",
       "</table>\n",
       "</div>"
      ],
      "text/plain": [
       "    id_cliente  mes_referencia         faixa_atraso\n",
       "4      5001712               0  pagamento realizado\n",
       "5      5001712              -1  pagamento realizado\n",
       "6      5001712              -2  pagamento realizado\n",
       "7      5001712              -3  pagamento realizado\n",
       "8      5001712              -4  pagamento realizado\n",
       "9      5001712              -5  pagamento realizado\n",
       "10     5001712              -6  pagamento realizado\n",
       "11     5001712              -7  pagamento realizado\n",
       "12     5001712              -8  pagamento realizado\n",
       "13     5001712              -9            1-29 dias\n",
       "14     5001712             -10            1-29 dias\n",
       "15     5001712             -11            1-29 dias\n",
       "16     5001712             -12            1-29 dias\n",
       "17     5001712             -13            1-29 dias\n",
       "18     5001712             -14            1-29 dias\n",
       "19     5001712             -15            1-29 dias\n",
       "20     5001712             -16            1-29 dias\n",
       "21     5001712             -17            1-29 dias\n",
       "22     5001712             -18            1-29 dias"
      ]
     },
     "execution_count": 60,
     "metadata": {},
     "output_type": "execute_result"
    }
   ],
   "source": [
    "aprovados.query('id_cliente == 5001712')"
   ]
  },
  {
   "cell_type": "code",
   "execution_count": 61,
   "metadata": {},
   "outputs": [
    {
     "data": {
      "text/html": [
       "<div>\n",
       "<style scoped>\n",
       "    .dataframe tbody tr th:only-of-type {\n",
       "        vertical-align: middle;\n",
       "    }\n",
       "\n",
       "    .dataframe tbody tr th {\n",
       "        vertical-align: top;\n",
       "    }\n",
       "\n",
       "    .dataframe thead th {\n",
       "        text-align: right;\n",
       "    }\n",
       "</style>\n",
       "<table border=\"1\" class=\"dataframe\">\n",
       "  <thead>\n",
       "    <tr style=\"text-align: right;\">\n",
       "      <th></th>\n",
       "      <th>id_cliente</th>\n",
       "      <th>mes_referencia</th>\n",
       "      <th>faixa_atraso</th>\n",
       "    </tr>\n",
       "  </thead>\n",
       "  <tbody>\n",
       "    <tr>\n",
       "      <th>0</th>\n",
       "      <td>5001711</td>\n",
       "      <td>0</td>\n",
       "      <td>nenhum empréstimo</td>\n",
       "    </tr>\n",
       "    <tr>\n",
       "      <th>1</th>\n",
       "      <td>5001711</td>\n",
       "      <td>-1</td>\n",
       "      <td>1-29 dias</td>\n",
       "    </tr>\n",
       "    <tr>\n",
       "      <th>2</th>\n",
       "      <td>5001711</td>\n",
       "      <td>-2</td>\n",
       "      <td>1-29 dias</td>\n",
       "    </tr>\n",
       "    <tr>\n",
       "      <th>3</th>\n",
       "      <td>5001711</td>\n",
       "      <td>-3</td>\n",
       "      <td>1-29 dias</td>\n",
       "    </tr>\n",
       "  </tbody>\n",
       "</table>\n",
       "</div>"
      ],
      "text/plain": [
       "   id_cliente  mes_referencia       faixa_atraso\n",
       "0     5001711               0  nenhum empréstimo\n",
       "1     5001711              -1          1-29 dias\n",
       "2     5001711              -2          1-29 dias\n",
       "3     5001711              -3          1-29 dias"
      ]
     },
     "execution_count": 61,
     "metadata": {},
     "output_type": "execute_result"
    }
   ],
   "source": [
    "aprovados.query('id_cliente == 5001711')"
   ]
  },
  {
   "cell_type": "code",
   "execution_count": 62,
   "metadata": {},
   "outputs": [
    {
     "data": {
      "text/plain": [
       "['pagamento realizado',\n",
       " '1-29 dias',\n",
       " 'nenhum empréstimo',\n",
       " '30-59 dias',\n",
       " '>150 dias',\n",
       " '60-89 dias',\n",
       " '90-119 dias',\n",
       " '120-149 dias']"
      ]
     },
     "execution_count": 62,
     "metadata": {},
     "output_type": "execute_result"
    }
   ],
   "source": [
    "aprovados.faixa_atraso.value_counts().index.to_list()"
   ]
  },
  {
   "cell_type": "code",
   "execution_count": 63,
   "metadata": {},
   "outputs": [
    {
     "name": "stderr",
     "output_type": "stream",
     "text": [
      "/var/folders/rx/b37fngts0v1fljw_kvgpxnpm0000gn/T/ipykernel_17999/273357217.py:2: DeprecationWarning: DataFrameGroupBy.apply operated on the grouping columns. This behavior is deprecated, and in a future version of pandas the grouping columns will be excluded from the operation. Either pass `include_groups=False` to exclude the groupings or explicitly select the grouping columns after groupby to silence this warning.\n",
      "  abertura_credito = registros_credito_agrupados_id.apply(lambda x: min(x['mes_referencia']))\n"
     ]
    },
    {
     "data": {
      "text/plain": [
       "id_cliente\n",
       "5001711    -3\n",
       "5001712   -18\n",
       "5001713   -21\n",
       "5001714   -14\n",
       "5001715   -59\n",
       "           ..\n",
       "5150482   -28\n",
       "5150483   -17\n",
       "5150484   -12\n",
       "5150485    -1\n",
       "5150487   -29\n",
       "Name: abertura, Length: 45985, dtype: int64"
      ]
     },
     "execution_count": 63,
     "metadata": {},
     "output_type": "execute_result"
    }
   ],
   "source": [
    "registros_credito_agrupados_id  = aprovados.groupby('id_cliente')\n",
    "abertura_credito = registros_credito_agrupados_id.apply(lambda x: min(x['mes_referencia']))\n",
    "abertura_credito.name = 'abertura'\n",
    "abertura_credito"
   ]
  },
  {
   "cell_type": "code",
   "execution_count": 64,
   "metadata": {},
   "outputs": [
    {
     "name": "stdout",
     "output_type": "stream",
     "text": [
      "<class 'pandas.core.series.Series'>\n",
      "Index: 45985 entries, 5001711 to 5150487\n",
      "Series name: abertura\n",
      "Non-Null Count  Dtype\n",
      "--------------  -----\n",
      "45985 non-null  int64\n",
      "dtypes: int64(1)\n",
      "memory usage: 718.5 KB\n"
     ]
    }
   ],
   "source": [
    "abertura_credito.info()"
   ]
  },
  {
   "cell_type": "code",
   "execution_count": 65,
   "metadata": {},
   "outputs": [
    {
     "data": {
      "text/html": [
       "<div>\n",
       "<style scoped>\n",
       "    .dataframe tbody tr th:only-of-type {\n",
       "        vertical-align: middle;\n",
       "    }\n",
       "\n",
       "    .dataframe tbody tr th {\n",
       "        vertical-align: top;\n",
       "    }\n",
       "\n",
       "    .dataframe thead th {\n",
       "        text-align: right;\n",
       "    }\n",
       "</style>\n",
       "<table border=\"1\" class=\"dataframe\">\n",
       "  <thead>\n",
       "    <tr style=\"text-align: right;\">\n",
       "      <th></th>\n",
       "      <th>id_cliente</th>\n",
       "      <th>mes_referencia</th>\n",
       "      <th>faixa_atraso</th>\n",
       "      <th>abertura</th>\n",
       "    </tr>\n",
       "  </thead>\n",
       "  <tbody>\n",
       "    <tr>\n",
       "      <th>0</th>\n",
       "      <td>5001711</td>\n",
       "      <td>0</td>\n",
       "      <td>nenhum empréstimo</td>\n",
       "      <td>-3</td>\n",
       "    </tr>\n",
       "    <tr>\n",
       "      <th>1</th>\n",
       "      <td>5001711</td>\n",
       "      <td>-1</td>\n",
       "      <td>1-29 dias</td>\n",
       "      <td>-3</td>\n",
       "    </tr>\n",
       "    <tr>\n",
       "      <th>2</th>\n",
       "      <td>5001711</td>\n",
       "      <td>-2</td>\n",
       "      <td>1-29 dias</td>\n",
       "      <td>-3</td>\n",
       "    </tr>\n",
       "    <tr>\n",
       "      <th>3</th>\n",
       "      <td>5001711</td>\n",
       "      <td>-3</td>\n",
       "      <td>1-29 dias</td>\n",
       "      <td>-3</td>\n",
       "    </tr>\n",
       "    <tr>\n",
       "      <th>4</th>\n",
       "      <td>5001712</td>\n",
       "      <td>0</td>\n",
       "      <td>pagamento realizado</td>\n",
       "      <td>-18</td>\n",
       "    </tr>\n",
       "  </tbody>\n",
       "</table>\n",
       "</div>"
      ],
      "text/plain": [
       "   id_cliente  mes_referencia         faixa_atraso  abertura\n",
       "0     5001711               0    nenhum empréstimo        -3\n",
       "1     5001711              -1            1-29 dias        -3\n",
       "2     5001711              -2            1-29 dias        -3\n",
       "3     5001711              -3            1-29 dias        -3\n",
       "4     5001712               0  pagamento realizado       -18"
      ]
     },
     "execution_count": 65,
     "metadata": {},
     "output_type": "execute_result"
    }
   ],
   "source": [
    "clientes_aprovados = aprovados.merge(abertura_credito, on='id_cliente')\n",
    "clientes_aprovados.head()"
   ]
  },
  {
   "cell_type": "code",
   "execution_count": 66,
   "metadata": {},
   "outputs": [
    {
     "name": "stderr",
     "output_type": "stream",
     "text": [
      "/var/folders/rx/b37fngts0v1fljw_kvgpxnpm0000gn/T/ipykernel_17999/4026752963.py:1: DeprecationWarning: DataFrameGroupBy.apply operated on the grouping columns. This behavior is deprecated, and in a future version of pandas the grouping columns will be excluded from the operation. Either pass `include_groups=False` to exclude the groupings or explicitly select the grouping columns after groupby to silence this warning.\n",
      "  credito_final = registros_credito_agrupados_id.apply(lambda x: max(x['mes_referencia']))\n"
     ]
    },
    {
     "data": {
      "text/plain": [
       "id_cliente\n",
       "5001711     0\n",
       "5001712     0\n",
       "5001713     0\n",
       "5001714     0\n",
       "5001715     0\n",
       "           ..\n",
       "5150482   -11\n",
       "5150483     0\n",
       "5150484     0\n",
       "5150485     0\n",
       "5150487     0\n",
       "Name: final, Length: 45985, dtype: int64"
      ]
     },
     "execution_count": 66,
     "metadata": {},
     "output_type": "execute_result"
    }
   ],
   "source": [
    "credito_final = registros_credito_agrupados_id.apply(lambda x: max(x['mes_referencia']))\n",
    "credito_final.name = 'final'\n",
    "credito_final"
   ]
  },
  {
   "cell_type": "code",
   "execution_count": 67,
   "metadata": {},
   "outputs": [
    {
     "data": {
      "text/html": [
       "<div>\n",
       "<style scoped>\n",
       "    .dataframe tbody tr th:only-of-type {\n",
       "        vertical-align: middle;\n",
       "    }\n",
       "\n",
       "    .dataframe tbody tr th {\n",
       "        vertical-align: top;\n",
       "    }\n",
       "\n",
       "    .dataframe thead th {\n",
       "        text-align: right;\n",
       "    }\n",
       "</style>\n",
       "<table border=\"1\" class=\"dataframe\">\n",
       "  <thead>\n",
       "    <tr style=\"text-align: right;\">\n",
       "      <th></th>\n",
       "      <th>id_cliente</th>\n",
       "      <th>mes_referencia</th>\n",
       "      <th>faixa_atraso</th>\n",
       "      <th>abertura</th>\n",
       "      <th>final</th>\n",
       "    </tr>\n",
       "  </thead>\n",
       "  <tbody>\n",
       "    <tr>\n",
       "      <th>0</th>\n",
       "      <td>5001711</td>\n",
       "      <td>0</td>\n",
       "      <td>nenhum empréstimo</td>\n",
       "      <td>-3</td>\n",
       "      <td>0</td>\n",
       "    </tr>\n",
       "    <tr>\n",
       "      <th>1</th>\n",
       "      <td>5001711</td>\n",
       "      <td>-1</td>\n",
       "      <td>1-29 dias</td>\n",
       "      <td>-3</td>\n",
       "      <td>0</td>\n",
       "    </tr>\n",
       "    <tr>\n",
       "      <th>2</th>\n",
       "      <td>5001711</td>\n",
       "      <td>-2</td>\n",
       "      <td>1-29 dias</td>\n",
       "      <td>-3</td>\n",
       "      <td>0</td>\n",
       "    </tr>\n",
       "    <tr>\n",
       "      <th>3</th>\n",
       "      <td>5001711</td>\n",
       "      <td>-3</td>\n",
       "      <td>1-29 dias</td>\n",
       "      <td>-3</td>\n",
       "      <td>0</td>\n",
       "    </tr>\n",
       "    <tr>\n",
       "      <th>4</th>\n",
       "      <td>5001712</td>\n",
       "      <td>0</td>\n",
       "      <td>pagamento realizado</td>\n",
       "      <td>-18</td>\n",
       "      <td>0</td>\n",
       "    </tr>\n",
       "  </tbody>\n",
       "</table>\n",
       "</div>"
      ],
      "text/plain": [
       "   id_cliente  mes_referencia         faixa_atraso  abertura  final\n",
       "0     5001711               0    nenhum empréstimo        -3      0\n",
       "1     5001711              -1            1-29 dias        -3      0\n",
       "2     5001711              -2            1-29 dias        -3      0\n",
       "3     5001711              -3            1-29 dias        -3      0\n",
       "4     5001712               0  pagamento realizado       -18      0"
      ]
     },
     "execution_count": 67,
     "metadata": {},
     "output_type": "execute_result"
    }
   ],
   "source": [
    "clientes_aprovados = clientes_aprovados.merge(credito_final, on='id_cliente')\n",
    "clientes_aprovados.head()"
   ]
  },
  {
   "cell_type": "code",
   "execution_count": 68,
   "metadata": {},
   "outputs": [
    {
     "data": {
      "text/html": [
       "<div>\n",
       "<style scoped>\n",
       "    .dataframe tbody tr th:only-of-type {\n",
       "        vertical-align: middle;\n",
       "    }\n",
       "\n",
       "    .dataframe tbody tr th {\n",
       "        vertical-align: top;\n",
       "    }\n",
       "\n",
       "    .dataframe thead th {\n",
       "        text-align: right;\n",
       "    }\n",
       "</style>\n",
       "<table border=\"1\" class=\"dataframe\">\n",
       "  <thead>\n",
       "    <tr style=\"text-align: right;\">\n",
       "      <th></th>\n",
       "      <th>id_cliente</th>\n",
       "      <th>mes_referencia</th>\n",
       "      <th>faixa_atraso</th>\n",
       "      <th>abertura</th>\n",
       "      <th>final</th>\n",
       "      <th>janela</th>\n",
       "    </tr>\n",
       "  </thead>\n",
       "  <tbody>\n",
       "    <tr>\n",
       "      <th>0</th>\n",
       "      <td>5001711</td>\n",
       "      <td>0</td>\n",
       "      <td>nenhum empréstimo</td>\n",
       "      <td>-3</td>\n",
       "      <td>0</td>\n",
       "      <td>3</td>\n",
       "    </tr>\n",
       "    <tr>\n",
       "      <th>1</th>\n",
       "      <td>5001711</td>\n",
       "      <td>-1</td>\n",
       "      <td>1-29 dias</td>\n",
       "      <td>-3</td>\n",
       "      <td>0</td>\n",
       "      <td>3</td>\n",
       "    </tr>\n",
       "    <tr>\n",
       "      <th>2</th>\n",
       "      <td>5001711</td>\n",
       "      <td>-2</td>\n",
       "      <td>1-29 dias</td>\n",
       "      <td>-3</td>\n",
       "      <td>0</td>\n",
       "      <td>3</td>\n",
       "    </tr>\n",
       "    <tr>\n",
       "      <th>3</th>\n",
       "      <td>5001711</td>\n",
       "      <td>-3</td>\n",
       "      <td>1-29 dias</td>\n",
       "      <td>-3</td>\n",
       "      <td>0</td>\n",
       "      <td>3</td>\n",
       "    </tr>\n",
       "    <tr>\n",
       "      <th>4</th>\n",
       "      <td>5001712</td>\n",
       "      <td>0</td>\n",
       "      <td>pagamento realizado</td>\n",
       "      <td>-18</td>\n",
       "      <td>0</td>\n",
       "      <td>18</td>\n",
       "    </tr>\n",
       "  </tbody>\n",
       "</table>\n",
       "</div>"
      ],
      "text/plain": [
       "   id_cliente  mes_referencia         faixa_atraso  abertura  final  janela\n",
       "0     5001711               0    nenhum empréstimo        -3      0       3\n",
       "1     5001711              -1            1-29 dias        -3      0       3\n",
       "2     5001711              -2            1-29 dias        -3      0       3\n",
       "3     5001711              -3            1-29 dias        -3      0       3\n",
       "4     5001712               0  pagamento realizado       -18      0      18"
      ]
     },
     "execution_count": 68,
     "metadata": {},
     "output_type": "execute_result"
    }
   ],
   "source": [
    "clientes_aprovados['janela'] = clientes_aprovados['final'] - clientes_aprovados['abertura']\n",
    "clientes_aprovados.head()"
   ]
  },
  {
   "cell_type": "code",
   "execution_count": 69,
   "metadata": {},
   "outputs": [
    {
     "data": {
      "text/html": [
       "<div>\n",
       "<style scoped>\n",
       "    .dataframe tbody tr th:only-of-type {\n",
       "        vertical-align: middle;\n",
       "    }\n",
       "\n",
       "    .dataframe tbody tr th {\n",
       "        vertical-align: top;\n",
       "    }\n",
       "\n",
       "    .dataframe thead th {\n",
       "        text-align: right;\n",
       "    }\n",
       "</style>\n",
       "<table border=\"1\" class=\"dataframe\">\n",
       "  <thead>\n",
       "    <tr style=\"text-align: right;\">\n",
       "      <th></th>\n",
       "      <th>id_cliente</th>\n",
       "      <th>mes_referencia</th>\n",
       "      <th>faixa_atraso</th>\n",
       "      <th>abertura</th>\n",
       "      <th>final</th>\n",
       "      <th>janela</th>\n",
       "      <th>MOB</th>\n",
       "    </tr>\n",
       "  </thead>\n",
       "  <tbody>\n",
       "    <tr>\n",
       "      <th>0</th>\n",
       "      <td>5001711</td>\n",
       "      <td>0</td>\n",
       "      <td>nenhum empréstimo</td>\n",
       "      <td>-3</td>\n",
       "      <td>0</td>\n",
       "      <td>3</td>\n",
       "      <td>3</td>\n",
       "    </tr>\n",
       "    <tr>\n",
       "      <th>1</th>\n",
       "      <td>5001711</td>\n",
       "      <td>-1</td>\n",
       "      <td>1-29 dias</td>\n",
       "      <td>-3</td>\n",
       "      <td>0</td>\n",
       "      <td>3</td>\n",
       "      <td>2</td>\n",
       "    </tr>\n",
       "    <tr>\n",
       "      <th>2</th>\n",
       "      <td>5001711</td>\n",
       "      <td>-2</td>\n",
       "      <td>1-29 dias</td>\n",
       "      <td>-3</td>\n",
       "      <td>0</td>\n",
       "      <td>3</td>\n",
       "      <td>1</td>\n",
       "    </tr>\n",
       "    <tr>\n",
       "      <th>3</th>\n",
       "      <td>5001711</td>\n",
       "      <td>-3</td>\n",
       "      <td>1-29 dias</td>\n",
       "      <td>-3</td>\n",
       "      <td>0</td>\n",
       "      <td>3</td>\n",
       "      <td>0</td>\n",
       "    </tr>\n",
       "    <tr>\n",
       "      <th>4</th>\n",
       "      <td>5001712</td>\n",
       "      <td>0</td>\n",
       "      <td>pagamento realizado</td>\n",
       "      <td>-18</td>\n",
       "      <td>0</td>\n",
       "      <td>18</td>\n",
       "      <td>18</td>\n",
       "    </tr>\n",
       "  </tbody>\n",
       "</table>\n",
       "</div>"
      ],
      "text/plain": [
       "   id_cliente  mes_referencia         faixa_atraso  abertura  final  janela  \\\n",
       "0     5001711               0    nenhum empréstimo        -3      0       3   \n",
       "1     5001711              -1            1-29 dias        -3      0       3   \n",
       "2     5001711              -2            1-29 dias        -3      0       3   \n",
       "3     5001711              -3            1-29 dias        -3      0       3   \n",
       "4     5001712               0  pagamento realizado       -18      0      18   \n",
       "\n",
       "   MOB  \n",
       "0    3  \n",
       "1    2  \n",
       "2    1  \n",
       "3    0  \n",
       "4   18  "
      ]
     },
     "execution_count": 69,
     "metadata": {},
     "output_type": "execute_result"
    }
   ],
   "source": [
    "clientes_aprovados['MOB'] = clientes_aprovados['mes_referencia'] - clientes_aprovados['abertura']\n",
    "clientes_aprovados.head()"
   ]
  },
  {
   "cell_type": "code",
   "execution_count": 70,
   "metadata": {},
   "outputs": [
    {
     "data": {
      "text/plain": [
       "array(['nenhum empréstimo', '1-29 dias', 'pagamento realizado',\n",
       "       '30-59 dias', '60-89 dias', '90-119 dias', '120-149 dias',\n",
       "       '>150 dias'], dtype=object)"
      ]
     },
     "execution_count": 70,
     "metadata": {},
     "output_type": "execute_result"
    }
   ],
   "source": [
    "clientes_aprovados['faixa_atraso'].unique()"
   ]
  },
  {
   "cell_type": "code",
   "execution_count": 71,
   "metadata": {},
   "outputs": [],
   "source": [
    "dict_faixa_atraso = {'nenhum empréstimo': 0,\n",
    "                     'pagamento realizado': 1,\n",
    "                     '1-29 dias': 2,\n",
    "                     '30-59 dias': 3,\n",
    "                     '60-89 dias': 4,\n",
    "                     '90-119 dias': 5,\n",
    "                     '120-149 dias': 6,\n",
    "                     '>150 dias': 7}"
   ]
  },
  {
   "cell_type": "code",
   "execution_count": 72,
   "metadata": {},
   "outputs": [
    {
     "data": {
      "text/html": [
       "<div>\n",
       "<style scoped>\n",
       "    .dataframe tbody tr th:only-of-type {\n",
       "        vertical-align: middle;\n",
       "    }\n",
       "\n",
       "    .dataframe tbody tr th {\n",
       "        vertical-align: top;\n",
       "    }\n",
       "\n",
       "    .dataframe thead th {\n",
       "        text-align: right;\n",
       "    }\n",
       "</style>\n",
       "<table border=\"1\" class=\"dataframe\">\n",
       "  <thead>\n",
       "    <tr style=\"text-align: right;\">\n",
       "      <th></th>\n",
       "      <th>id_cliente</th>\n",
       "      <th>mes_referencia</th>\n",
       "      <th>faixa_atraso</th>\n",
       "      <th>abertura</th>\n",
       "      <th>final</th>\n",
       "      <th>janela</th>\n",
       "      <th>MOB</th>\n",
       "      <th>indicador_faixa_atraso</th>\n",
       "    </tr>\n",
       "  </thead>\n",
       "  <tbody>\n",
       "    <tr>\n",
       "      <th>0</th>\n",
       "      <td>5001711</td>\n",
       "      <td>0</td>\n",
       "      <td>nenhum empréstimo</td>\n",
       "      <td>-3</td>\n",
       "      <td>0</td>\n",
       "      <td>3</td>\n",
       "      <td>3</td>\n",
       "      <td>0</td>\n",
       "    </tr>\n",
       "    <tr>\n",
       "      <th>1</th>\n",
       "      <td>5001711</td>\n",
       "      <td>-1</td>\n",
       "      <td>1-29 dias</td>\n",
       "      <td>-3</td>\n",
       "      <td>0</td>\n",
       "      <td>3</td>\n",
       "      <td>2</td>\n",
       "      <td>2</td>\n",
       "    </tr>\n",
       "    <tr>\n",
       "      <th>2</th>\n",
       "      <td>5001711</td>\n",
       "      <td>-2</td>\n",
       "      <td>1-29 dias</td>\n",
       "      <td>-3</td>\n",
       "      <td>0</td>\n",
       "      <td>3</td>\n",
       "      <td>1</td>\n",
       "      <td>2</td>\n",
       "    </tr>\n",
       "    <tr>\n",
       "      <th>3</th>\n",
       "      <td>5001711</td>\n",
       "      <td>-3</td>\n",
       "      <td>1-29 dias</td>\n",
       "      <td>-3</td>\n",
       "      <td>0</td>\n",
       "      <td>3</td>\n",
       "      <td>0</td>\n",
       "      <td>2</td>\n",
       "    </tr>\n",
       "    <tr>\n",
       "      <th>4</th>\n",
       "      <td>5001712</td>\n",
       "      <td>0</td>\n",
       "      <td>pagamento realizado</td>\n",
       "      <td>-18</td>\n",
       "      <td>0</td>\n",
       "      <td>18</td>\n",
       "      <td>18</td>\n",
       "      <td>1</td>\n",
       "    </tr>\n",
       "  </tbody>\n",
       "</table>\n",
       "</div>"
      ],
      "text/plain": [
       "   id_cliente  mes_referencia         faixa_atraso  abertura  final  janela  \\\n",
       "0     5001711               0    nenhum empréstimo        -3      0       3   \n",
       "1     5001711              -1            1-29 dias        -3      0       3   \n",
       "2     5001711              -2            1-29 dias        -3      0       3   \n",
       "3     5001711              -3            1-29 dias        -3      0       3   \n",
       "4     5001712               0  pagamento realizado       -18      0      18   \n",
       "\n",
       "   MOB  indicador_faixa_atraso  \n",
       "0    3                       0  \n",
       "1    2                       2  \n",
       "2    1                       2  \n",
       "3    0                       2  \n",
       "4   18                       1  "
      ]
     },
     "execution_count": 72,
     "metadata": {},
     "output_type": "execute_result"
    }
   ],
   "source": [
    "clientes_aprovados['indicador_faixa_atraso'] = clientes_aprovados['faixa_atraso'].map(dict_faixa_atraso)\n",
    "clientes_aprovados.head()"
   ]
  },
  {
   "cell_type": "code",
   "execution_count": 73,
   "metadata": {},
   "outputs": [],
   "source": [
    "clientes_aprovados['mau_pagador'] = clientes_aprovados.apply(lambda x: 1 if x['indicador_faixa_atraso'] >3 else 0, axis=1)"
   ]
  },
  {
   "cell_type": "code",
   "execution_count": 74,
   "metadata": {},
   "outputs": [
    {
     "data": {
      "text/html": [
       "<div>\n",
       "<style scoped>\n",
       "    .dataframe tbody tr th:only-of-type {\n",
       "        vertical-align: middle;\n",
       "    }\n",
       "\n",
       "    .dataframe tbody tr th {\n",
       "        vertical-align: top;\n",
       "    }\n",
       "\n",
       "    .dataframe thead th {\n",
       "        text-align: right;\n",
       "    }\n",
       "</style>\n",
       "<table border=\"1\" class=\"dataframe\">\n",
       "  <thead>\n",
       "    <tr style=\"text-align: right;\">\n",
       "      <th></th>\n",
       "      <th>id_cliente</th>\n",
       "      <th>mes_referencia</th>\n",
       "      <th>faixa_atraso</th>\n",
       "      <th>abertura</th>\n",
       "      <th>final</th>\n",
       "      <th>janela</th>\n",
       "      <th>MOB</th>\n",
       "      <th>indicador_faixa_atraso</th>\n",
       "      <th>mau_pagador</th>\n",
       "    </tr>\n",
       "  </thead>\n",
       "  <tbody>\n",
       "    <tr>\n",
       "      <th>0</th>\n",
       "      <td>5001711</td>\n",
       "      <td>0</td>\n",
       "      <td>nenhum empréstimo</td>\n",
       "      <td>-3</td>\n",
       "      <td>0</td>\n",
       "      <td>3</td>\n",
       "      <td>3</td>\n",
       "      <td>0</td>\n",
       "      <td>0</td>\n",
       "    </tr>\n",
       "    <tr>\n",
       "      <th>1</th>\n",
       "      <td>5001711</td>\n",
       "      <td>-1</td>\n",
       "      <td>1-29 dias</td>\n",
       "      <td>-3</td>\n",
       "      <td>0</td>\n",
       "      <td>3</td>\n",
       "      <td>2</td>\n",
       "      <td>2</td>\n",
       "      <td>0</td>\n",
       "    </tr>\n",
       "    <tr>\n",
       "      <th>2</th>\n",
       "      <td>5001711</td>\n",
       "      <td>-2</td>\n",
       "      <td>1-29 dias</td>\n",
       "      <td>-3</td>\n",
       "      <td>0</td>\n",
       "      <td>3</td>\n",
       "      <td>1</td>\n",
       "      <td>2</td>\n",
       "      <td>0</td>\n",
       "    </tr>\n",
       "    <tr>\n",
       "      <th>3</th>\n",
       "      <td>5001711</td>\n",
       "      <td>-3</td>\n",
       "      <td>1-29 dias</td>\n",
       "      <td>-3</td>\n",
       "      <td>0</td>\n",
       "      <td>3</td>\n",
       "      <td>0</td>\n",
       "      <td>2</td>\n",
       "      <td>0</td>\n",
       "    </tr>\n",
       "    <tr>\n",
       "      <th>4</th>\n",
       "      <td>5001712</td>\n",
       "      <td>0</td>\n",
       "      <td>pagamento realizado</td>\n",
       "      <td>-18</td>\n",
       "      <td>0</td>\n",
       "      <td>18</td>\n",
       "      <td>18</td>\n",
       "      <td>1</td>\n",
       "      <td>0</td>\n",
       "    </tr>\n",
       "  </tbody>\n",
       "</table>\n",
       "</div>"
      ],
      "text/plain": [
       "   id_cliente  mes_referencia         faixa_atraso  abertura  final  janela  \\\n",
       "0     5001711               0    nenhum empréstimo        -3      0       3   \n",
       "1     5001711              -1            1-29 dias        -3      0       3   \n",
       "2     5001711              -2            1-29 dias        -3      0       3   \n",
       "3     5001711              -3            1-29 dias        -3      0       3   \n",
       "4     5001712               0  pagamento realizado       -18      0      18   \n",
       "\n",
       "   MOB  indicador_faixa_atraso  mau_pagador  \n",
       "0    3                       0            0  \n",
       "1    2                       2            0  \n",
       "2    1                       2            0  \n",
       "3    0                       2            0  \n",
       "4   18                       1            0  "
      ]
     },
     "execution_count": 74,
     "metadata": {},
     "output_type": "execute_result"
    }
   ],
   "source": [
    "clientes_aprovados.head()"
   ]
  },
  {
   "cell_type": "code",
   "execution_count": 75,
   "metadata": {},
   "outputs": [
    {
     "data": {
      "text/plain": [
       "mau_pagador\n",
       "0    99.703979\n",
       "1     0.296021\n",
       "Name: proportion, dtype: float64"
      ]
     },
     "execution_count": 75,
     "metadata": {},
     "output_type": "execute_result"
    }
   ],
   "source": [
    "clientes_aprovados['mau_pagador'].value_counts(normalize=True)*100"
   ]
  },
  {
   "cell_type": "code",
   "execution_count": 76,
   "metadata": {},
   "outputs": [
    {
     "name": "stderr",
     "output_type": "stream",
     "text": [
      "/var/folders/rx/b37fngts0v1fljw_kvgpxnpm0000gn/T/ipykernel_17999/2096997643.py:2: DeprecationWarning: DataFrameGroupBy.apply operated on the grouping columns. This behavior is deprecated, and in a future version of pandas the grouping columns will be excluded from the operation. Either pass `include_groups=False` to exclude the groupings or explicitly select the grouping columns after groupby to silence this warning.\n",
      "  'janela']].groupby('id_cliente').apply(lambda x: x.iloc[0]).reset_index(drop=True)\n"
     ]
    }
   ],
   "source": [
    "registros_credito_id = clientes_aprovados[['id_cliente', 'abertura', 'final', \n",
    "                                           'janela']].groupby('id_cliente').apply(lambda x: x.iloc[0]).reset_index(drop=True)"
   ]
  },
  {
   "cell_type": "code",
   "execution_count": 77,
   "metadata": {},
   "outputs": [
    {
     "data": {
      "text/html": [
       "<div>\n",
       "<style scoped>\n",
       "    .dataframe tbody tr th:only-of-type {\n",
       "        vertical-align: middle;\n",
       "    }\n",
       "\n",
       "    .dataframe tbody tr th {\n",
       "        vertical-align: top;\n",
       "    }\n",
       "\n",
       "    .dataframe thead th {\n",
       "        text-align: right;\n",
       "    }\n",
       "</style>\n",
       "<table border=\"1\" class=\"dataframe\">\n",
       "  <thead>\n",
       "    <tr style=\"text-align: right;\">\n",
       "      <th></th>\n",
       "      <th>id_cliente</th>\n",
       "      <th>abertura</th>\n",
       "      <th>final</th>\n",
       "      <th>janela</th>\n",
       "    </tr>\n",
       "  </thead>\n",
       "  <tbody>\n",
       "    <tr>\n",
       "      <th>0</th>\n",
       "      <td>5001711</td>\n",
       "      <td>-3</td>\n",
       "      <td>0</td>\n",
       "      <td>3</td>\n",
       "    </tr>\n",
       "    <tr>\n",
       "      <th>1</th>\n",
       "      <td>5001712</td>\n",
       "      <td>-18</td>\n",
       "      <td>0</td>\n",
       "      <td>18</td>\n",
       "    </tr>\n",
       "    <tr>\n",
       "      <th>2</th>\n",
       "      <td>5001713</td>\n",
       "      <td>-21</td>\n",
       "      <td>0</td>\n",
       "      <td>21</td>\n",
       "    </tr>\n",
       "    <tr>\n",
       "      <th>3</th>\n",
       "      <td>5001714</td>\n",
       "      <td>-14</td>\n",
       "      <td>0</td>\n",
       "      <td>14</td>\n",
       "    </tr>\n",
       "    <tr>\n",
       "      <th>4</th>\n",
       "      <td>5001715</td>\n",
       "      <td>-59</td>\n",
       "      <td>0</td>\n",
       "      <td>59</td>\n",
       "    </tr>\n",
       "    <tr>\n",
       "      <th>...</th>\n",
       "      <td>...</td>\n",
       "      <td>...</td>\n",
       "      <td>...</td>\n",
       "      <td>...</td>\n",
       "    </tr>\n",
       "    <tr>\n",
       "      <th>45980</th>\n",
       "      <td>5150482</td>\n",
       "      <td>-28</td>\n",
       "      <td>-11</td>\n",
       "      <td>17</td>\n",
       "    </tr>\n",
       "    <tr>\n",
       "      <th>45981</th>\n",
       "      <td>5150483</td>\n",
       "      <td>-17</td>\n",
       "      <td>0</td>\n",
       "      <td>17</td>\n",
       "    </tr>\n",
       "    <tr>\n",
       "      <th>45982</th>\n",
       "      <td>5150484</td>\n",
       "      <td>-12</td>\n",
       "      <td>0</td>\n",
       "      <td>12</td>\n",
       "    </tr>\n",
       "    <tr>\n",
       "      <th>45983</th>\n",
       "      <td>5150485</td>\n",
       "      <td>-1</td>\n",
       "      <td>0</td>\n",
       "      <td>1</td>\n",
       "    </tr>\n",
       "    <tr>\n",
       "      <th>45984</th>\n",
       "      <td>5150487</td>\n",
       "      <td>-29</td>\n",
       "      <td>0</td>\n",
       "      <td>29</td>\n",
       "    </tr>\n",
       "  </tbody>\n",
       "</table>\n",
       "<p>45985 rows × 4 columns</p>\n",
       "</div>"
      ],
      "text/plain": [
       "       id_cliente  abertura  final  janela\n",
       "0         5001711        -3      0       3\n",
       "1         5001712       -18      0      18\n",
       "2         5001713       -21      0      21\n",
       "3         5001714       -14      0      14\n",
       "4         5001715       -59      0      59\n",
       "...           ...       ...    ...     ...\n",
       "45980     5150482       -28    -11      17\n",
       "45981     5150483       -17      0      17\n",
       "45982     5150484       -12      0      12\n",
       "45983     5150485        -1      0       1\n",
       "45984     5150487       -29      0      29\n",
       "\n",
       "[45985 rows x 4 columns]"
      ]
     },
     "execution_count": 77,
     "metadata": {},
     "output_type": "execute_result"
    }
   ],
   "source": [
    "registros_credito_id"
   ]
  },
  {
   "cell_type": "code",
   "execution_count": 78,
   "metadata": {},
   "outputs": [
    {
     "name": "stderr",
     "output_type": "stream",
     "text": [
      "/var/folders/rx/b37fngts0v1fljw_kvgpxnpm0000gn/T/ipykernel_17999/1200785384.py:1: DeprecationWarning: DataFrameGroupBy.apply operated on the grouping columns. This behavior is deprecated, and in a future version of pandas the grouping columns will be excluded from the operation. Either pass `include_groups=False` to exclude the groupings or explicitly select the grouping columns after groupby to silence this warning.\n",
      "  denominador = registros_credito_id.groupby('abertura').apply(lambda x: x['id_cliente'].count()).reset_index()\n"
     ]
    },
    {
     "data": {
      "text/html": [
       "<div>\n",
       "<style scoped>\n",
       "    .dataframe tbody tr th:only-of-type {\n",
       "        vertical-align: middle;\n",
       "    }\n",
       "\n",
       "    .dataframe tbody tr th {\n",
       "        vertical-align: top;\n",
       "    }\n",
       "\n",
       "    .dataframe thead th {\n",
       "        text-align: right;\n",
       "    }\n",
       "</style>\n",
       "<table border=\"1\" class=\"dataframe\">\n",
       "  <thead>\n",
       "    <tr style=\"text-align: right;\">\n",
       "      <th></th>\n",
       "      <th>abertura</th>\n",
       "      <th>qtd_clientes</th>\n",
       "    </tr>\n",
       "  </thead>\n",
       "  <tbody>\n",
       "    <tr>\n",
       "      <th>0</th>\n",
       "      <td>-60</td>\n",
       "      <td>415</td>\n",
       "    </tr>\n",
       "    <tr>\n",
       "      <th>1</th>\n",
       "      <td>-59</td>\n",
       "      <td>406</td>\n",
       "    </tr>\n",
       "    <tr>\n",
       "      <th>2</th>\n",
       "      <td>-58</td>\n",
       "      <td>440</td>\n",
       "    </tr>\n",
       "    <tr>\n",
       "      <th>3</th>\n",
       "      <td>-57</td>\n",
       "      <td>400</td>\n",
       "    </tr>\n",
       "    <tr>\n",
       "      <th>4</th>\n",
       "      <td>-56</td>\n",
       "      <td>470</td>\n",
       "    </tr>\n",
       "    <tr>\n",
       "      <th>...</th>\n",
       "      <td>...</td>\n",
       "      <td>...</td>\n",
       "    </tr>\n",
       "    <tr>\n",
       "      <th>56</th>\n",
       "      <td>-4</td>\n",
       "      <td>874</td>\n",
       "    </tr>\n",
       "    <tr>\n",
       "      <th>57</th>\n",
       "      <td>-3</td>\n",
       "      <td>919</td>\n",
       "    </tr>\n",
       "    <tr>\n",
       "      <th>58</th>\n",
       "      <td>-2</td>\n",
       "      <td>771</td>\n",
       "    </tr>\n",
       "    <tr>\n",
       "      <th>59</th>\n",
       "      <td>-1</td>\n",
       "      <td>686</td>\n",
       "    </tr>\n",
       "    <tr>\n",
       "      <th>60</th>\n",
       "      <td>0</td>\n",
       "      <td>370</td>\n",
       "    </tr>\n",
       "  </tbody>\n",
       "</table>\n",
       "<p>61 rows × 2 columns</p>\n",
       "</div>"
      ],
      "text/plain": [
       "    abertura  qtd_clientes\n",
       "0        -60           415\n",
       "1        -59           406\n",
       "2        -58           440\n",
       "3        -57           400\n",
       "4        -56           470\n",
       "..       ...           ...\n",
       "56        -4           874\n",
       "57        -3           919\n",
       "58        -2           771\n",
       "59        -1           686\n",
       "60         0           370\n",
       "\n",
       "[61 rows x 2 columns]"
      ]
     },
     "execution_count": 78,
     "metadata": {},
     "output_type": "execute_result"
    }
   ],
   "source": [
    "denominador = registros_credito_id.groupby('abertura').apply(lambda x: x['id_cliente'].count()).reset_index()\n",
    "denominador.columns = ['abertura', 'qtd_clientes']\n",
    "denominador"
   ]
  },
  {
   "cell_type": "code",
   "execution_count": 79,
   "metadata": {},
   "outputs": [
    {
     "name": "stderr",
     "output_type": "stream",
     "text": [
      "/var/folders/rx/b37fngts0v1fljw_kvgpxnpm0000gn/T/ipykernel_17999/1152245337.py:1: DeprecationWarning: DataFrameGroupBy.apply operated on the grouping columns. This behavior is deprecated, and in a future version of pandas the grouping columns will be excluded from the operation. Either pass `include_groups=False` to exclude the groupings or explicitly select the grouping columns after groupby to silence this warning.\n",
      "  vintage = clientes_aprovados.groupby(['abertura', 'MOB']).apply(lambda x: x['id_cliente'].count()).reset_index()\n"
     ]
    },
    {
     "data": {
      "text/html": [
       "<div>\n",
       "<style scoped>\n",
       "    .dataframe tbody tr th:only-of-type {\n",
       "        vertical-align: middle;\n",
       "    }\n",
       "\n",
       "    .dataframe tbody tr th {\n",
       "        vertical-align: top;\n",
       "    }\n",
       "\n",
       "    .dataframe thead th {\n",
       "        text-align: right;\n",
       "    }\n",
       "</style>\n",
       "<table border=\"1\" class=\"dataframe\">\n",
       "  <thead>\n",
       "    <tr style=\"text-align: right;\">\n",
       "      <th></th>\n",
       "      <th>abertura</th>\n",
       "      <th>MOB</th>\n",
       "      <th>qtd_clientes</th>\n",
       "    </tr>\n",
       "  </thead>\n",
       "  <tbody>\n",
       "    <tr>\n",
       "      <th>0</th>\n",
       "      <td>-60</td>\n",
       "      <td>0</td>\n",
       "      <td>415</td>\n",
       "    </tr>\n",
       "    <tr>\n",
       "      <th>1</th>\n",
       "      <td>-60</td>\n",
       "      <td>1</td>\n",
       "      <td>414</td>\n",
       "    </tr>\n",
       "    <tr>\n",
       "      <th>2</th>\n",
       "      <td>-60</td>\n",
       "      <td>2</td>\n",
       "      <td>410</td>\n",
       "    </tr>\n",
       "    <tr>\n",
       "      <th>3</th>\n",
       "      <td>-60</td>\n",
       "      <td>3</td>\n",
       "      <td>408</td>\n",
       "    </tr>\n",
       "    <tr>\n",
       "      <th>4</th>\n",
       "      <td>-60</td>\n",
       "      <td>4</td>\n",
       "      <td>403</td>\n",
       "    </tr>\n",
       "    <tr>\n",
       "      <th>...</th>\n",
       "      <td>...</td>\n",
       "      <td>...</td>\n",
       "      <td>...</td>\n",
       "    </tr>\n",
       "    <tr>\n",
       "      <th>1886</th>\n",
       "      <td>-2</td>\n",
       "      <td>1</td>\n",
       "      <td>770</td>\n",
       "    </tr>\n",
       "    <tr>\n",
       "      <th>1887</th>\n",
       "      <td>-2</td>\n",
       "      <td>2</td>\n",
       "      <td>750</td>\n",
       "    </tr>\n",
       "    <tr>\n",
       "      <th>1888</th>\n",
       "      <td>-1</td>\n",
       "      <td>0</td>\n",
       "      <td>686</td>\n",
       "    </tr>\n",
       "    <tr>\n",
       "      <th>1889</th>\n",
       "      <td>-1</td>\n",
       "      <td>1</td>\n",
       "      <td>682</td>\n",
       "    </tr>\n",
       "    <tr>\n",
       "      <th>1890</th>\n",
       "      <td>0</td>\n",
       "      <td>0</td>\n",
       "      <td>370</td>\n",
       "    </tr>\n",
       "  </tbody>\n",
       "</table>\n",
       "<p>1891 rows × 3 columns</p>\n",
       "</div>"
      ],
      "text/plain": [
       "      abertura  MOB  qtd_clientes\n",
       "0          -60    0           415\n",
       "1          -60    1           414\n",
       "2          -60    2           410\n",
       "3          -60    3           408\n",
       "4          -60    4           403\n",
       "...        ...  ...           ...\n",
       "1886        -2    1           770\n",
       "1887        -2    2           750\n",
       "1888        -1    0           686\n",
       "1889        -1    1           682\n",
       "1890         0    0           370\n",
       "\n",
       "[1891 rows x 3 columns]"
      ]
     },
     "execution_count": 79,
     "metadata": {},
     "output_type": "execute_result"
    }
   ],
   "source": [
    "vintage = clientes_aprovados.groupby(['abertura', 'MOB']).apply(lambda x: x['id_cliente'].count()).reset_index()\n",
    "vintage.columns = ['abertura', 'MOB', 'qtd_clientes']\n",
    "vintage"
   ]
  },
  {
   "cell_type": "code",
   "execution_count": 80,
   "metadata": {},
   "outputs": [],
   "source": [
    "vintage = pd.merge(vintage[['abertura', 'MOB']], denominador,\n",
    "                   on='abertura', how='left')"
   ]
  },
  {
   "cell_type": "code",
   "execution_count": 81,
   "metadata": {},
   "outputs": [
    {
     "data": {
      "text/html": [
       "<div>\n",
       "<style scoped>\n",
       "    .dataframe tbody tr th:only-of-type {\n",
       "        vertical-align: middle;\n",
       "    }\n",
       "\n",
       "    .dataframe tbody tr th {\n",
       "        vertical-align: top;\n",
       "    }\n",
       "\n",
       "    .dataframe thead th {\n",
       "        text-align: right;\n",
       "    }\n",
       "</style>\n",
       "<table border=\"1\" class=\"dataframe\">\n",
       "  <thead>\n",
       "    <tr style=\"text-align: right;\">\n",
       "      <th></th>\n",
       "      <th>abertura</th>\n",
       "      <th>MOB</th>\n",
       "      <th>qtd_clientes</th>\n",
       "    </tr>\n",
       "  </thead>\n",
       "  <tbody>\n",
       "    <tr>\n",
       "      <th>0</th>\n",
       "      <td>-60</td>\n",
       "      <td>0</td>\n",
       "      <td>415</td>\n",
       "    </tr>\n",
       "    <tr>\n",
       "      <th>1</th>\n",
       "      <td>-60</td>\n",
       "      <td>1</td>\n",
       "      <td>415</td>\n",
       "    </tr>\n",
       "    <tr>\n",
       "      <th>2</th>\n",
       "      <td>-60</td>\n",
       "      <td>2</td>\n",
       "      <td>415</td>\n",
       "    </tr>\n",
       "    <tr>\n",
       "      <th>3</th>\n",
       "      <td>-60</td>\n",
       "      <td>3</td>\n",
       "      <td>415</td>\n",
       "    </tr>\n",
       "    <tr>\n",
       "      <th>4</th>\n",
       "      <td>-60</td>\n",
       "      <td>4</td>\n",
       "      <td>415</td>\n",
       "    </tr>\n",
       "    <tr>\n",
       "      <th>...</th>\n",
       "      <td>...</td>\n",
       "      <td>...</td>\n",
       "      <td>...</td>\n",
       "    </tr>\n",
       "    <tr>\n",
       "      <th>1886</th>\n",
       "      <td>-2</td>\n",
       "      <td>1</td>\n",
       "      <td>771</td>\n",
       "    </tr>\n",
       "    <tr>\n",
       "      <th>1887</th>\n",
       "      <td>-2</td>\n",
       "      <td>2</td>\n",
       "      <td>771</td>\n",
       "    </tr>\n",
       "    <tr>\n",
       "      <th>1888</th>\n",
       "      <td>-1</td>\n",
       "      <td>0</td>\n",
       "      <td>686</td>\n",
       "    </tr>\n",
       "    <tr>\n",
       "      <th>1889</th>\n",
       "      <td>-1</td>\n",
       "      <td>1</td>\n",
       "      <td>686</td>\n",
       "    </tr>\n",
       "    <tr>\n",
       "      <th>1890</th>\n",
       "      <td>0</td>\n",
       "      <td>0</td>\n",
       "      <td>370</td>\n",
       "    </tr>\n",
       "  </tbody>\n",
       "</table>\n",
       "<p>1891 rows × 3 columns</p>\n",
       "</div>"
      ],
      "text/plain": [
       "      abertura  MOB  qtd_clientes\n",
       "0          -60    0           415\n",
       "1          -60    1           415\n",
       "2          -60    2           415\n",
       "3          -60    3           415\n",
       "4          -60    4           415\n",
       "...        ...  ...           ...\n",
       "1886        -2    1           771\n",
       "1887        -2    2           771\n",
       "1888        -1    0           686\n",
       "1889        -1    1           686\n",
       "1890         0    0           370\n",
       "\n",
       "[1891 rows x 3 columns]"
      ]
     },
     "execution_count": 81,
     "metadata": {},
     "output_type": "execute_result"
    }
   ],
   "source": [
    "vintage"
   ]
  },
  {
   "cell_type": "code",
   "execution_count": 82,
   "metadata": {},
   "outputs": [],
   "source": [
    "import numpy as np"
   ]
  },
  {
   "cell_type": "code",
   "execution_count": 83,
   "metadata": {},
   "outputs": [
    {
     "data": {
      "text/html": [
       "<div>\n",
       "<style scoped>\n",
       "    .dataframe tbody tr th:only-of-type {\n",
       "        vertical-align: middle;\n",
       "    }\n",
       "\n",
       "    .dataframe tbody tr th {\n",
       "        vertical-align: top;\n",
       "    }\n",
       "\n",
       "    .dataframe thead th {\n",
       "        text-align: right;\n",
       "    }\n",
       "</style>\n",
       "<table border=\"1\" class=\"dataframe\">\n",
       "  <thead>\n",
       "    <tr style=\"text-align: right;\">\n",
       "      <th></th>\n",
       "      <th>abertura</th>\n",
       "      <th>MOB</th>\n",
       "      <th>qtd_clientes</th>\n",
       "      <th>qtd_mau</th>\n",
       "      <th>taxa_mau</th>\n",
       "    </tr>\n",
       "  </thead>\n",
       "  <tbody>\n",
       "    <tr>\n",
       "      <th>0</th>\n",
       "      <td>-60</td>\n",
       "      <td>0</td>\n",
       "      <td>415</td>\n",
       "      <td>0.0</td>\n",
       "      <td>0.000000</td>\n",
       "    </tr>\n",
       "    <tr>\n",
       "      <th>1</th>\n",
       "      <td>-60</td>\n",
       "      <td>1</td>\n",
       "      <td>415</td>\n",
       "      <td>0.0</td>\n",
       "      <td>0.000000</td>\n",
       "    </tr>\n",
       "    <tr>\n",
       "      <th>2</th>\n",
       "      <td>-60</td>\n",
       "      <td>2</td>\n",
       "      <td>415</td>\n",
       "      <td>0.0</td>\n",
       "      <td>0.000000</td>\n",
       "    </tr>\n",
       "    <tr>\n",
       "      <th>3</th>\n",
       "      <td>-60</td>\n",
       "      <td>3</td>\n",
       "      <td>415</td>\n",
       "      <td>0.0</td>\n",
       "      <td>0.000000</td>\n",
       "    </tr>\n",
       "    <tr>\n",
       "      <th>4</th>\n",
       "      <td>-60</td>\n",
       "      <td>4</td>\n",
       "      <td>415</td>\n",
       "      <td>0.0</td>\n",
       "      <td>0.000000</td>\n",
       "    </tr>\n",
       "    <tr>\n",
       "      <th>...</th>\n",
       "      <td>...</td>\n",
       "      <td>...</td>\n",
       "      <td>...</td>\n",
       "      <td>...</td>\n",
       "      <td>...</td>\n",
       "    </tr>\n",
       "    <tr>\n",
       "      <th>1886</th>\n",
       "      <td>-2</td>\n",
       "      <td>1</td>\n",
       "      <td>771</td>\n",
       "      <td>0.0</td>\n",
       "      <td>0.000000</td>\n",
       "    </tr>\n",
       "    <tr>\n",
       "      <th>1887</th>\n",
       "      <td>-2</td>\n",
       "      <td>2</td>\n",
       "      <td>771</td>\n",
       "      <td>1.0</td>\n",
       "      <td>0.001297</td>\n",
       "    </tr>\n",
       "    <tr>\n",
       "      <th>1888</th>\n",
       "      <td>-1</td>\n",
       "      <td>0</td>\n",
       "      <td>686</td>\n",
       "      <td>0.0</td>\n",
       "      <td>0.000000</td>\n",
       "    </tr>\n",
       "    <tr>\n",
       "      <th>1889</th>\n",
       "      <td>-1</td>\n",
       "      <td>1</td>\n",
       "      <td>686</td>\n",
       "      <td>0.0</td>\n",
       "      <td>0.000000</td>\n",
       "    </tr>\n",
       "    <tr>\n",
       "      <th>1890</th>\n",
       "      <td>0</td>\n",
       "      <td>0</td>\n",
       "      <td>370</td>\n",
       "      <td>0.0</td>\n",
       "      <td>0.000000</td>\n",
       "    </tr>\n",
       "  </tbody>\n",
       "</table>\n",
       "<p>1891 rows × 5 columns</p>\n",
       "</div>"
      ],
      "text/plain": [
       "      abertura  MOB  qtd_clientes  qtd_mau  taxa_mau\n",
       "0          -60    0           415      0.0  0.000000\n",
       "1          -60    1           415      0.0  0.000000\n",
       "2          -60    2           415      0.0  0.000000\n",
       "3          -60    3           415      0.0  0.000000\n",
       "4          -60    4           415      0.0  0.000000\n",
       "...        ...  ...           ...      ...       ...\n",
       "1886        -2    1           771      0.0  0.000000\n",
       "1887        -2    2           771      1.0  0.001297\n",
       "1888        -1    0           686      0.0  0.000000\n",
       "1889        -1    1           686      0.0  0.000000\n",
       "1890         0    0           370      0.0  0.000000\n",
       "\n",
       "[1891 rows x 5 columns]"
      ]
     },
     "execution_count": 83,
     "metadata": {},
     "output_type": "execute_result"
    }
   ],
   "source": [
    "vintage['qtd_mau'] = np.nan #criando uma coluna e preenchendo apenas com valores nulos\n",
    "\n",
    "for j in range(-60, 1):\n",
    "    ls = []\n",
    "    for i in range(0,61):\n",
    "        due = list(clientes_aprovados.query('mau_pagador == 1 and MOB == @i and abertura == @j')['id_cliente'])\n",
    "        ls.extend(due)\n",
    "        vintage.loc[(vintage['MOB'] == i) & (vintage['abertura'] == j), 'qtd_mau'] = len(set(ls))\n",
    "        \n",
    "vintage['taxa_mau'] = vintage['qtd_mau'] / vintage['qtd_clientes']\n",
    "vintage"
   ]
  },
  {
   "cell_type": "code",
   "execution_count": 84,
   "metadata": {},
   "outputs": [
    {
     "data": {
      "text/html": [
       "<div>\n",
       "<style scoped>\n",
       "    .dataframe tbody tr th:only-of-type {\n",
       "        vertical-align: middle;\n",
       "    }\n",
       "\n",
       "    .dataframe tbody tr th {\n",
       "        vertical-align: top;\n",
       "    }\n",
       "\n",
       "    .dataframe thead th {\n",
       "        text-align: right;\n",
       "    }\n",
       "</style>\n",
       "<table border=\"1\" class=\"dataframe\">\n",
       "  <thead>\n",
       "    <tr style=\"text-align: right;\">\n",
       "      <th>MOB</th>\n",
       "      <th>0</th>\n",
       "      <th>1</th>\n",
       "      <th>2</th>\n",
       "      <th>3</th>\n",
       "      <th>4</th>\n",
       "      <th>5</th>\n",
       "      <th>6</th>\n",
       "      <th>7</th>\n",
       "      <th>8</th>\n",
       "      <th>9</th>\n",
       "      <th>...</th>\n",
       "      <th>51</th>\n",
       "      <th>52</th>\n",
       "      <th>53</th>\n",
       "      <th>54</th>\n",
       "      <th>55</th>\n",
       "      <th>56</th>\n",
       "      <th>57</th>\n",
       "      <th>58</th>\n",
       "      <th>59</th>\n",
       "      <th>60</th>\n",
       "    </tr>\n",
       "    <tr>\n",
       "      <th>abertura</th>\n",
       "      <th></th>\n",
       "      <th></th>\n",
       "      <th></th>\n",
       "      <th></th>\n",
       "      <th></th>\n",
       "      <th></th>\n",
       "      <th></th>\n",
       "      <th></th>\n",
       "      <th></th>\n",
       "      <th></th>\n",
       "      <th></th>\n",
       "      <th></th>\n",
       "      <th></th>\n",
       "      <th></th>\n",
       "      <th></th>\n",
       "      <th></th>\n",
       "      <th></th>\n",
       "      <th></th>\n",
       "      <th></th>\n",
       "      <th></th>\n",
       "      <th></th>\n",
       "    </tr>\n",
       "  </thead>\n",
       "  <tbody>\n",
       "    <tr>\n",
       "      <th>-60</th>\n",
       "      <td>0.0</td>\n",
       "      <td>0.0</td>\n",
       "      <td>0.000000</td>\n",
       "      <td>0.000000</td>\n",
       "      <td>0.000000</td>\n",
       "      <td>0.002410</td>\n",
       "      <td>0.002410</td>\n",
       "      <td>0.007229</td>\n",
       "      <td>0.007229</td>\n",
       "      <td>0.009639</td>\n",
       "      <td>...</td>\n",
       "      <td>0.028916</td>\n",
       "      <td>0.028916</td>\n",
       "      <td>0.028916</td>\n",
       "      <td>0.028916</td>\n",
       "      <td>0.028916</td>\n",
       "      <td>0.028916</td>\n",
       "      <td>0.028916</td>\n",
       "      <td>0.031325</td>\n",
       "      <td>0.031325</td>\n",
       "      <td>0.031325</td>\n",
       "    </tr>\n",
       "    <tr>\n",
       "      <th>-59</th>\n",
       "      <td>0.0</td>\n",
       "      <td>0.0</td>\n",
       "      <td>0.000000</td>\n",
       "      <td>0.004926</td>\n",
       "      <td>0.004926</td>\n",
       "      <td>0.004926</td>\n",
       "      <td>0.007389</td>\n",
       "      <td>0.007389</td>\n",
       "      <td>0.007389</td>\n",
       "      <td>0.012315</td>\n",
       "      <td>...</td>\n",
       "      <td>0.029557</td>\n",
       "      <td>0.029557</td>\n",
       "      <td>0.029557</td>\n",
       "      <td>0.032020</td>\n",
       "      <td>0.032020</td>\n",
       "      <td>0.032020</td>\n",
       "      <td>0.032020</td>\n",
       "      <td>0.032020</td>\n",
       "      <td>0.032020</td>\n",
       "      <td>NaN</td>\n",
       "    </tr>\n",
       "    <tr>\n",
       "      <th>-58</th>\n",
       "      <td>0.0</td>\n",
       "      <td>0.0</td>\n",
       "      <td>0.000000</td>\n",
       "      <td>0.000000</td>\n",
       "      <td>0.000000</td>\n",
       "      <td>0.000000</td>\n",
       "      <td>0.000000</td>\n",
       "      <td>0.004545</td>\n",
       "      <td>0.006818</td>\n",
       "      <td>0.006818</td>\n",
       "      <td>...</td>\n",
       "      <td>0.025000</td>\n",
       "      <td>0.025000</td>\n",
       "      <td>0.025000</td>\n",
       "      <td>0.025000</td>\n",
       "      <td>0.025000</td>\n",
       "      <td>0.025000</td>\n",
       "      <td>0.025000</td>\n",
       "      <td>0.025000</td>\n",
       "      <td>NaN</td>\n",
       "      <td>NaN</td>\n",
       "    </tr>\n",
       "    <tr>\n",
       "      <th>-57</th>\n",
       "      <td>0.0</td>\n",
       "      <td>0.0</td>\n",
       "      <td>0.000000</td>\n",
       "      <td>0.000000</td>\n",
       "      <td>0.002500</td>\n",
       "      <td>0.002500</td>\n",
       "      <td>0.002500</td>\n",
       "      <td>0.007500</td>\n",
       "      <td>0.007500</td>\n",
       "      <td>0.007500</td>\n",
       "      <td>...</td>\n",
       "      <td>0.025000</td>\n",
       "      <td>0.025000</td>\n",
       "      <td>0.025000</td>\n",
       "      <td>0.025000</td>\n",
       "      <td>0.025000</td>\n",
       "      <td>0.025000</td>\n",
       "      <td>0.025000</td>\n",
       "      <td>NaN</td>\n",
       "      <td>NaN</td>\n",
       "      <td>NaN</td>\n",
       "    </tr>\n",
       "    <tr>\n",
       "      <th>-56</th>\n",
       "      <td>0.0</td>\n",
       "      <td>0.0</td>\n",
       "      <td>0.004255</td>\n",
       "      <td>0.004255</td>\n",
       "      <td>0.008511</td>\n",
       "      <td>0.010638</td>\n",
       "      <td>0.010638</td>\n",
       "      <td>0.017021</td>\n",
       "      <td>0.017021</td>\n",
       "      <td>0.021277</td>\n",
       "      <td>...</td>\n",
       "      <td>0.036170</td>\n",
       "      <td>0.036170</td>\n",
       "      <td>0.036170</td>\n",
       "      <td>0.036170</td>\n",
       "      <td>0.038298</td>\n",
       "      <td>0.038298</td>\n",
       "      <td>NaN</td>\n",
       "      <td>NaN</td>\n",
       "      <td>NaN</td>\n",
       "      <td>NaN</td>\n",
       "    </tr>\n",
       "    <tr>\n",
       "      <th>...</th>\n",
       "      <td>...</td>\n",
       "      <td>...</td>\n",
       "      <td>...</td>\n",
       "      <td>...</td>\n",
       "      <td>...</td>\n",
       "      <td>...</td>\n",
       "      <td>...</td>\n",
       "      <td>...</td>\n",
       "      <td>...</td>\n",
       "      <td>...</td>\n",
       "      <td>...</td>\n",
       "      <td>...</td>\n",
       "      <td>...</td>\n",
       "      <td>...</td>\n",
       "      <td>...</td>\n",
       "      <td>...</td>\n",
       "      <td>...</td>\n",
       "      <td>...</td>\n",
       "      <td>...</td>\n",
       "      <td>...</td>\n",
       "      <td>...</td>\n",
       "    </tr>\n",
       "    <tr>\n",
       "      <th>-4</th>\n",
       "      <td>0.0</td>\n",
       "      <td>0.0</td>\n",
       "      <td>0.000000</td>\n",
       "      <td>0.003432</td>\n",
       "      <td>0.003432</td>\n",
       "      <td>NaN</td>\n",
       "      <td>NaN</td>\n",
       "      <td>NaN</td>\n",
       "      <td>NaN</td>\n",
       "      <td>NaN</td>\n",
       "      <td>...</td>\n",
       "      <td>NaN</td>\n",
       "      <td>NaN</td>\n",
       "      <td>NaN</td>\n",
       "      <td>NaN</td>\n",
       "      <td>NaN</td>\n",
       "      <td>NaN</td>\n",
       "      <td>NaN</td>\n",
       "      <td>NaN</td>\n",
       "      <td>NaN</td>\n",
       "      <td>NaN</td>\n",
       "    </tr>\n",
       "    <tr>\n",
       "      <th>-3</th>\n",
       "      <td>0.0</td>\n",
       "      <td>0.0</td>\n",
       "      <td>0.001088</td>\n",
       "      <td>0.001088</td>\n",
       "      <td>NaN</td>\n",
       "      <td>NaN</td>\n",
       "      <td>NaN</td>\n",
       "      <td>NaN</td>\n",
       "      <td>NaN</td>\n",
       "      <td>NaN</td>\n",
       "      <td>...</td>\n",
       "      <td>NaN</td>\n",
       "      <td>NaN</td>\n",
       "      <td>NaN</td>\n",
       "      <td>NaN</td>\n",
       "      <td>NaN</td>\n",
       "      <td>NaN</td>\n",
       "      <td>NaN</td>\n",
       "      <td>NaN</td>\n",
       "      <td>NaN</td>\n",
       "      <td>NaN</td>\n",
       "    </tr>\n",
       "    <tr>\n",
       "      <th>-2</th>\n",
       "      <td>0.0</td>\n",
       "      <td>0.0</td>\n",
       "      <td>0.001297</td>\n",
       "      <td>NaN</td>\n",
       "      <td>NaN</td>\n",
       "      <td>NaN</td>\n",
       "      <td>NaN</td>\n",
       "      <td>NaN</td>\n",
       "      <td>NaN</td>\n",
       "      <td>NaN</td>\n",
       "      <td>...</td>\n",
       "      <td>NaN</td>\n",
       "      <td>NaN</td>\n",
       "      <td>NaN</td>\n",
       "      <td>NaN</td>\n",
       "      <td>NaN</td>\n",
       "      <td>NaN</td>\n",
       "      <td>NaN</td>\n",
       "      <td>NaN</td>\n",
       "      <td>NaN</td>\n",
       "      <td>NaN</td>\n",
       "    </tr>\n",
       "    <tr>\n",
       "      <th>-1</th>\n",
       "      <td>0.0</td>\n",
       "      <td>0.0</td>\n",
       "      <td>NaN</td>\n",
       "      <td>NaN</td>\n",
       "      <td>NaN</td>\n",
       "      <td>NaN</td>\n",
       "      <td>NaN</td>\n",
       "      <td>NaN</td>\n",
       "      <td>NaN</td>\n",
       "      <td>NaN</td>\n",
       "      <td>...</td>\n",
       "      <td>NaN</td>\n",
       "      <td>NaN</td>\n",
       "      <td>NaN</td>\n",
       "      <td>NaN</td>\n",
       "      <td>NaN</td>\n",
       "      <td>NaN</td>\n",
       "      <td>NaN</td>\n",
       "      <td>NaN</td>\n",
       "      <td>NaN</td>\n",
       "      <td>NaN</td>\n",
       "    </tr>\n",
       "    <tr>\n",
       "      <th>0</th>\n",
       "      <td>0.0</td>\n",
       "      <td>NaN</td>\n",
       "      <td>NaN</td>\n",
       "      <td>NaN</td>\n",
       "      <td>NaN</td>\n",
       "      <td>NaN</td>\n",
       "      <td>NaN</td>\n",
       "      <td>NaN</td>\n",
       "      <td>NaN</td>\n",
       "      <td>NaN</td>\n",
       "      <td>...</td>\n",
       "      <td>NaN</td>\n",
       "      <td>NaN</td>\n",
       "      <td>NaN</td>\n",
       "      <td>NaN</td>\n",
       "      <td>NaN</td>\n",
       "      <td>NaN</td>\n",
       "      <td>NaN</td>\n",
       "      <td>NaN</td>\n",
       "      <td>NaN</td>\n",
       "      <td>NaN</td>\n",
       "    </tr>\n",
       "  </tbody>\n",
       "</table>\n",
       "<p>61 rows × 61 columns</p>\n",
       "</div>"
      ],
      "text/plain": [
       "MOB        0    1         2         3         4         5         6   \\\n",
       "abertura                                                               \n",
       "-60       0.0  0.0  0.000000  0.000000  0.000000  0.002410  0.002410   \n",
       "-59       0.0  0.0  0.000000  0.004926  0.004926  0.004926  0.007389   \n",
       "-58       0.0  0.0  0.000000  0.000000  0.000000  0.000000  0.000000   \n",
       "-57       0.0  0.0  0.000000  0.000000  0.002500  0.002500  0.002500   \n",
       "-56       0.0  0.0  0.004255  0.004255  0.008511  0.010638  0.010638   \n",
       "...       ...  ...       ...       ...       ...       ...       ...   \n",
       "-4        0.0  0.0  0.000000  0.003432  0.003432       NaN       NaN   \n",
       "-3        0.0  0.0  0.001088  0.001088       NaN       NaN       NaN   \n",
       "-2        0.0  0.0  0.001297       NaN       NaN       NaN       NaN   \n",
       "-1        0.0  0.0       NaN       NaN       NaN       NaN       NaN   \n",
       " 0        0.0  NaN       NaN       NaN       NaN       NaN       NaN   \n",
       "\n",
       "MOB             7         8         9   ...        51        52        53  \\\n",
       "abertura                                ...                                 \n",
       "-60       0.007229  0.007229  0.009639  ...  0.028916  0.028916  0.028916   \n",
       "-59       0.007389  0.007389  0.012315  ...  0.029557  0.029557  0.029557   \n",
       "-58       0.004545  0.006818  0.006818  ...  0.025000  0.025000  0.025000   \n",
       "-57       0.007500  0.007500  0.007500  ...  0.025000  0.025000  0.025000   \n",
       "-56       0.017021  0.017021  0.021277  ...  0.036170  0.036170  0.036170   \n",
       "...            ...       ...       ...  ...       ...       ...       ...   \n",
       "-4             NaN       NaN       NaN  ...       NaN       NaN       NaN   \n",
       "-3             NaN       NaN       NaN  ...       NaN       NaN       NaN   \n",
       "-2             NaN       NaN       NaN  ...       NaN       NaN       NaN   \n",
       "-1             NaN       NaN       NaN  ...       NaN       NaN       NaN   \n",
       " 0             NaN       NaN       NaN  ...       NaN       NaN       NaN   \n",
       "\n",
       "MOB             54        55        56        57        58        59        60  \n",
       "abertura                                                                        \n",
       "-60       0.028916  0.028916  0.028916  0.028916  0.031325  0.031325  0.031325  \n",
       "-59       0.032020  0.032020  0.032020  0.032020  0.032020  0.032020       NaN  \n",
       "-58       0.025000  0.025000  0.025000  0.025000  0.025000       NaN       NaN  \n",
       "-57       0.025000  0.025000  0.025000  0.025000       NaN       NaN       NaN  \n",
       "-56       0.036170  0.038298  0.038298       NaN       NaN       NaN       NaN  \n",
       "...            ...       ...       ...       ...       ...       ...       ...  \n",
       "-4             NaN       NaN       NaN       NaN       NaN       NaN       NaN  \n",
       "-3             NaN       NaN       NaN       NaN       NaN       NaN       NaN  \n",
       "-2             NaN       NaN       NaN       NaN       NaN       NaN       NaN  \n",
       "-1             NaN       NaN       NaN       NaN       NaN       NaN       NaN  \n",
       " 0             NaN       NaN       NaN       NaN       NaN       NaN       NaN  \n",
       "\n",
       "[61 rows x 61 columns]"
      ]
     },
     "execution_count": 84,
     "metadata": {},
     "output_type": "execute_result"
    }
   ],
   "source": [
    "vintage_pivot = vintage.pivot(index='abertura', \n",
    "                              columns='MOB', \n",
    "                              values='taxa_mau')\n",
    "vintage_pivot"
   ]
  },
  {
   "cell_type": "code",
   "execution_count": 85,
   "metadata": {},
   "outputs": [
    {
     "data": {
      "image/png": "[encoded data removed]",
      "text/plain": [
       "<Figure size 640x480 with 1 Axes>"
      ]
     },
     "metadata": {},
     "output_type": "display_data"
    }
   ],
   "source": [
    "lst = [i for i in range(0,61)]\n",
    "vintage_pivot[lst].T.iloc[:, :10].plot(legend=True, grid=True, title='Acumulado de clientes com atraso de > 60 dias')\n",
    "plt.xlabel('MOB')\n",
    "plt.ylabel('% acumulada de maus pagadores')\n",
    "plt.legend(bbox_to_anchor=(1.2, 1))\n",
    "plt.show()"
   ]
  },
  {
   "cell_type": "code",
   "execution_count": 86,
   "metadata": {},
   "outputs": [
    {
     "data": {
      "image/png": "[encoded data removed]",
      "text/plain": [
       "<Figure size 640x480 with 1 Axes>"
      ]
     },
     "metadata": {},
     "output_type": "display_data"
    }
   ],
   "source": [
    "sns.histplot(data=registros_credito_id, x='janela', cumulative=True, stat='density', kde=True)\n",
    "plt.title('Distribuição de clientes por janela')\n",
    "plt.xlabel('Janela')\n",
    "plt.ylabel('Percentual de Clientes')\n",
    "plt.show()"
   ]
  },
  {
   "cell_type": "code",
   "execution_count": 87,
   "metadata": {},
   "outputs": [],
   "source": [
    "dict_intervalo_atraso = {'maior_30_dias': 3,\n",
    "                         'maior_60_dias': 4,\n",
    "                         'maior_90_dias': 5,\n",
    "                         'maior_120_dias': 6,\n",
    "                         'maior_150_dias': 7}"
   ]
  },
  {
   "cell_type": "code",
   "execution_count": 88,
   "metadata": {},
   "outputs": [
    {
     "data": {
      "text/html": [
       "<div>\n",
       "<style scoped>\n",
       "    .dataframe tbody tr th:only-of-type {\n",
       "        vertical-align: middle;\n",
       "    }\n",
       "\n",
       "    .dataframe tbody tr th {\n",
       "        vertical-align: top;\n",
       "    }\n",
       "\n",
       "    .dataframe thead th {\n",
       "        text-align: right;\n",
       "    }\n",
       "</style>\n",
       "<table border=\"1\" class=\"dataframe\">\n",
       "  <thead>\n",
       "    <tr style=\"text-align: right;\">\n",
       "      <th></th>\n",
       "      <th>id_cliente</th>\n",
       "      <th>mes_referencia</th>\n",
       "      <th>faixa_atraso</th>\n",
       "      <th>abertura</th>\n",
       "      <th>final</th>\n",
       "      <th>janela</th>\n",
       "      <th>MOB</th>\n",
       "      <th>indicador_faixa_atraso</th>\n",
       "      <th>mau_pagador</th>\n",
       "      <th>mau_maior_30_dias</th>\n",
       "      <th>mau_maior_60_dias</th>\n",
       "      <th>mau_maior_90_dias</th>\n",
       "      <th>mau_maior_120_dias</th>\n",
       "      <th>mau_maior_150_dias</th>\n",
       "    </tr>\n",
       "  </thead>\n",
       "  <tbody>\n",
       "    <tr>\n",
       "      <th>0</th>\n",
       "      <td>5001711</td>\n",
       "      <td>0</td>\n",
       "      <td>nenhum empréstimo</td>\n",
       "      <td>-3</td>\n",
       "      <td>0</td>\n",
       "      <td>3</td>\n",
       "      <td>3</td>\n",
       "      <td>0</td>\n",
       "      <td>0</td>\n",
       "      <td>0</td>\n",
       "      <td>0</td>\n",
       "      <td>0</td>\n",
       "      <td>0</td>\n",
       "      <td>0</td>\n",
       "    </tr>\n",
       "    <tr>\n",
       "      <th>1</th>\n",
       "      <td>5001711</td>\n",
       "      <td>-1</td>\n",
       "      <td>1-29 dias</td>\n",
       "      <td>-3</td>\n",
       "      <td>0</td>\n",
       "      <td>3</td>\n",
       "      <td>2</td>\n",
       "      <td>2</td>\n",
       "      <td>0</td>\n",
       "      <td>0</td>\n",
       "      <td>0</td>\n",
       "      <td>0</td>\n",
       "      <td>0</td>\n",
       "      <td>0</td>\n",
       "    </tr>\n",
       "    <tr>\n",
       "      <th>2</th>\n",
       "      <td>5001711</td>\n",
       "      <td>-2</td>\n",
       "      <td>1-29 dias</td>\n",
       "      <td>-3</td>\n",
       "      <td>0</td>\n",
       "      <td>3</td>\n",
       "      <td>1</td>\n",
       "      <td>2</td>\n",
       "      <td>0</td>\n",
       "      <td>0</td>\n",
       "      <td>0</td>\n",
       "      <td>0</td>\n",
       "      <td>0</td>\n",
       "      <td>0</td>\n",
       "    </tr>\n",
       "    <tr>\n",
       "      <th>3</th>\n",
       "      <td>5001711</td>\n",
       "      <td>-3</td>\n",
       "      <td>1-29 dias</td>\n",
       "      <td>-3</td>\n",
       "      <td>0</td>\n",
       "      <td>3</td>\n",
       "      <td>0</td>\n",
       "      <td>2</td>\n",
       "      <td>0</td>\n",
       "      <td>0</td>\n",
       "      <td>0</td>\n",
       "      <td>0</td>\n",
       "      <td>0</td>\n",
       "      <td>0</td>\n",
       "    </tr>\n",
       "    <tr>\n",
       "      <th>4</th>\n",
       "      <td>5001712</td>\n",
       "      <td>0</td>\n",
       "      <td>pagamento realizado</td>\n",
       "      <td>-18</td>\n",
       "      <td>0</td>\n",
       "      <td>18</td>\n",
       "      <td>18</td>\n",
       "      <td>1</td>\n",
       "      <td>0</td>\n",
       "      <td>0</td>\n",
       "      <td>0</td>\n",
       "      <td>0</td>\n",
       "      <td>0</td>\n",
       "      <td>0</td>\n",
       "    </tr>\n",
       "  </tbody>\n",
       "</table>\n",
       "</div>"
      ],
      "text/plain": [
       "   id_cliente  mes_referencia         faixa_atraso  abertura  final  janela  \\\n",
       "0     5001711               0    nenhum empréstimo        -3      0       3   \n",
       "1     5001711              -1            1-29 dias        -3      0       3   \n",
       "2     5001711              -2            1-29 dias        -3      0       3   \n",
       "3     5001711              -3            1-29 dias        -3      0       3   \n",
       "4     5001712               0  pagamento realizado       -18      0      18   \n",
       "\n",
       "   MOB  indicador_faixa_atraso  mau_pagador  mau_maior_30_dias  \\\n",
       "0    3                       0            0                  0   \n",
       "1    2                       2            0                  0   \n",
       "2    1                       2            0                  0   \n",
       "3    0                       2            0                  0   \n",
       "4   18                       1            0                  0   \n",
       "\n",
       "   mau_maior_60_dias  mau_maior_90_dias  mau_maior_120_dias  \\\n",
       "0                  0                  0                   0   \n",
       "1                  0                  0                   0   \n",
       "2                  0                  0                   0   \n",
       "3                  0                  0                   0   \n",
       "4                  0                  0                   0   \n",
       "\n",
       "   mau_maior_150_dias  \n",
       "0                   0  \n",
       "1                   0  \n",
       "2                   0  \n",
       "3                   0  \n",
       "4                   0  "
      ]
     },
     "execution_count": 88,
     "metadata": {},
     "output_type": "execute_result"
    }
   ],
   "source": [
    "for chave, valor in dict_intervalo_atraso.items():\n",
    "    clientes_aprovados[f'mau_{chave}'] = clientes_aprovados.apply(lambda x: 1 if x['indicador_faixa_atraso'] >= valor else 0, axis=1)\n",
    "clientes_aprovados.head()"
   ]
  },
  {
   "cell_type": "code",
   "execution_count": 89,
   "metadata": {},
   "outputs": [
    {
     "data": {
      "text/html": [
       "<div>\n",
       "<style scoped>\n",
       "    .dataframe tbody tr th:only-of-type {\n",
       "        vertical-align: middle;\n",
       "    }\n",
       "\n",
       "    .dataframe tbody tr th {\n",
       "        vertical-align: top;\n",
       "    }\n",
       "\n",
       "    .dataframe thead th {\n",
       "        text-align: right;\n",
       "    }\n",
       "</style>\n",
       "<table border=\"1\" class=\"dataframe\">\n",
       "  <thead>\n",
       "    <tr style=\"text-align: right;\">\n",
       "      <th></th>\n",
       "      <th>maior_30_dias</th>\n",
       "      <th>maior_60_dias</th>\n",
       "      <th>maior_90_dias</th>\n",
       "      <th>maior_120_dias</th>\n",
       "      <th>maior_150_dias</th>\n",
       "    </tr>\n",
       "  </thead>\n",
       "  <tbody>\n",
       "    <tr>\n",
       "      <th>0</th>\n",
       "      <td>0.000304</td>\n",
       "      <td>0.000022</td>\n",
       "      <td>0.000022</td>\n",
       "      <td>0.000022</td>\n",
       "      <td>0.000022</td>\n",
       "    </tr>\n",
       "    <tr>\n",
       "      <th>1</th>\n",
       "      <td>0.011612</td>\n",
       "      <td>0.000174</td>\n",
       "      <td>0.000087</td>\n",
       "      <td>0.000087</td>\n",
       "      <td>0.000087</td>\n",
       "    </tr>\n",
       "    <tr>\n",
       "      <th>2</th>\n",
       "      <td>0.025878</td>\n",
       "      <td>0.001153</td>\n",
       "      <td>0.000196</td>\n",
       "      <td>0.000174</td>\n",
       "      <td>0.000174</td>\n",
       "    </tr>\n",
       "    <tr>\n",
       "      <th>3</th>\n",
       "      <td>0.036860</td>\n",
       "      <td>0.002240</td>\n",
       "      <td>0.000696</td>\n",
       "      <td>0.000304</td>\n",
       "      <td>0.000304</td>\n",
       "    </tr>\n",
       "    <tr>\n",
       "      <th>4</th>\n",
       "      <td>0.047385</td>\n",
       "      <td>0.003392</td>\n",
       "      <td>0.001044</td>\n",
       "      <td>0.000696</td>\n",
       "      <td>0.000348</td>\n",
       "    </tr>\n",
       "    <tr>\n",
       "      <th>...</th>\n",
       "      <td>...</td>\n",
       "      <td>...</td>\n",
       "      <td>...</td>\n",
       "      <td>...</td>\n",
       "      <td>...</td>\n",
       "    </tr>\n",
       "    <tr>\n",
       "      <th>56</th>\n",
       "      <td>0.116321</td>\n",
       "      <td>0.014483</td>\n",
       "      <td>0.007176</td>\n",
       "      <td>0.005263</td>\n",
       "      <td>0.004219</td>\n",
       "    </tr>\n",
       "    <tr>\n",
       "      <th>57</th>\n",
       "      <td>0.116321</td>\n",
       "      <td>0.014483</td>\n",
       "      <td>0.007176</td>\n",
       "      <td>0.005263</td>\n",
       "      <td>0.004219</td>\n",
       "    </tr>\n",
       "    <tr>\n",
       "      <th>58</th>\n",
       "      <td>0.116321</td>\n",
       "      <td>0.014505</td>\n",
       "      <td>0.007198</td>\n",
       "      <td>0.005284</td>\n",
       "      <td>0.004241</td>\n",
       "    </tr>\n",
       "    <tr>\n",
       "      <th>59</th>\n",
       "      <td>0.116321</td>\n",
       "      <td>0.014505</td>\n",
       "      <td>0.007198</td>\n",
       "      <td>0.005284</td>\n",
       "      <td>0.004241</td>\n",
       "    </tr>\n",
       "    <tr>\n",
       "      <th>60</th>\n",
       "      <td>0.116342</td>\n",
       "      <td>0.014505</td>\n",
       "      <td>0.007198</td>\n",
       "      <td>0.005284</td>\n",
       "      <td>0.004241</td>\n",
       "    </tr>\n",
       "  </tbody>\n",
       "</table>\n",
       "<p>61 rows × 5 columns</p>\n",
       "</div>"
      ],
      "text/plain": [
       "    maior_30_dias  maior_60_dias  maior_90_dias  maior_120_dias  \\\n",
       "0        0.000304       0.000022       0.000022        0.000022   \n",
       "1        0.011612       0.000174       0.000087        0.000087   \n",
       "2        0.025878       0.001153       0.000196        0.000174   \n",
       "3        0.036860       0.002240       0.000696        0.000304   \n",
       "4        0.047385       0.003392       0.001044        0.000696   \n",
       "..            ...            ...            ...             ...   \n",
       "56       0.116321       0.014483       0.007176        0.005263   \n",
       "57       0.116321       0.014483       0.007176        0.005263   \n",
       "58       0.116321       0.014505       0.007198        0.005284   \n",
       "59       0.116321       0.014505       0.007198        0.005284   \n",
       "60       0.116342       0.014505       0.007198        0.005284   \n",
       "\n",
       "    maior_150_dias  \n",
       "0         0.000022  \n",
       "1         0.000087  \n",
       "2         0.000174  \n",
       "3         0.000304  \n",
       "4         0.000348  \n",
       "..             ...  \n",
       "56        0.004219  \n",
       "57        0.004219  \n",
       "58        0.004241  \n",
       "59        0.004241  \n",
       "60        0.004241  \n",
       "\n",
       "[61 rows x 5 columns]"
      ]
     },
     "execution_count": 89,
     "metadata": {},
     "output_type": "execute_result"
    }
   ],
   "source": [
    "dict_taxa_mau = {}\n",
    "id_sum = len(set(clientes_aprovados['id_cliente']))\n",
    "\n",
    "for chave in dict_intervalo_atraso.keys():\n",
    "    df_min_mau = clientes_aprovados.query(f'mau_{chave} == 1').groupby('id_cliente')['MOB'].min().reset_index()\n",
    "    df_mob_taxa_mau = pd.DataFrame({'MOB':range(0,61), 'taxa_mau': np.nan})\n",
    "    lst = []\n",
    "    for i in range(0,61):\n",
    "        due = df_min_mau.query('MOB == @i')['id_cliente'].to_list()\n",
    "        lst.extend(due)\n",
    "        df_mob_taxa_mau.loc[df_mob_taxa_mau['MOB'] == i, 'taxa_mau'] = len(set(lst)) / id_sum\n",
    "    dict_taxa_mau[chave] = df_mob_taxa_mau['taxa_mau']\n",
    "\n",
    "df_taxa_mau = pd.DataFrame(dict_taxa_mau)\n",
    "df_taxa_mau"
   ]
  },
  {
   "cell_type": "code",
   "execution_count": 90,
   "metadata": {},
   "outputs": [
    {
     "data": {
      "image/png": "[encoded data removed]",
      "text/plain": [
       "<Figure size 800x400 with 1 Axes>"
      ]
     },
     "metadata": {},
     "output_type": "display_data"
    }
   ],
   "source": [
    "df_taxa_mau.plot(grid=True, title='% acumulada de maus pagadores para diversas taxas de atraso',\n",
    "                 figsize=(8,4))\n",
    "plt.xlabel('MOB')\n",
    "plt.ylabel('porcentagem acumulada de clientes')\n",
    "plt.show()"
   ]
  },
  {
   "cell_type": "code",
   "execution_count": 91,
   "metadata": {},
   "outputs": [
    {
     "data": {
      "text/plain": [
       "30918"
      ]
     },
     "execution_count": 91,
     "metadata": {},
     "output_type": "execute_result"
    }
   ],
   "source": [
    "len(clientes_aprovados.query('janela >= 12').groupby('id_cliente').count().index)"
   ]
  },
  {
   "cell_type": "code",
   "execution_count": 92,
   "metadata": {},
   "outputs": [
    {
     "data": {
      "text/plain": [
       "(943061, 14)"
      ]
     },
     "execution_count": 92,
     "metadata": {},
     "output_type": "execute_result"
    }
   ],
   "source": [
    "clientes_aprovados_tratamento1 = clientes_aprovados.query('janela >=12').copy()\n",
    "clientes_aprovados_tratamento1.shape"
   ]
  },
  {
   "cell_type": "code",
   "execution_count": 93,
   "metadata": {},
   "outputs": [
    {
     "name": "stderr",
     "output_type": "stream",
     "text": [
      "/var/folders/rx/b37fngts0v1fljw_kvgpxnpm0000gn/T/ipykernel_17999/4201877178.py:8: DeprecationWarning: DataFrameGroupBy.apply operated on the grouping columns. This behavior is deprecated, and in a future version of pandas the grouping columns will be excluded from the operation. Either pass `include_groups=False` to exclude the groupings or explicitly select the grouping columns after groupby to silence this warning.\n",
      "  df_registros_credito_id = pd.DataFrame(clientes_aprovados_tratamento1.groupby('id_cliente').apply(verifica)).reset_index()\n"
     ]
    },
    {
     "data": {
      "text/html": [
       "<div>\n",
       "<style scoped>\n",
       "    .dataframe tbody tr th:only-of-type {\n",
       "        vertical-align: middle;\n",
       "    }\n",
       "\n",
       "    .dataframe tbody tr th {\n",
       "        vertical-align: top;\n",
       "    }\n",
       "\n",
       "    .dataframe thead th {\n",
       "        text-align: right;\n",
       "    }\n",
       "</style>\n",
       "<table border=\"1\" class=\"dataframe\">\n",
       "  <thead>\n",
       "    <tr style=\"text-align: right;\">\n",
       "      <th></th>\n",
       "      <th>id_cliente</th>\n",
       "      <th>mau</th>\n",
       "    </tr>\n",
       "  </thead>\n",
       "  <tbody>\n",
       "    <tr>\n",
       "      <th>0</th>\n",
       "      <td>5001712</td>\n",
       "      <td>0</td>\n",
       "    </tr>\n",
       "    <tr>\n",
       "      <th>1</th>\n",
       "      <td>5001713</td>\n",
       "      <td>0</td>\n",
       "    </tr>\n",
       "    <tr>\n",
       "      <th>2</th>\n",
       "      <td>5001714</td>\n",
       "      <td>0</td>\n",
       "    </tr>\n",
       "    <tr>\n",
       "      <th>3</th>\n",
       "      <td>5001715</td>\n",
       "      <td>0</td>\n",
       "    </tr>\n",
       "    <tr>\n",
       "      <th>4</th>\n",
       "      <td>5001717</td>\n",
       "      <td>0</td>\n",
       "    </tr>\n",
       "  </tbody>\n",
       "</table>\n",
       "</div>"
      ],
      "text/plain": [
       "   id_cliente  mau\n",
       "0     5001712    0\n",
       "1     5001713    0\n",
       "2     5001714    0\n",
       "3     5001715    0\n",
       "4     5001717    0"
      ]
     },
     "execution_count": 93,
     "metadata": {},
     "output_type": "execute_result"
    }
   ],
   "source": [
    "def verifica(registros):\n",
    "  lista_status = registros['faixa_atraso'].to_list()\n",
    "  if '60-89 dias' in lista_status or '90-119 dias' in lista_status or '120-149 dias' in lista_status or '>150 dias' in lista_status:\n",
    "    return 1\n",
    "  else:\n",
    "    return 0\n",
    "  \n",
    "df_registros_credito_id = pd.DataFrame(clientes_aprovados_tratamento1.groupby('id_cliente').apply(verifica)).reset_index()\n",
    "df_registros_credito_id.columns = ['id_cliente', 'mau']\n",
    "df_registros_credito_id.head()"
   ]
  },
  {
   "cell_type": "code",
   "execution_count": 94,
   "metadata": {},
   "outputs": [
    {
     "data": {
      "text/plain": [
       "(30918, 2)"
      ]
     },
     "execution_count": 94,
     "metadata": {},
     "output_type": "execute_result"
    }
   ],
   "source": [
    "df_registros_credito_id.shape"
   ]
  },
  {
   "cell_type": "code",
   "execution_count": 95,
   "metadata": {},
   "outputs": [
    {
     "data": {
      "text/html": [
       "<div>\n",
       "<style scoped>\n",
       "    .dataframe tbody tr th:only-of-type {\n",
       "        vertical-align: middle;\n",
       "    }\n",
       "\n",
       "    .dataframe tbody tr th {\n",
       "        vertical-align: top;\n",
       "    }\n",
       "\n",
       "    .dataframe thead th {\n",
       "        text-align: right;\n",
       "    }\n",
       "</style>\n",
       "<table border=\"1\" class=\"dataframe\">\n",
       "  <thead>\n",
       "    <tr style=\"text-align: right;\">\n",
       "      <th></th>\n",
       "      <th>id_cliente</th>\n",
       "      <th>tem_carro</th>\n",
       "      <th>tem_casa</th>\n",
       "      <th>tem_telefone_trabalho</th>\n",
       "      <th>tem_telefone_fixo</th>\n",
       "      <th>tem_email</th>\n",
       "      <th>rendimento_anual</th>\n",
       "      <th>tam_familia</th>\n",
       "      <th>idade</th>\n",
       "      <th>anos_empregado</th>\n",
       "      <th>categoria_renda</th>\n",
       "      <th>grau_escolaridade</th>\n",
       "      <th>estado_civil</th>\n",
       "      <th>moradia</th>\n",
       "      <th>ocupacao</th>\n",
       "      <th>mau</th>\n",
       "    </tr>\n",
       "  </thead>\n",
       "  <tbody>\n",
       "    <tr>\n",
       "      <th>0</th>\n",
       "      <td>5008806</td>\n",
       "      <td>1</td>\n",
       "      <td>1</td>\n",
       "      <td>0</td>\n",
       "      <td>0</td>\n",
       "      <td>0</td>\n",
       "      <td>112500.0</td>\n",
       "      <td>2.0</td>\n",
       "      <td>58.793815</td>\n",
       "      <td>3.104787</td>\n",
       "      <td>Empregado</td>\n",
       "      <td>Ensino médio</td>\n",
       "      <td>Casado</td>\n",
       "      <td>Casa/apartamento próprio</td>\n",
       "      <td>Segurança</td>\n",
       "      <td>0</td>\n",
       "    </tr>\n",
       "    <tr>\n",
       "      <th>1</th>\n",
       "      <td>5008810</td>\n",
       "      <td>0</td>\n",
       "      <td>1</td>\n",
       "      <td>0</td>\n",
       "      <td>1</td>\n",
       "      <td>1</td>\n",
       "      <td>270000.0</td>\n",
       "      <td>1.0</td>\n",
       "      <td>52.321403</td>\n",
       "      <td>8.353354</td>\n",
       "      <td>Associado comercial</td>\n",
       "      <td>Ensino médio</td>\n",
       "      <td>Solteiro</td>\n",
       "      <td>Casa/apartamento próprio</td>\n",
       "      <td>Vendas</td>\n",
       "      <td>0</td>\n",
       "    </tr>\n",
       "    <tr>\n",
       "      <th>2</th>\n",
       "      <td>5008811</td>\n",
       "      <td>0</td>\n",
       "      <td>1</td>\n",
       "      <td>0</td>\n",
       "      <td>1</td>\n",
       "      <td>1</td>\n",
       "      <td>270000.0</td>\n",
       "      <td>1.0</td>\n",
       "      <td>52.321403</td>\n",
       "      <td>8.353354</td>\n",
       "      <td>Associado comercial</td>\n",
       "      <td>Ensino médio</td>\n",
       "      <td>Solteiro</td>\n",
       "      <td>Casa/apartamento próprio</td>\n",
       "      <td>Vendas</td>\n",
       "      <td>0</td>\n",
       "    </tr>\n",
       "    <tr>\n",
       "      <th>3</th>\n",
       "      <td>5008812</td>\n",
       "      <td>0</td>\n",
       "      <td>1</td>\n",
       "      <td>0</td>\n",
       "      <td>0</td>\n",
       "      <td>0</td>\n",
       "      <td>283500.0</td>\n",
       "      <td>1.0</td>\n",
       "      <td>61.504343</td>\n",
       "      <td>0.000000</td>\n",
       "      <td>Pensionista</td>\n",
       "      <td>Ensino superior</td>\n",
       "      <td>Divorciado</td>\n",
       "      <td>Casa/apartamento próprio</td>\n",
       "      <td>Outro</td>\n",
       "      <td>0</td>\n",
       "    </tr>\n",
       "    <tr>\n",
       "      <th>4</th>\n",
       "      <td>5008813</td>\n",
       "      <td>0</td>\n",
       "      <td>1</td>\n",
       "      <td>0</td>\n",
       "      <td>0</td>\n",
       "      <td>0</td>\n",
       "      <td>283500.0</td>\n",
       "      <td>1.0</td>\n",
       "      <td>61.504343</td>\n",
       "      <td>0.000000</td>\n",
       "      <td>Pensionista</td>\n",
       "      <td>Ensino superior</td>\n",
       "      <td>Divorciado</td>\n",
       "      <td>Casa/apartamento próprio</td>\n",
       "      <td>Outro</td>\n",
       "      <td>0</td>\n",
       "    </tr>\n",
       "  </tbody>\n",
       "</table>\n",
       "</div>"
      ],
      "text/plain": [
       "   id_cliente  tem_carro  tem_casa  tem_telefone_trabalho  tem_telefone_fixo  \\\n",
       "0     5008806          1         1                      0                  0   \n",
       "1     5008810          0         1                      0                  1   \n",
       "2     5008811          0         1                      0                  1   \n",
       "3     5008812          0         1                      0                  0   \n",
       "4     5008813          0         1                      0                  0   \n",
       "\n",
       "   tem_email  rendimento_anual  tam_familia      idade  anos_empregado  \\\n",
       "0          0          112500.0          2.0  58.793815        3.104787   \n",
       "1          1          270000.0          1.0  52.321403        8.353354   \n",
       "2          1          270000.0          1.0  52.321403        8.353354   \n",
       "3          0          283500.0          1.0  61.504343        0.000000   \n",
       "4          0          283500.0          1.0  61.504343        0.000000   \n",
       "\n",
       "       categoria_renda grau_escolaridade estado_civil  \\\n",
       "0            Empregado      Ensino médio       Casado   \n",
       "1  Associado comercial      Ensino médio     Solteiro   \n",
       "2  Associado comercial      Ensino médio     Solteiro   \n",
       "3          Pensionista   Ensino superior   Divorciado   \n",
       "4          Pensionista   Ensino superior   Divorciado   \n",
       "\n",
       "                    moradia   ocupacao  mau  \n",
       "0  Casa/apartamento próprio  Segurança    0  \n",
       "1  Casa/apartamento próprio     Vendas    0  \n",
       "2  Casa/apartamento próprio     Vendas    0  \n",
       "3  Casa/apartamento próprio      Outro    0  \n",
       "4  Casa/apartamento próprio      Outro    0  "
      ]
     },
     "execution_count": 95,
     "metadata": {},
     "output_type": "execute_result"
    }
   ],
   "source": [
    "reg_clientes_target = clientes_cad_tratamento1.merge(df_registros_credito_id, on='id_cliente')\n",
    "reg_clientes_target.head()"
   ]
  },
  {
   "cell_type": "code",
   "execution_count": 96,
   "metadata": {},
   "outputs": [
    {
     "data": {
      "text/plain": [
       "mau\n",
       "0    97.726673\n",
       "1     2.273327\n",
       "Name: proportion, dtype: float64"
      ]
     },
     "execution_count": 96,
     "metadata": {},
     "output_type": "execute_result"
    }
   ],
   "source": [
    "reg_clientes_target['mau'].value_counts(normalize=True)*100"
   ]
  },
  {
   "cell_type": "markdown",
   "metadata": {},
   "source": [
    "# Parte 3 - Machine Learning: Construindo a pipeline"
   ]
  },
  {
   "cell_type": "code",
   "execution_count": 97,
   "metadata": {},
   "outputs": [],
   "source": [
    "df = reg_clientes_target"
   ]
  },
  {
   "cell_type": "code",
   "execution_count": 98,
   "metadata": {},
   "outputs": [],
   "source": [
    "df.to_csv('df_clean.csv', index=False)"
   ]
  },
  {
   "cell_type": "code",
   "execution_count": 99,
   "metadata": {},
   "outputs": [],
   "source": [
    "from sklearn.model_selection import train_test_split"
   ]
  },
  {
   "cell_type": "code",
   "execution_count": 100,
   "metadata": {},
   "outputs": [],
   "source": [
    "seed = 1561651"
   ]
  },
  {
   "cell_type": "code",
   "execution_count": 101,
   "metadata": {},
   "outputs": [],
   "source": [
    "train_df, test_df = train_test_split(df, test_size=0.2, random_state=seed)"
   ]
  },
  {
   "cell_type": "code",
   "execution_count": 102,
   "metadata": {},
   "outputs": [
    {
     "data": {
      "text/plain": [
       "(18193, 16)"
      ]
     },
     "execution_count": 102,
     "metadata": {},
     "output_type": "execute_result"
    }
   ],
   "source": [
    "train_df.shape"
   ]
  },
  {
   "cell_type": "code",
   "execution_count": 103,
   "metadata": {},
   "outputs": [
    {
     "data": {
      "text/plain": [
       "(4549, 16)"
      ]
     },
     "execution_count": 103,
     "metadata": {},
     "output_type": "execute_result"
    }
   ],
   "source": [
    "test_df.shape"
   ]
  },
  {
   "cell_type": "code",
   "execution_count": 104,
   "metadata": {},
   "outputs": [],
   "source": [
    "train_df_copy = train_df.copy()\n",
    "test_df_copy = test_df.copy()"
   ]
  },
  {
   "cell_type": "code",
   "execution_count": 105,
   "metadata": {},
   "outputs": [],
   "source": [
    "train_df.to_csv('train.csv',index=False)"
   ]
  },
  {
   "cell_type": "code",
   "execution_count": 106,
   "metadata": {},
   "outputs": [],
   "source": [
    "train_df.to_csv('test.csv',index=False)"
   ]
  },
  {
   "cell_type": "code",
   "execution_count": 107,
   "metadata": {},
   "outputs": [
    {
     "data": {
      "text/html": [
       "<div>\n",
       "<style scoped>\n",
       "    .dataframe tbody tr th:only-of-type {\n",
       "        vertical-align: middle;\n",
       "    }\n",
       "\n",
       "    .dataframe tbody tr th {\n",
       "        vertical-align: top;\n",
       "    }\n",
       "\n",
       "    .dataframe thead th {\n",
       "        text-align: right;\n",
       "    }\n",
       "</style>\n",
       "<table border=\"1\" class=\"dataframe\">\n",
       "  <thead>\n",
       "    <tr style=\"text-align: right;\">\n",
       "      <th></th>\n",
       "      <th>id_cliente</th>\n",
       "      <th>tem_carro</th>\n",
       "      <th>tem_casa</th>\n",
       "      <th>tem_telefone_trabalho</th>\n",
       "      <th>tem_telefone_fixo</th>\n",
       "      <th>tem_email</th>\n",
       "      <th>rendimento_anual</th>\n",
       "      <th>tam_familia</th>\n",
       "      <th>idade</th>\n",
       "      <th>anos_empregado</th>\n",
       "      <th>categoria_renda</th>\n",
       "      <th>grau_escolaridade</th>\n",
       "      <th>estado_civil</th>\n",
       "      <th>moradia</th>\n",
       "      <th>ocupacao</th>\n",
       "      <th>mau</th>\n",
       "    </tr>\n",
       "  </thead>\n",
       "  <tbody>\n",
       "    <tr>\n",
       "      <th>3806</th>\n",
       "      <td>5029272</td>\n",
       "      <td>1</td>\n",
       "      <td>1</td>\n",
       "      <td>1</td>\n",
       "      <td>1</td>\n",
       "      <td>0</td>\n",
       "      <td>116653.5</td>\n",
       "      <td>2.0</td>\n",
       "      <td>25.380398</td>\n",
       "      <td>4.547664</td>\n",
       "      <td>Associado comercial</td>\n",
       "      <td>Ensino médio</td>\n",
       "      <td>Casado</td>\n",
       "      <td>Casa/apartamento próprio</td>\n",
       "      <td>Construção Civil</td>\n",
       "      <td>0</td>\n",
       "    </tr>\n",
       "    <tr>\n",
       "      <th>17766</th>\n",
       "      <td>5116598</td>\n",
       "      <td>0</td>\n",
       "      <td>0</td>\n",
       "      <td>0</td>\n",
       "      <td>1</td>\n",
       "      <td>0</td>\n",
       "      <td>144000.0</td>\n",
       "      <td>2.0</td>\n",
       "      <td>61.994428</td>\n",
       "      <td>0.000000</td>\n",
       "      <td>Pensionista</td>\n",
       "      <td>Ensino médio</td>\n",
       "      <td>Casado</td>\n",
       "      <td>Casa/apartamento próprio</td>\n",
       "      <td>Outro</td>\n",
       "      <td>0</td>\n",
       "    </tr>\n",
       "    <tr>\n",
       "      <th>16516</th>\n",
       "      <td>5112969</td>\n",
       "      <td>0</td>\n",
       "      <td>0</td>\n",
       "      <td>1</td>\n",
       "      <td>1</td>\n",
       "      <td>0</td>\n",
       "      <td>112500.0</td>\n",
       "      <td>2.0</td>\n",
       "      <td>50.790913</td>\n",
       "      <td>14.100221</td>\n",
       "      <td>Empregado</td>\n",
       "      <td>Ensino médio</td>\n",
       "      <td>União-estável</td>\n",
       "      <td>Casa/apartamento próprio</td>\n",
       "      <td>Construção Civil</td>\n",
       "      <td>0</td>\n",
       "    </tr>\n",
       "    <tr>\n",
       "      <th>1286</th>\n",
       "      <td>5021463</td>\n",
       "      <td>1</td>\n",
       "      <td>0</td>\n",
       "      <td>0</td>\n",
       "      <td>0</td>\n",
       "      <td>0</td>\n",
       "      <td>225000.0</td>\n",
       "      <td>3.0</td>\n",
       "      <td>31.488668</td>\n",
       "      <td>2.012362</td>\n",
       "      <td>Empregado</td>\n",
       "      <td>Ensino superior</td>\n",
       "      <td>União-estável</td>\n",
       "      <td>Casa/apartamento próprio</td>\n",
       "      <td>Equipe principal</td>\n",
       "      <td>0</td>\n",
       "    </tr>\n",
       "    <tr>\n",
       "      <th>17868</th>\n",
       "      <td>5116780</td>\n",
       "      <td>1</td>\n",
       "      <td>1</td>\n",
       "      <td>1</td>\n",
       "      <td>0</td>\n",
       "      <td>0</td>\n",
       "      <td>211500.0</td>\n",
       "      <td>2.0</td>\n",
       "      <td>36.761877</td>\n",
       "      <td>14.338419</td>\n",
       "      <td>Associado comercial</td>\n",
       "      <td>Ensino médio</td>\n",
       "      <td>Casado</td>\n",
       "      <td>Casa/apartamento próprio</td>\n",
       "      <td>Outro</td>\n",
       "      <td>0</td>\n",
       "    </tr>\n",
       "  </tbody>\n",
       "</table>\n",
       "</div>"
      ],
      "text/plain": [
       "       id_cliente  tem_carro  tem_casa  tem_telefone_trabalho  \\\n",
       "3806      5029272          1         1                      1   \n",
       "17766     5116598          0         0                      0   \n",
       "16516     5112969          0         0                      1   \n",
       "1286      5021463          1         0                      0   \n",
       "17868     5116780          1         1                      1   \n",
       "\n",
       "       tem_telefone_fixo  tem_email  rendimento_anual  tam_familia      idade  \\\n",
       "3806                   1          0          116653.5          2.0  25.380398   \n",
       "17766                  1          0          144000.0          2.0  61.994428   \n",
       "16516                  1          0          112500.0          2.0  50.790913   \n",
       "1286                   0          0          225000.0          3.0  31.488668   \n",
       "17868                  0          0          211500.0          2.0  36.761877   \n",
       "\n",
       "       anos_empregado      categoria_renda grau_escolaridade   estado_civil  \\\n",
       "3806         4.547664  Associado comercial      Ensino médio         Casado   \n",
       "17766        0.000000          Pensionista      Ensino médio         Casado   \n",
       "16516       14.100221            Empregado      Ensino médio  União-estável   \n",
       "1286         2.012362            Empregado   Ensino superior  União-estável   \n",
       "17868       14.338419  Associado comercial      Ensino médio         Casado   \n",
       "\n",
       "                        moradia          ocupacao  mau  \n",
       "3806   Casa/apartamento próprio  Construção Civil    0  \n",
       "17766  Casa/apartamento próprio             Outro    0  \n",
       "16516  Casa/apartamento próprio  Construção Civil    0  \n",
       "1286   Casa/apartamento próprio  Equipe principal    0  \n",
       "17868  Casa/apartamento próprio             Outro    0  "
      ]
     },
     "execution_count": 107,
     "metadata": {},
     "output_type": "execute_result"
    }
   ],
   "source": [
    "train_df.head()"
   ]
  },
  {
   "cell_type": "code",
   "execution_count": 108,
   "metadata": {},
   "outputs": [],
   "source": [
    "from sklearn.base import BaseEstimator, TransformerMixin \n",
    "from sklearn.preprocessing import MinMaxScaler, OneHotEncoder, OrdinalEncoder\n",
    "from imblearn.over_sampling import SMOTE"
   ]
  },
  {
   "cell_type": "code",
   "execution_count": 109,
   "metadata": {},
   "outputs": [],
   "source": [
    "class class_drop_features(BaseEstimator, TransformerMixin):\n",
    "    def __init__(self, feature_to_drop = ['id_cliente']):\n",
    "        self.feature_to_drop = feature_to_drop\n",
    "    def fit(self, df):\n",
    "        return self\n",
    "    def transform(self, df):\n",
    "        if(set(self.feature_to_drop).issubset(df.columns)):\n",
    "            df.drop(self.feature_to_drop, axis=1, inplace=True)\n",
    "            return df\n",
    "        else:\n",
    "            print('Uma ou mais features não estão no Dataframe - drop_features')\n",
    "            return df"
   ]
  },
  {
   "cell_type": "code",
   "execution_count": 110,
   "metadata": {},
   "outputs": [],
   "source": [
    "class class_min_max(BaseEstimator, TransformerMixin):\n",
    "    def __init__(self, min_max_scaler = ['tam_familia', 'rendimento_anual', 'idade', 'anos_empregado']):\n",
    "        self.min_max_scaler = min_max_scaler\n",
    "    def fit(self, df):\n",
    "        return self\n",
    "    def transform(self, df):\n",
    "        if (set(self.min_max_scaler).issubset(df.columns)):\n",
    "            min_max_enc = MinMaxScaler()\n",
    "            df[self.min_max_scaler] = min_max_enc.fit_transform(df[self.min_max_scaler])\n",
    "            return df\n",
    "        else:\n",
    "            print('Uma ou mais features não estão no Dataframe - min_max')\n",
    "            return df"
   ]
  },
  {
   "cell_type": "code",
   "execution_count": 111,
   "metadata": {},
   "outputs": [],
   "source": [
    "class class_one_hot_enc_names(BaseEstimator, TransformerMixin):\n",
    "    def __init__(self, one_hot_encoding = ['categoria_renda', 'estado_civil', 'moradia', 'ocupacao']):\n",
    "        self.one_hot_encoding = one_hot_encoding\n",
    "    \n",
    "    def fit(self, df):\n",
    "        return self\n",
    "    \n",
    "    def transform(self, df):\n",
    "        if(set(self.one_hot_encoding).issubset(df.columns)):\n",
    "            # função para rodar o OneHotEncoder nas features\n",
    "            def onehot_features(df, one_hot_encoding):\n",
    "                onehot_features = OneHotEncoder()\n",
    "                onehot_features.fit(df[one_hot_encoding])\n",
    "                \n",
    "                #obtendo o nome das colunas\n",
    "                feature_names = onehot_features.get_feature_names_out(one_hot_encoding)\n",
    "                \n",
    "                # transformando o array em um dataframe com o nome das colunas\n",
    "                df = pd.DataFrame(onehot_features.transform(df[self.one_hot_encoding]).toarray(),\n",
    "                                  columns= feature_names, index=df.index)\n",
    "                \n",
    "                return df\n",
    "            \n",
    "            #função para concatenar as features que passaram pelo fit dos dados com o restante \n",
    "            def concat_df(df, onehotenc_df, one_hot_encoding):\n",
    "                outras_features = [feature for feature in df.columns if feature not in one_hot_encoding]\n",
    "                df_concat = pd.concat([onehotenc_df, df[outras_features]], axis=1)\n",
    "                return df_concat\n",
    "            \n",
    "            df_onehotencoding = onehot_features(df, self.one_hot_encoding)\n",
    "            \n",
    "            # retorna o df concatenado\n",
    "            df_full = concat_df(df, df_onehotencoding, self.one_hot_encoding)\n",
    "            return df_full\n",
    "        \n",
    "        else:\n",
    "            print('Uma ou mais features não estão no Dataframe - min_max')\n",
    "            return df"
   ]
  },
  {
   "cell_type": "code",
   "execution_count": 112,
   "metadata": {},
   "outputs": [],
   "source": [
    "class class_ordinal_feature(BaseEstimator, TransformerMixin):\n",
    "    def __init__(self, ordinal_feature = ['grau_escolaridade']):\n",
    "        self.ordinal_feature = ordinal_feature\n",
    "    \n",
    "    def fit(self, df):\n",
    "        return self\n",
    "    \n",
    "    def transform(self, df):\n",
    "        if 'grau_escolaridade' in df.columns:\n",
    "            ord_encoder = OrdinalEncoder()\n",
    "            df[self.ordinal_feature] = ord_encoder.fit_transform(df[self.ordinal_feature])\n",
    "            return df\n",
    "        else:\n",
    "            print('grau_escolaridade não está no Dataframe')\n",
    "            return df"
   ]
  },
  {
   "cell_type": "code",
   "execution_count": 113,
   "metadata": {},
   "outputs": [],
   "source": [
    "class class_oversample(BaseEstimator, TransformerMixin):\n",
    "    def __init__(self):\n",
    "        pass\n",
    "    \n",
    "    def fit(self, df):\n",
    "        return self\n",
    "    \n",
    "    def transform(self, df):\n",
    "        if 'mau' in df.columns:\n",
    "            # usando a função SMOTE para superamostrar a clase minoritária e corrigir dados desbalanceados\n",
    "            oversample = SMOTE(sampling_strategy='minority')\n",
    "            X_bal, y_bal = oversample.fit_resample(df.loc[:, df.columns !='mau'], df['mau'])\n",
    "            df_balanceado = pd.concat([pd.DataFrame(X_bal), pd.DataFrame(y_bal)], axis=1)\n",
    "            return df_balanceado\n",
    "        else:\n",
    "            print(\"O target não está no Dataframe\")\n",
    "            return df"
   ]
  },
  {
   "cell_type": "code",
   "execution_count": 114,
   "metadata": {},
   "outputs": [],
   "source": [
    "from sklearn.pipeline import Pipeline"
   ]
  },
  {
   "cell_type": "code",
   "execution_count": 115,
   "metadata": {},
   "outputs": [],
   "source": [
    "def df_pipeline(df):\n",
    "    pipeline = Pipeline([\n",
    "        ('feature_dropper', class_drop_features()),\n",
    "        ('MinMaxScaler', class_min_max()),\n",
    "        ('OneHotEncoding', class_one_hot_enc_names()),\n",
    "        ('OrdinalFeatures', class_ordinal_feature()),\n",
    "        ('Oversample', class_oversample())\n",
    "    ])\n",
    "    \n",
    "    df_pipeline = pipeline.fit_transform(df)\n",
    "    return df_pipeline"
   ]
  },
  {
   "cell_type": "markdown",
   "metadata": {},
   "source": [
    "# Parte 4 - Machine Learning: Escolhendo o melhor modelo"
   ]
  },
  {
   "cell_type": "code",
   "execution_count": 116,
   "metadata": {},
   "outputs": [],
   "source": [
    "train = df_pipeline(train_df)"
   ]
  },
  {
   "cell_type": "code",
   "execution_count": 117,
   "metadata": {},
   "outputs": [
    {
     "data": {
      "text/html": [
       "<div>\n",
       "<style scoped>\n",
       "    .dataframe tbody tr th:only-of-type {\n",
       "        vertical-align: middle;\n",
       "    }\n",
       "\n",
       "    .dataframe tbody tr th {\n",
       "        vertical-align: top;\n",
       "    }\n",
       "\n",
       "    .dataframe thead th {\n",
       "        text-align: right;\n",
       "    }\n",
       "</style>\n",
       "<table border=\"1\" class=\"dataframe\">\n",
       "  <thead>\n",
       "    <tr style=\"text-align: right;\">\n",
       "      <th></th>\n",
       "      <th>categoria_renda_Associado comercial</th>\n",
       "      <th>categoria_renda_Empregado</th>\n",
       "      <th>categoria_renda_Estudante</th>\n",
       "      <th>categoria_renda_Pensionista</th>\n",
       "      <th>categoria_renda_Servidor público</th>\n",
       "      <th>estado_civil_Casado</th>\n",
       "      <th>estado_civil_Divorciado</th>\n",
       "      <th>estado_civil_Solteiro</th>\n",
       "      <th>estado_civil_União-estável</th>\n",
       "      <th>estado_civil_Viúvo</th>\n",
       "      <th>...</th>\n",
       "      <th>tem_casa</th>\n",
       "      <th>tem_telefone_trabalho</th>\n",
       "      <th>tem_telefone_fixo</th>\n",
       "      <th>tem_email</th>\n",
       "      <th>rendimento_anual</th>\n",
       "      <th>tam_familia</th>\n",
       "      <th>idade</th>\n",
       "      <th>anos_empregado</th>\n",
       "      <th>grau_escolaridade</th>\n",
       "      <th>mau</th>\n",
       "    </tr>\n",
       "  </thead>\n",
       "  <tbody>\n",
       "    <tr>\n",
       "      <th>0</th>\n",
       "      <td>1.0</td>\n",
       "      <td>0.0</td>\n",
       "      <td>0.0</td>\n",
       "      <td>0.0</td>\n",
       "      <td>0.0</td>\n",
       "      <td>1.0</td>\n",
       "      <td>0.0</td>\n",
       "      <td>0.0</td>\n",
       "      <td>0.0</td>\n",
       "      <td>0.0</td>\n",
       "      <td>...</td>\n",
       "      <td>1</td>\n",
       "      <td>1</td>\n",
       "      <td>1</td>\n",
       "      <td>0</td>\n",
       "      <td>0.237179</td>\n",
       "      <td>0.071429</td>\n",
       "      <td>0.086979</td>\n",
       "      <td>0.105709</td>\n",
       "      <td>1.0</td>\n",
       "      <td>0</td>\n",
       "    </tr>\n",
       "    <tr>\n",
       "      <th>1</th>\n",
       "      <td>0.0</td>\n",
       "      <td>0.0</td>\n",
       "      <td>0.0</td>\n",
       "      <td>1.0</td>\n",
       "      <td>0.0</td>\n",
       "      <td>1.0</td>\n",
       "      <td>0.0</td>\n",
       "      <td>0.0</td>\n",
       "      <td>0.0</td>\n",
       "      <td>0.0</td>\n",
       "      <td>...</td>\n",
       "      <td>0</td>\n",
       "      <td>0</td>\n",
       "      <td>1</td>\n",
       "      <td>0</td>\n",
       "      <td>0.309524</td>\n",
       "      <td>0.071429</td>\n",
       "      <td>0.855763</td>\n",
       "      <td>0.000000</td>\n",
       "      <td>1.0</td>\n",
       "      <td>0</td>\n",
       "    </tr>\n",
       "    <tr>\n",
       "      <th>2</th>\n",
       "      <td>0.0</td>\n",
       "      <td>1.0</td>\n",
       "      <td>0.0</td>\n",
       "      <td>0.0</td>\n",
       "      <td>0.0</td>\n",
       "      <td>0.0</td>\n",
       "      <td>0.0</td>\n",
       "      <td>0.0</td>\n",
       "      <td>1.0</td>\n",
       "      <td>0.0</td>\n",
       "      <td>...</td>\n",
       "      <td>0</td>\n",
       "      <td>1</td>\n",
       "      <td>1</td>\n",
       "      <td>0</td>\n",
       "      <td>0.226190</td>\n",
       "      <td>0.071429</td>\n",
       "      <td>0.620523</td>\n",
       "      <td>0.327754</td>\n",
       "      <td>1.0</td>\n",
       "      <td>0</td>\n",
       "    </tr>\n",
       "    <tr>\n",
       "      <th>3</th>\n",
       "      <td>0.0</td>\n",
       "      <td>1.0</td>\n",
       "      <td>0.0</td>\n",
       "      <td>0.0</td>\n",
       "      <td>0.0</td>\n",
       "      <td>0.0</td>\n",
       "      <td>0.0</td>\n",
       "      <td>0.0</td>\n",
       "      <td>1.0</td>\n",
       "      <td>0.0</td>\n",
       "      <td>...</td>\n",
       "      <td>0</td>\n",
       "      <td>0</td>\n",
       "      <td>0</td>\n",
       "      <td>0</td>\n",
       "      <td>0.523810</td>\n",
       "      <td>0.142857</td>\n",
       "      <td>0.215234</td>\n",
       "      <td>0.046777</td>\n",
       "      <td>2.0</td>\n",
       "      <td>0</td>\n",
       "    </tr>\n",
       "    <tr>\n",
       "      <th>4</th>\n",
       "      <td>1.0</td>\n",
       "      <td>0.0</td>\n",
       "      <td>0.0</td>\n",
       "      <td>0.0</td>\n",
       "      <td>0.0</td>\n",
       "      <td>1.0</td>\n",
       "      <td>0.0</td>\n",
       "      <td>0.0</td>\n",
       "      <td>0.0</td>\n",
       "      <td>0.0</td>\n",
       "      <td>...</td>\n",
       "      <td>1</td>\n",
       "      <td>1</td>\n",
       "      <td>0</td>\n",
       "      <td>0</td>\n",
       "      <td>0.488095</td>\n",
       "      <td>0.071429</td>\n",
       "      <td>0.325956</td>\n",
       "      <td>0.333291</td>\n",
       "      <td>1.0</td>\n",
       "      <td>0</td>\n",
       "    </tr>\n",
       "  </tbody>\n",
       "</table>\n",
       "<p>5 rows × 46 columns</p>\n",
       "</div>"
      ],
      "text/plain": [
       "   categoria_renda_Associado comercial  categoria_renda_Empregado  \\\n",
       "0                                  1.0                        0.0   \n",
       "1                                  0.0                        0.0   \n",
       "2                                  0.0                        1.0   \n",
       "3                                  0.0                        1.0   \n",
       "4                                  1.0                        0.0   \n",
       "\n",
       "   categoria_renda_Estudante  categoria_renda_Pensionista  \\\n",
       "0                        0.0                          0.0   \n",
       "1                        0.0                          1.0   \n",
       "2                        0.0                          0.0   \n",
       "3                        0.0                          0.0   \n",
       "4                        0.0                          0.0   \n",
       "\n",
       "   categoria_renda_Servidor público  estado_civil_Casado  \\\n",
       "0                               0.0                  1.0   \n",
       "1                               0.0                  1.0   \n",
       "2                               0.0                  0.0   \n",
       "3                               0.0                  0.0   \n",
       "4                               0.0                  1.0   \n",
       "\n",
       "   estado_civil_Divorciado  estado_civil_Solteiro  estado_civil_União-estável  \\\n",
       "0                      0.0                    0.0                         0.0   \n",
       "1                      0.0                    0.0                         0.0   \n",
       "2                      0.0                    0.0                         1.0   \n",
       "3                      0.0                    0.0                         1.0   \n",
       "4                      0.0                    0.0                         0.0   \n",
       "\n",
       "   estado_civil_Viúvo  ...  tem_casa  tem_telefone_trabalho  \\\n",
       "0                 0.0  ...         1                      1   \n",
       "1                 0.0  ...         0                      0   \n",
       "2                 0.0  ...         0                      1   \n",
       "3                 0.0  ...         0                      0   \n",
       "4                 0.0  ...         1                      1   \n",
       "\n",
       "   tem_telefone_fixo  tem_email  rendimento_anual  tam_familia     idade  \\\n",
       "0                  1          0          0.237179     0.071429  0.086979   \n",
       "1                  1          0          0.309524     0.071429  0.855763   \n",
       "2                  1          0          0.226190     0.071429  0.620523   \n",
       "3                  0          0          0.523810     0.142857  0.215234   \n",
       "4                  0          0          0.488095     0.071429  0.325956   \n",
       "\n",
       "   anos_empregado  grau_escolaridade  mau  \n",
       "0        0.105709                1.0    0  \n",
       "1        0.000000                1.0    0  \n",
       "2        0.327754                1.0    0  \n",
       "3        0.046777                2.0    0  \n",
       "4        0.333291                1.0    0  \n",
       "\n",
       "[5 rows x 46 columns]"
      ]
     },
     "execution_count": 117,
     "metadata": {},
     "output_type": "execute_result"
    }
   ],
   "source": [
    "train.head()"
   ]
  },
  {
   "cell_type": "code",
   "execution_count": 118,
   "metadata": {},
   "outputs": [
    {
     "data": {
      "text/plain": [
       "mau\n",
       "0    50.0\n",
       "1    50.0\n",
       "Name: proportion, dtype: float64"
      ]
     },
     "execution_count": 118,
     "metadata": {},
     "output_type": "execute_result"
    }
   ],
   "source": [
    "train['mau'].value_counts(normalize=True)*100 # agora os dados não estão mais desbalanceados"
   ]
  },
  {
   "cell_type": "code",
   "execution_count": 119,
   "metadata": {},
   "outputs": [
    {
     "data": {
      "text/plain": [
       "(35544, 46)"
      ]
     },
     "execution_count": 119,
     "metadata": {},
     "output_type": "execute_result"
    }
   ],
   "source": [
    "train.shape"
   ]
  },
  {
   "cell_type": "code",
   "execution_count": 120,
   "metadata": {},
   "outputs": [],
   "source": [
    "X_treino, y_treino = train.loc[:, train.columns != 'mau'], train['mau'] # y é sempre a nossa coluna target"
   ]
  },
  {
   "cell_type": "code",
   "execution_count": 121,
   "metadata": {},
   "outputs": [],
   "source": [
    "test = df_pipeline(test_df)"
   ]
  },
  {
   "cell_type": "code",
   "execution_count": 122,
   "metadata": {},
   "outputs": [
    {
     "data": {
      "text/html": [
       "<div>\n",
       "<style scoped>\n",
       "    .dataframe tbody tr th:only-of-type {\n",
       "        vertical-align: middle;\n",
       "    }\n",
       "\n",
       "    .dataframe tbody tr th {\n",
       "        vertical-align: top;\n",
       "    }\n",
       "\n",
       "    .dataframe thead th {\n",
       "        text-align: right;\n",
       "    }\n",
       "</style>\n",
       "<table border=\"1\" class=\"dataframe\">\n",
       "  <thead>\n",
       "    <tr style=\"text-align: right;\">\n",
       "      <th></th>\n",
       "      <th>categoria_renda_Associado comercial</th>\n",
       "      <th>categoria_renda_Empregado</th>\n",
       "      <th>categoria_renda_Estudante</th>\n",
       "      <th>categoria_renda_Pensionista</th>\n",
       "      <th>categoria_renda_Servidor público</th>\n",
       "      <th>estado_civil_Casado</th>\n",
       "      <th>estado_civil_Divorciado</th>\n",
       "      <th>estado_civil_Solteiro</th>\n",
       "      <th>estado_civil_União-estável</th>\n",
       "      <th>estado_civil_Viúvo</th>\n",
       "      <th>...</th>\n",
       "      <th>tem_casa</th>\n",
       "      <th>tem_telefone_trabalho</th>\n",
       "      <th>tem_telefone_fixo</th>\n",
       "      <th>tem_email</th>\n",
       "      <th>rendimento_anual</th>\n",
       "      <th>tam_familia</th>\n",
       "      <th>idade</th>\n",
       "      <th>anos_empregado</th>\n",
       "      <th>grau_escolaridade</th>\n",
       "      <th>mau</th>\n",
       "    </tr>\n",
       "  </thead>\n",
       "  <tbody>\n",
       "    <tr>\n",
       "      <th>0</th>\n",
       "      <td>0.0</td>\n",
       "      <td>0.0</td>\n",
       "      <td>0.0</td>\n",
       "      <td>1.0</td>\n",
       "      <td>0.0</td>\n",
       "      <td>0.0</td>\n",
       "      <td>0.0</td>\n",
       "      <td>1.0</td>\n",
       "      <td>0.0</td>\n",
       "      <td>0.0</td>\n",
       "      <td>...</td>\n",
       "      <td>1</td>\n",
       "      <td>0</td>\n",
       "      <td>0</td>\n",
       "      <td>0</td>\n",
       "      <td>0.178571</td>\n",
       "      <td>0.000000</td>\n",
       "      <td>0.847034</td>\n",
       "      <td>0.000000</td>\n",
       "      <td>2.0</td>\n",
       "      <td>0</td>\n",
       "    </tr>\n",
       "    <tr>\n",
       "      <th>1</th>\n",
       "      <td>0.0</td>\n",
       "      <td>1.0</td>\n",
       "      <td>0.0</td>\n",
       "      <td>0.0</td>\n",
       "      <td>0.0</td>\n",
       "      <td>0.0</td>\n",
       "      <td>0.0</td>\n",
       "      <td>0.0</td>\n",
       "      <td>1.0</td>\n",
       "      <td>0.0</td>\n",
       "      <td>...</td>\n",
       "      <td>1</td>\n",
       "      <td>1</td>\n",
       "      <td>1</td>\n",
       "      <td>0</td>\n",
       "      <td>0.523810</td>\n",
       "      <td>0.071429</td>\n",
       "      <td>0.329230</td>\n",
       "      <td>0.338420</td>\n",
       "      <td>1.0</td>\n",
       "      <td>0</td>\n",
       "    </tr>\n",
       "    <tr>\n",
       "      <th>2</th>\n",
       "      <td>0.0</td>\n",
       "      <td>0.0</td>\n",
       "      <td>0.0</td>\n",
       "      <td>0.0</td>\n",
       "      <td>1.0</td>\n",
       "      <td>1.0</td>\n",
       "      <td>0.0</td>\n",
       "      <td>0.0</td>\n",
       "      <td>0.0</td>\n",
       "      <td>0.0</td>\n",
       "      <td>...</td>\n",
       "      <td>1</td>\n",
       "      <td>1</td>\n",
       "      <td>0</td>\n",
       "      <td>0</td>\n",
       "      <td>0.226190</td>\n",
       "      <td>0.214286</td>\n",
       "      <td>0.372605</td>\n",
       "      <td>0.364600</td>\n",
       "      <td>0.0</td>\n",
       "      <td>0</td>\n",
       "    </tr>\n",
       "    <tr>\n",
       "      <th>3</th>\n",
       "      <td>1.0</td>\n",
       "      <td>0.0</td>\n",
       "      <td>0.0</td>\n",
       "      <td>0.0</td>\n",
       "      <td>0.0</td>\n",
       "      <td>0.0</td>\n",
       "      <td>0.0</td>\n",
       "      <td>0.0</td>\n",
       "      <td>0.0</td>\n",
       "      <td>1.0</td>\n",
       "      <td>...</td>\n",
       "      <td>1</td>\n",
       "      <td>0</td>\n",
       "      <td>0</td>\n",
       "      <td>0</td>\n",
       "      <td>0.190476</td>\n",
       "      <td>0.000000</td>\n",
       "      <td>0.800840</td>\n",
       "      <td>0.079114</td>\n",
       "      <td>1.0</td>\n",
       "      <td>0</td>\n",
       "    </tr>\n",
       "    <tr>\n",
       "      <th>4</th>\n",
       "      <td>0.0</td>\n",
       "      <td>1.0</td>\n",
       "      <td>0.0</td>\n",
       "      <td>0.0</td>\n",
       "      <td>0.0</td>\n",
       "      <td>1.0</td>\n",
       "      <td>0.0</td>\n",
       "      <td>0.0</td>\n",
       "      <td>0.0</td>\n",
       "      <td>0.0</td>\n",
       "      <td>...</td>\n",
       "      <td>1</td>\n",
       "      <td>0</td>\n",
       "      <td>0</td>\n",
       "      <td>0</td>\n",
       "      <td>0.226190</td>\n",
       "      <td>0.071429</td>\n",
       "      <td>0.610251</td>\n",
       "      <td>0.044761</td>\n",
       "      <td>1.0</td>\n",
       "      <td>0</td>\n",
       "    </tr>\n",
       "  </tbody>\n",
       "</table>\n",
       "<p>5 rows × 46 columns</p>\n",
       "</div>"
      ],
      "text/plain": [
       "   categoria_renda_Associado comercial  categoria_renda_Empregado  \\\n",
       "0                                  0.0                        0.0   \n",
       "1                                  0.0                        1.0   \n",
       "2                                  0.0                        0.0   \n",
       "3                                  1.0                        0.0   \n",
       "4                                  0.0                        1.0   \n",
       "\n",
       "   categoria_renda_Estudante  categoria_renda_Pensionista  \\\n",
       "0                        0.0                          1.0   \n",
       "1                        0.0                          0.0   \n",
       "2                        0.0                          0.0   \n",
       "3                        0.0                          0.0   \n",
       "4                        0.0                          0.0   \n",
       "\n",
       "   categoria_renda_Servidor público  estado_civil_Casado  \\\n",
       "0                               0.0                  0.0   \n",
       "1                               0.0                  0.0   \n",
       "2                               1.0                  1.0   \n",
       "3                               0.0                  0.0   \n",
       "4                               0.0                  1.0   \n",
       "\n",
       "   estado_civil_Divorciado  estado_civil_Solteiro  estado_civil_União-estável  \\\n",
       "0                      0.0                    1.0                         0.0   \n",
       "1                      0.0                    0.0                         1.0   \n",
       "2                      0.0                    0.0                         0.0   \n",
       "3                      0.0                    0.0                         0.0   \n",
       "4                      0.0                    0.0                         0.0   \n",
       "\n",
       "   estado_civil_Viúvo  ...  tem_casa  tem_telefone_trabalho  \\\n",
       "0                 0.0  ...         1                      0   \n",
       "1                 0.0  ...         1                      1   \n",
       "2                 0.0  ...         1                      1   \n",
       "3                 1.0  ...         1                      0   \n",
       "4                 0.0  ...         1                      0   \n",
       "\n",
       "   tem_telefone_fixo  tem_email  rendimento_anual  tam_familia     idade  \\\n",
       "0                  0          0          0.178571     0.000000  0.847034   \n",
       "1                  1          0          0.523810     0.071429  0.329230   \n",
       "2                  0          0          0.226190     0.214286  0.372605   \n",
       "3                  0          0          0.190476     0.000000  0.800840   \n",
       "4                  0          0          0.226190     0.071429  0.610251   \n",
       "\n",
       "   anos_empregado  grau_escolaridade  mau  \n",
       "0        0.000000                2.0    0  \n",
       "1        0.338420                1.0    0  \n",
       "2        0.364600                0.0    0  \n",
       "3        0.079114                1.0    0  \n",
       "4        0.044761                1.0    0  \n",
       "\n",
       "[5 rows x 46 columns]"
      ]
     },
     "execution_count": 122,
     "metadata": {},
     "output_type": "execute_result"
    }
   ],
   "source": [
    "test.head()"
   ]
  },
  {
   "cell_type": "code",
   "execution_count": 123,
   "metadata": {},
   "outputs": [],
   "source": [
    "X_teste, y_teste = test.loc[:, test.columns != 'mau'], test['mau'] "
   ]
  },
  {
   "cell_type": "code",
   "execution_count": 124,
   "metadata": {},
   "outputs": [],
   "source": [
    "from sklearn import metrics\n",
    "from sklearn.metrics import classification_report, ConfusionMatrixDisplay, roc_auc_score, RocCurveDisplay\n",
    "from scipy import stats\n",
    "import warnings\n",
    "warnings.filterwarnings('ignore')"
   ]
  },
  {
   "cell_type": "code",
   "execution_count": 125,
   "metadata": {},
   "outputs": [],
   "source": [
    "def roda_modelo(modelo):\n",
    "    modelo.fit(X_treino, y_treino)\n",
    "    \n",
    "    prob_predict = modelo.predict_proba(X_teste)\n",
    "    \n",
    "    print(f'\\n------------------------ Resultados {modelo} ------------------------\\n \\n')\n",
    "    \n",
    "    data_bom = np.sort(modelo.predict_proba(X_teste)[:, 0])\n",
    "    data_mau = np.sort(modelo.predict_proba(X_teste)[:, 1])\n",
    "    kstest = stats.ks_2samp(data_bom, data_mau)\n",
    "    \n",
    "    print(f'>> Métrica KS: {kstest}')\n",
    "    \n",
    "    print(f'\\nConfusion Matrix\\n')\n",
    "    \n",
    "    fig, ax = plt.subplots(figsize=(7,7))\n",
    "    matriz_confusao = ConfusionMatrixDisplay.from_estimator(modelo, X_teste, y_teste, normalize='true',\n",
    "                                            display_labels=['Bom pagador', 'Mau pagador'],\n",
    "                                            ax=ax, cmap=plt.cm.Blues)\n",
    "    ax.set_title('Matriz de Confusão\\nNormalizada', fontsize=14, fontweight='bold')\n",
    "    ax.set_xlabel('Label predita', fontsize=12)\n",
    "    ax.set_ylabel('Label verdadeira', fontsize=12)\n",
    "    plt.grid(False)\n",
    "    plt.show(matriz_confusao)\n",
    "    \n",
    "    predicao = modelo.predict(X_teste)\n",
    "    print(f'\\n \\n>> Classification Report\\n')\n",
    "    print(classification_report(y_teste, predicao, zero_division=0))\n",
    "    \n",
    "    print(f'\\n \\n------------------------ ROC curve ------------------------\\n')\n",
    "    metrics.RocCurveDisplay.from_estimator(modelo, X_teste, y_teste)"
   ]
  },
  {
   "cell_type": "code",
   "execution_count": 126,
   "metadata": {},
   "outputs": [],
   "source": [
    "# importando os modelos de Machine Learning \n",
    "from sklearn.linear_model import LogisticRegression\n",
    "modelo_logistico = LogisticRegression()"
   ]
  },
  {
   "cell_type": "code",
   "execution_count": 127,
   "metadata": {},
   "outputs": [
    {
     "name": "stdout",
     "output_type": "stream",
     "text": [
      "\n",
      "------------------------ Resultados LogisticRegression() ------------------------\n",
      " \n",
      "\n",
      ">> Métrica KS: KstestResult(statistic=0.047496070065124636, pvalue=3.740218318977943e-09, statistic_location=0.27408444245513586, statistic_sign=-1)\n",
      "\n",
      "Confusion Matrix\n",
      "\n"
     ]
    },
    {
     "data": {
      "image/png": "[encoded data removed]",
      "text/plain": [
       "<Figure size 700x700 with 2 Axes>"
      ]
     },
     "metadata": {},
     "output_type": "display_data"
    },
    {
     "name": "stdout",
     "output_type": "stream",
     "text": [
      "\n",
      " \n",
      ">> Classification Report\n",
      "\n",
      "              precision    recall  f1-score   support\n",
      "\n",
      "           0       0.60      0.59      0.60      4453\n",
      "           1       0.60      0.60      0.60      4453\n",
      "\n",
      "    accuracy                           0.60      8906\n",
      "   macro avg       0.60      0.60      0.60      8906\n",
      "weighted avg       0.60      0.60      0.60      8906\n",
      "\n",
      "\n",
      " \n",
      "------------------------ ROC curve ------------------------\n",
      "\n"
     ]
    },
    {
     "data": {
      "image/png": "[encoded data removed]",
      "text/plain": [
       "<Figure size 640x480 with 1 Axes>"
      ]
     },
     "metadata": {},
     "output_type": "display_data"
    }
   ],
   "source": [
    "roda_modelo(modelo_logistico)"
   ]
  },
  {
   "cell_type": "code",
   "execution_count": 128,
   "metadata": {},
   "outputs": [],
   "source": [
    "from sklearn.tree import DecisionTreeClassifier\n",
    "modelo_tree = DecisionTreeClassifier()"
   ]
  },
  {
   "cell_type": "code",
   "execution_count": 129,
   "metadata": {},
   "outputs": [
    {
     "name": "stdout",
     "output_type": "stream",
     "text": [
      "\n",
      "------------------------ Resultados DecisionTreeClassifier() ------------------------\n",
      " \n",
      "\n",
      ">> Métrica KS: KstestResult(statistic=0.31349651920053895, pvalue=1e-323, statistic_location=0.0, statistic_sign=-1)\n",
      "\n",
      "Confusion Matrix\n",
      "\n"
     ]
    },
    {
     "data": {
      "image/png": "[encoded data removed]",
      "text/plain": [
       "<Figure size 700x700 with 2 Axes>"
      ]
     },
     "metadata": {},
     "output_type": "display_data"
    },
    {
     "name": "stdout",
     "output_type": "stream",
     "text": [
      "\n",
      " \n",
      ">> Classification Report\n",
      "\n",
      "              precision    recall  f1-score   support\n",
      "\n",
      "           0       0.74      0.97      0.84      4453\n",
      "           1       0.96      0.66      0.78      4453\n",
      "\n",
      "    accuracy                           0.82      8906\n",
      "   macro avg       0.85      0.82      0.81      8906\n",
      "weighted avg       0.85      0.82      0.81      8906\n",
      "\n",
      "\n",
      " \n",
      "------------------------ ROC curve ------------------------\n",
      "\n"
     ]
    },
    {
     "data": {
      "image/png": "[encoded data removed]",
      "text/plain": [
       "<Figure size 640x480 with 1 Axes>"
      ]
     },
     "metadata": {},
     "output_type": "display_data"
    }
   ],
   "source": [
    "roda_modelo(modelo_tree)"
   ]
  },
  {
   "cell_type": "code",
   "execution_count": 130,
   "metadata": {},
   "outputs": [],
   "source": [
    "from sklearn.ensemble import GradientBoostingClassifier\n",
    "modelo_xgb = GradientBoostingClassifier()"
   ]
  },
  {
   "cell_type": "code",
   "execution_count": 131,
   "metadata": {},
   "outputs": [
    {
     "name": "stdout",
     "output_type": "stream",
     "text": [
      "\n",
      "------------------------ Resultados GradientBoostingClassifier() ------------------------\n",
      " \n",
      "\n",
      ">> Métrica KS: KstestResult(statistic=0.14551987424208399, pvalue=1.2849952244460666e-82, statistic_location=0.16269162213455235, statistic_sign=1)\n",
      "\n",
      "Confusion Matrix\n",
      "\n"
     ]
    },
    {
     "data": {
      "image/png": "[encoded data removed]",
      "text/plain": [
       "<Figure size 700x700 with 2 Axes>"
      ]
     },
     "metadata": {},
     "output_type": "display_data"
    },
    {
     "name": "stdout",
     "output_type": "stream",
     "text": [
      "\n",
      " \n",
      ">> Classification Report\n",
      "\n",
      "              precision    recall  f1-score   support\n",
      "\n",
      "           0       0.88      0.92      0.90      4453\n",
      "           1       0.92      0.88      0.90      4453\n",
      "\n",
      "    accuracy                           0.90      8906\n",
      "   macro avg       0.90      0.90      0.90      8906\n",
      "weighted avg       0.90      0.90      0.90      8906\n",
      "\n",
      "\n",
      " \n",
      "------------------------ ROC curve ------------------------\n",
      "\n"
     ]
    },
    {
     "data": {
      "image/png": "[encoded data removed]",
      "text/plain": [
       "<Figure size 640x480 with 1 Axes>"
      ]
     },
     "metadata": {},
     "output_type": "display_data"
    }
   ],
   "source": [
    "roda_modelo(modelo_xgb)"
   ]
  },
  {
   "cell_type": "code",
   "execution_count": 132,
   "metadata": {},
   "outputs": [],
   "source": [
    "import joblib"
   ]
  },
  {
   "cell_type": "code",
   "execution_count": 133,
   "metadata": {},
   "outputs": [
    {
     "data": {
      "text/plain": [
       "['xgb.joblib']"
      ]
     },
     "execution_count": 133,
     "metadata": {},
     "output_type": "execute_result"
    }
   ],
   "source": [
    "joblib.dump(modelo_xgb, 'xgb.joblib')"
   ]
  }
 ],
 "metadata": {
  "kernelspec": {
   "display_name": "venv",
   "language": "python",
   "name": "python3"
  },
  "language_info": {
   "codemirror_mode": {
    "name": "ipython",
    "version": 3
   },
   "file_extension": ".py",
   "mimetype": "text/x-python",
   "name": "python",
   "nbconvert_exporter": "python",
   "pygments_lexer": "ipython3",
   "version": "3.11.5"
  }
 },
 "nbformat": 4,
 "nbformat_minor": 2
}
