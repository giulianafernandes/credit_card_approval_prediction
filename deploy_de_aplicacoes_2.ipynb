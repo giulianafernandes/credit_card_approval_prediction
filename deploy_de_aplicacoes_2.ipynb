{
 "cells": [
  {
   "cell_type": "markdown",
   "metadata": {},
   "source": [
    "# Parte 1 - Tratando os Dados"
   ]
  },
  {
   "cell_type": "code",
   "execution_count": 1,
   "metadata": {},
   "outputs": [],
   "source": [
    "import pandas as pd"
   ]
  },
  {
   "cell_type": "code",
   "execution_count": 2,
   "metadata": {},
   "outputs": [],
   "source": [
    "cadastrados = pd.read_csv('dados/clientes_cadastrados.csv')"
   ]
  },
  {
   "cell_type": "code",
   "execution_count": 3,
   "metadata": {},
   "outputs": [
    {
     "data": {
      "text/html": [
       "<div>\n",
       "<style scoped>\n",
       "    .dataframe tbody tr th:only-of-type {\n",
       "        vertical-align: middle;\n",
       "    }\n",
       "\n",
       "    .dataframe tbody tr th {\n",
       "        vertical-align: top;\n",
       "    }\n",
       "\n",
       "    .dataframe thead th {\n",
       "        text-align: right;\n",
       "    }\n",
       "</style>\n",
       "<table border=\"1\" class=\"dataframe\">\n",
       "  <thead>\n",
       "    <tr style=\"text-align: right;\">\n",
       "      <th></th>\n",
       "      <th>ID_Cliente</th>\n",
       "      <th>Genero</th>\n",
       "      <th>Tem_carro</th>\n",
       "      <th>Tem_casa_propria</th>\n",
       "      <th>Qtd_filhos</th>\n",
       "      <th>Rendimento_anual</th>\n",
       "      <th>Categoria_de_renda</th>\n",
       "      <th>Grau_escolaridade</th>\n",
       "      <th>Estado_civil</th>\n",
       "      <th>Moradia</th>\n",
       "      <th>Idade</th>\n",
       "      <th>Anos_empregado</th>\n",
       "      <th>Tem_celular</th>\n",
       "      <th>Tem_telefone_trabalho</th>\n",
       "      <th>Tem_telefone_fixo</th>\n",
       "      <th>Tem_email</th>\n",
       "      <th>Ocupacao</th>\n",
       "      <th>Tamanho_familia</th>\n",
       "    </tr>\n",
       "  </thead>\n",
       "  <tbody>\n",
       "    <tr>\n",
       "      <th>0</th>\n",
       "      <td>5008804</td>\n",
       "      <td>M</td>\n",
       "      <td>Y</td>\n",
       "      <td>Y</td>\n",
       "      <td>0</td>\n",
       "      <td>427500.0</td>\n",
       "      <td>Empregado</td>\n",
       "      <td>Ensino superior</td>\n",
       "      <td>União-estável</td>\n",
       "      <td>Apartamento alugado</td>\n",
       "      <td>-12005</td>\n",
       "      <td>-4542</td>\n",
       "      <td>1</td>\n",
       "      <td>1</td>\n",
       "      <td>0</td>\n",
       "      <td>0</td>\n",
       "      <td>NaN</td>\n",
       "      <td>2.0</td>\n",
       "    </tr>\n",
       "    <tr>\n",
       "      <th>1</th>\n",
       "      <td>5008805</td>\n",
       "      <td>M</td>\n",
       "      <td>Y</td>\n",
       "      <td>Y</td>\n",
       "      <td>0</td>\n",
       "      <td>427500.0</td>\n",
       "      <td>Empregado</td>\n",
       "      <td>Ensino superior</td>\n",
       "      <td>União-estável</td>\n",
       "      <td>Apartamento alugado</td>\n",
       "      <td>-12005</td>\n",
       "      <td>-4542</td>\n",
       "      <td>1</td>\n",
       "      <td>1</td>\n",
       "      <td>0</td>\n",
       "      <td>0</td>\n",
       "      <td>NaN</td>\n",
       "      <td>2.0</td>\n",
       "    </tr>\n",
       "    <tr>\n",
       "      <th>2</th>\n",
       "      <td>5008806</td>\n",
       "      <td>M</td>\n",
       "      <td>Y</td>\n",
       "      <td>Y</td>\n",
       "      <td>0</td>\n",
       "      <td>112500.0</td>\n",
       "      <td>Empregado</td>\n",
       "      <td>Ensino médio</td>\n",
       "      <td>Casado</td>\n",
       "      <td>Casa/apartamento próprio</td>\n",
       "      <td>-21474</td>\n",
       "      <td>-1134</td>\n",
       "      <td>1</td>\n",
       "      <td>0</td>\n",
       "      <td>0</td>\n",
       "      <td>0</td>\n",
       "      <td>Segurança</td>\n",
       "      <td>2.0</td>\n",
       "    </tr>\n",
       "  </tbody>\n",
       "</table>\n",
       "</div>"
      ],
      "text/plain": [
       "   ID_Cliente Genero Tem_carro Tem_casa_propria  Qtd_filhos  Rendimento_anual  \\\n",
       "0     5008804      M         Y                Y           0          427500.0   \n",
       "1     5008805      M         Y                Y           0          427500.0   \n",
       "2     5008806      M         Y                Y           0          112500.0   \n",
       "\n",
       "  Categoria_de_renda Grau_escolaridade   Estado_civil  \\\n",
       "0          Empregado   Ensino superior  União-estável   \n",
       "1          Empregado   Ensino superior  União-estável   \n",
       "2          Empregado      Ensino médio         Casado   \n",
       "\n",
       "                    Moradia  Idade  Anos_empregado  Tem_celular  \\\n",
       "0       Apartamento alugado -12005           -4542            1   \n",
       "1       Apartamento alugado -12005           -4542            1   \n",
       "2  Casa/apartamento próprio -21474           -1134            1   \n",
       "\n",
       "   Tem_telefone_trabalho  Tem_telefone_fixo  Tem_email   Ocupacao  \\\n",
       "0                      1                  0          0        NaN   \n",
       "1                      1                  0          0        NaN   \n",
       "2                      0                  0          0  Segurança   \n",
       "\n",
       "   Tamanho_familia  \n",
       "0              2.0  \n",
       "1              2.0  \n",
       "2              2.0  "
      ]
     },
     "execution_count": 3,
     "metadata": {},
     "output_type": "execute_result"
    }
   ],
   "source": [
    "cadastrados.head(3)"
   ]
  },
  {
   "cell_type": "code",
   "execution_count": 4,
   "metadata": {},
   "outputs": [
    {
     "data": {
      "text/plain": [
       "(438557, 18)"
      ]
     },
     "execution_count": 4,
     "metadata": {},
     "output_type": "execute_result"
    }
   ],
   "source": [
    "cadastrados.shape"
   ]
  },
  {
   "cell_type": "code",
   "execution_count": 5,
   "metadata": {},
   "outputs": [
    {
     "name": "stdout",
     "output_type": "stream",
     "text": [
      "<class 'pandas.core.frame.DataFrame'>\n",
      "RangeIndex: 438557 entries, 0 to 438556\n",
      "Data columns (total 18 columns):\n",
      " #   Column                 Non-Null Count   Dtype  \n",
      "---  ------                 --------------   -----  \n",
      " 0   ID_Cliente             438557 non-null  int64  \n",
      " 1   Genero                 438557 non-null  object \n",
      " 2   Tem_carro              438557 non-null  object \n",
      " 3   Tem_casa_propria       438557 non-null  object \n",
      " 4   Qtd_filhos             438557 non-null  int64  \n",
      " 5   Rendimento_anual       438557 non-null  float64\n",
      " 6   Categoria_de_renda     438557 non-null  object \n",
      " 7   Grau_escolaridade      438557 non-null  object \n",
      " 8   Estado_civil           438557 non-null  object \n",
      " 9   Moradia                438557 non-null  object \n",
      " 10  Idade                  438557 non-null  int64  \n",
      " 11  Anos_empregado         438557 non-null  int64  \n",
      " 12  Tem_celular            438557 non-null  int64  \n",
      " 13  Tem_telefone_trabalho  438557 non-null  int64  \n",
      " 14  Tem_telefone_fixo      438557 non-null  int64  \n",
      " 15  Tem_email              438557 non-null  int64  \n",
      " 16  Ocupacao               304354 non-null  object \n",
      " 17  Tamanho_familia        438557 non-null  float64\n",
      "dtypes: float64(2), int64(8), object(8)\n",
      "memory usage: 60.2+ MB\n"
     ]
    }
   ],
   "source": [
    "cadastrados.info()"
   ]
  },
  {
   "cell_type": "markdown",
   "metadata": {},
   "source": [
    "## Renomeando as colunas"
   ]
  },
  {
   "cell_type": "code",
   "execution_count": 6,
   "metadata": {},
   "outputs": [
    {
     "name": "stdout",
     "output_type": "stream",
     "text": [
      "['ID_Cliente', 'Genero', 'Tem_carro', 'Tem_casa_propria', 'Qtd_filhos', 'Rendimento_anual', 'Categoria_de_renda', 'Grau_escolaridade', 'Estado_civil', 'Moradia', 'Idade', 'Anos_empregado', 'Tem_celular', 'Tem_telefone_trabalho', 'Tem_telefone_fixo', 'Tem_email', 'Ocupacao', 'Tamanho_familia']\n"
     ]
    }
   ],
   "source": [
    "columns_list = cadastrados.columns.tolist()\n",
    "print(columns_list)"
   ]
  },
  {
   "cell_type": "code",
   "execution_count": 7,
   "metadata": {},
   "outputs": [],
   "source": [
    "cadastrados = cadastrados.rename(columns={'ID_Cliente': 'id_cliente', \n",
    "                            'Genero': 'genero',\n",
    "                            'Tem_carro': 'tem_carro', \n",
    "                            'Tem_casa_propria': 'tem_casa', \n",
    "                            'Qtd_filhos': 'qtd_filhos', \n",
    "                            'Rendimento_anual': 'rendimento_anual', \n",
    "                            'Categoria_de_renda': 'categoria_renda', \n",
    "                            'Grau_escolaridade': 'grau_escolaridade', \n",
    "                            'Estado_civil': 'estado_civil', \n",
    "                            'Moradia': 'moradia', \n",
    "                            'Idade': 'idade', \n",
    "                            'Anos_empregado': 'anos_empregado', \n",
    "                            'Tem_celular': 'tem_celular', \n",
    "                            'Tem_telefone_trabalho': 'tem_telefone_trabalho', \n",
    "                            'Tem_telefone_fixo': 'tem_telefone_fixo', \n",
    "                            'Tem_email': 'tem_email', \n",
    "                            'Ocupacao': 'ocupacao', \n",
    "                            'Tamanho_familia': 'tam_familia'\n",
    "    })"
   ]
  },
  {
   "cell_type": "code",
   "execution_count": 8,
   "metadata": {},
   "outputs": [
    {
     "data": {
      "text/html": [
       "<div>\n",
       "<style scoped>\n",
       "    .dataframe tbody tr th:only-of-type {\n",
       "        vertical-align: middle;\n",
       "    }\n",
       "\n",
       "    .dataframe tbody tr th {\n",
       "        vertical-align: top;\n",
       "    }\n",
       "\n",
       "    .dataframe thead th {\n",
       "        text-align: right;\n",
       "    }\n",
       "</style>\n",
       "<table border=\"1\" class=\"dataframe\">\n",
       "  <thead>\n",
       "    <tr style=\"text-align: right;\">\n",
       "      <th></th>\n",
       "      <th>id_cliente</th>\n",
       "      <th>genero</th>\n",
       "      <th>tem_carro</th>\n",
       "      <th>tem_casa</th>\n",
       "      <th>qtd_filhos</th>\n",
       "      <th>rendimento_anual</th>\n",
       "      <th>categoria_renda</th>\n",
       "      <th>grau_escolaridade</th>\n",
       "      <th>estado_civil</th>\n",
       "      <th>moradia</th>\n",
       "      <th>idade</th>\n",
       "      <th>anos_empregado</th>\n",
       "      <th>tem_celular</th>\n",
       "      <th>tem_telefone_trabalho</th>\n",
       "      <th>tem_telefone_fixo</th>\n",
       "      <th>tem_email</th>\n",
       "      <th>ocupacao</th>\n",
       "      <th>tam_familia</th>\n",
       "    </tr>\n",
       "  </thead>\n",
       "  <tbody>\n",
       "    <tr>\n",
       "      <th>0</th>\n",
       "      <td>5008804</td>\n",
       "      <td>M</td>\n",
       "      <td>Y</td>\n",
       "      <td>Y</td>\n",
       "      <td>0</td>\n",
       "      <td>427500.0</td>\n",
       "      <td>Empregado</td>\n",
       "      <td>Ensino superior</td>\n",
       "      <td>União-estável</td>\n",
       "      <td>Apartamento alugado</td>\n",
       "      <td>-12005</td>\n",
       "      <td>-4542</td>\n",
       "      <td>1</td>\n",
       "      <td>1</td>\n",
       "      <td>0</td>\n",
       "      <td>0</td>\n",
       "      <td>NaN</td>\n",
       "      <td>2.0</td>\n",
       "    </tr>\n",
       "    <tr>\n",
       "      <th>1</th>\n",
       "      <td>5008805</td>\n",
       "      <td>M</td>\n",
       "      <td>Y</td>\n",
       "      <td>Y</td>\n",
       "      <td>0</td>\n",
       "      <td>427500.0</td>\n",
       "      <td>Empregado</td>\n",
       "      <td>Ensino superior</td>\n",
       "      <td>União-estável</td>\n",
       "      <td>Apartamento alugado</td>\n",
       "      <td>-12005</td>\n",
       "      <td>-4542</td>\n",
       "      <td>1</td>\n",
       "      <td>1</td>\n",
       "      <td>0</td>\n",
       "      <td>0</td>\n",
       "      <td>NaN</td>\n",
       "      <td>2.0</td>\n",
       "    </tr>\n",
       "    <tr>\n",
       "      <th>2</th>\n",
       "      <td>5008806</td>\n",
       "      <td>M</td>\n",
       "      <td>Y</td>\n",
       "      <td>Y</td>\n",
       "      <td>0</td>\n",
       "      <td>112500.0</td>\n",
       "      <td>Empregado</td>\n",
       "      <td>Ensino médio</td>\n",
       "      <td>Casado</td>\n",
       "      <td>Casa/apartamento próprio</td>\n",
       "      <td>-21474</td>\n",
       "      <td>-1134</td>\n",
       "      <td>1</td>\n",
       "      <td>0</td>\n",
       "      <td>0</td>\n",
       "      <td>0</td>\n",
       "      <td>Segurança</td>\n",
       "      <td>2.0</td>\n",
       "    </tr>\n",
       "  </tbody>\n",
       "</table>\n",
       "</div>"
      ],
      "text/plain": [
       "   id_cliente genero tem_carro tem_casa  qtd_filhos  rendimento_anual  \\\n",
       "0     5008804      M         Y        Y           0          427500.0   \n",
       "1     5008805      M         Y        Y           0          427500.0   \n",
       "2     5008806      M         Y        Y           0          112500.0   \n",
       "\n",
       "  categoria_renda grau_escolaridade   estado_civil                   moradia  \\\n",
       "0       Empregado   Ensino superior  União-estável       Apartamento alugado   \n",
       "1       Empregado   Ensino superior  União-estável       Apartamento alugado   \n",
       "2       Empregado      Ensino médio         Casado  Casa/apartamento próprio   \n",
       "\n",
       "   idade  anos_empregado  tem_celular  tem_telefone_trabalho  \\\n",
       "0 -12005           -4542            1                      1   \n",
       "1 -12005           -4542            1                      1   \n",
       "2 -21474           -1134            1                      0   \n",
       "\n",
       "   tem_telefone_fixo  tem_email   ocupacao  tam_familia  \n",
       "0                  0          0        NaN          2.0  \n",
       "1                  0          0        NaN          2.0  \n",
       "2                  0          0  Segurança          2.0  "
      ]
     },
     "execution_count": 8,
     "metadata": {},
     "output_type": "execute_result"
    }
   ],
   "source": [
    "cadastrados.head(3)"
   ]
  },
  {
   "cell_type": "markdown",
   "metadata": {},
   "source": [
    "## Checando se existem ids duplicados"
   ]
  },
  {
   "cell_type": "code",
   "execution_count": 9,
   "metadata": {},
   "outputs": [
    {
     "data": {
      "text/plain": [
       "id_cliente\n",
       "7137299    2\n",
       "7702238    2\n",
       "7282535    2\n",
       "7243768    2\n",
       "7050948    2\n",
       "          ..\n",
       "5690727    1\n",
       "6621262    1\n",
       "6621261    1\n",
       "6621260    1\n",
       "6842885    1\n",
       "Name: count, Length: 438510, dtype: int64"
      ]
     },
     "execution_count": 9,
     "metadata": {},
     "output_type": "execute_result"
    }
   ],
   "source": [
    "cadastrados['id_cliente'].value_counts()"
   ]
  },
  {
   "cell_type": "code",
   "execution_count": 10,
   "metadata": {},
   "outputs": [
    {
     "data": {
      "text/plain": [
       "(94, 18)"
      ]
     },
     "execution_count": 10,
     "metadata": {},
     "output_type": "execute_result"
    }
   ],
   "source": [
    "cadastrados[cadastrados['id_cliente'].duplicated(keep=False)].shape\n",
    "# existem 94 ids duplicados"
   ]
  },
  {
   "cell_type": "code",
   "execution_count": 11,
   "metadata": {},
   "outputs": [],
   "source": [
    "ids_repetidos = cadastrados[cadastrados['id_cliente'].duplicated(keep=False)]"
   ]
  },
  {
   "cell_type": "code",
   "execution_count": 12,
   "metadata": {},
   "outputs": [],
   "source": [
    "cadastrados_limpo = cadastrados.drop(ids_repetidos.index)"
   ]
  },
  {
   "cell_type": "code",
   "execution_count": 13,
   "metadata": {},
   "outputs": [
    {
     "data": {
      "text/plain": [
       "id_cliente\n",
       "5008804    1\n",
       "6147691    1\n",
       "6147689    1\n",
       "6147688    1\n",
       "6147685    1\n",
       "          ..\n",
       "6093492    1\n",
       "5690720    1\n",
       "6538938    1\n",
       "6538937    1\n",
       "6842885    1\n",
       "Name: count, Length: 438463, dtype: int64"
      ]
     },
     "execution_count": 13,
     "metadata": {},
     "output_type": "execute_result"
    }
   ],
   "source": [
    "cadastrados_limpo['id_cliente'].value_counts()"
   ]
  },
  {
   "cell_type": "markdown",
   "metadata": {},
   "source": [
    "## Tratando os dados nulos"
   ]
  },
  {
   "cell_type": "code",
   "execution_count": 14,
   "metadata": {},
   "outputs": [
    {
     "data": {
      "text/plain": [
       "id_cliente                    0\n",
       "genero                        0\n",
       "tem_carro                     0\n",
       "tem_casa                      0\n",
       "qtd_filhos                    0\n",
       "rendimento_anual              0\n",
       "categoria_renda               0\n",
       "grau_escolaridade             0\n",
       "estado_civil                  0\n",
       "moradia                       0\n",
       "idade                         0\n",
       "anos_empregado                0\n",
       "tem_celular                   0\n",
       "tem_telefone_trabalho         0\n",
       "tem_telefone_fixo             0\n",
       "tem_email                     0\n",
       "ocupacao                 134177\n",
       "tam_familia                   0\n",
       "dtype: int64"
      ]
     },
     "execution_count": 14,
     "metadata": {},
     "output_type": "execute_result"
    }
   ],
   "source": [
    "cadastrados_limpo.isnull().sum()"
   ]
  },
  {
   "cell_type": "code",
   "execution_count": 15,
   "metadata": {},
   "outputs": [],
   "source": [
    "# tratando a coluna ocupacao, que tem 134177 dados nulos"
   ]
  },
  {
   "cell_type": "code",
   "execution_count": 16,
   "metadata": {},
   "outputs": [
    {
     "data": {
      "text/plain": [
       "array([nan, 'Segurança', 'Vendas', 'Contabilidade', 'Construção Civil',\n",
       "       'Gerência', 'Motorista', 'Equipe principal', 'Alta tecnologia',\n",
       "       'Limpeza', 'Serviço privado', 'Cozinha', 'Baixa qualificação',\n",
       "       'Medicina', 'Secretariado', 'Garçom', 'RH', 'Corretor imobiliário',\n",
       "       'TI'], dtype=object)"
      ]
     },
     "execution_count": 16,
     "metadata": {},
     "output_type": "execute_result"
    }
   ],
   "source": [
    "cadastrados_limpo['ocupacao'].unique()"
   ]
  },
  {
   "cell_type": "code",
   "execution_count": 17,
   "metadata": {},
   "outputs": [
    {
     "name": "stderr",
     "output_type": "stream",
     "text": [
      "/var/folders/rx/b37fngts0v1fljw_kvgpxnpm0000gn/T/ipykernel_5213/1467502602.py:1: FutureWarning: A value is trying to be set on a copy of a DataFrame or Series through chained assignment using an inplace method.\n",
      "The behavior will change in pandas 3.0. This inplace method will never work because the intermediate object on which we are setting values always behaves as a copy.\n",
      "\n",
      "For example, when doing 'df[col].method(value, inplace=True)', try using 'df.method({col: value}, inplace=True)' or df[col] = df[col].method(value) instead, to perform the operation inplace on the original object.\n",
      "\n",
      "\n",
      "  cadastrados_limpo['ocupacao'].fillna(value='Outro', inplace=True)\n"
     ]
    }
   ],
   "source": [
    "cadastrados_limpo['ocupacao'].fillna(value='Outro', inplace=True)"
   ]
  },
  {
   "cell_type": "code",
   "execution_count": 18,
   "metadata": {},
   "outputs": [
    {
     "data": {
      "text/plain": [
       "id_cliente               0\n",
       "genero                   0\n",
       "tem_carro                0\n",
       "tem_casa                 0\n",
       "qtd_filhos               0\n",
       "rendimento_anual         0\n",
       "categoria_renda          0\n",
       "grau_escolaridade        0\n",
       "estado_civil             0\n",
       "moradia                  0\n",
       "idade                    0\n",
       "anos_empregado           0\n",
       "tem_celular              0\n",
       "tem_telefone_trabalho    0\n",
       "tem_telefone_fixo        0\n",
       "tem_email                0\n",
       "ocupacao                 0\n",
       "tam_familia              0\n",
       "dtype: int64"
      ]
     },
     "execution_count": 18,
     "metadata": {},
     "output_type": "execute_result"
    }
   ],
   "source": [
    "cadastrados_limpo.isnull().sum()"
   ]
  },
  {
   "cell_type": "markdown",
   "metadata": {},
   "source": [
    "## Tratando os valores das colunas"
   ]
  },
  {
   "cell_type": "code",
   "execution_count": 19,
   "metadata": {},
   "outputs": [
    {
     "data": {
      "text/plain": [
       "id_cliente               438463\n",
       "genero                        2\n",
       "tem_carro                     2\n",
       "tem_casa                      2\n",
       "qtd_filhos                   12\n",
       "rendimento_anual            866\n",
       "categoria_renda               5\n",
       "grau_escolaridade             5\n",
       "estado_civil                  5\n",
       "moradia                       6\n",
       "idade                     16379\n",
       "anos_empregado             9406\n",
       "tem_celular                   1\n",
       "tem_telefone_trabalho         2\n",
       "tem_telefone_fixo             2\n",
       "tem_email                     2\n",
       "ocupacao                     19\n",
       "tam_familia                  13\n",
       "dtype: int64"
      ]
     },
     "execution_count": 19,
     "metadata": {},
     "output_type": "execute_result"
    }
   ],
   "source": [
    "cadastrados_limpo.nunique()"
   ]
  },
  {
   "cell_type": "code",
   "execution_count": 20,
   "metadata": {},
   "outputs": [],
   "source": [
    "# removendo a coluna de genero, pois pode gerar um viés no nosso modelo de ml"
   ]
  },
  {
   "cell_type": "code",
   "execution_count": 21,
   "metadata": {},
   "outputs": [],
   "source": [
    "cadastrados_limpo.drop('genero', axis=1, inplace=True)"
   ]
  },
  {
   "cell_type": "code",
   "execution_count": 22,
   "metadata": {},
   "outputs": [],
   "source": [
    "cadastrados_limpo.drop('tem_celular', axis=1, inplace=True)"
   ]
  },
  {
   "cell_type": "code",
   "execution_count": 23,
   "metadata": {},
   "outputs": [
    {
     "data": {
      "text/plain": [
       "array(['Y', 'N'], dtype=object)"
      ]
     },
     "execution_count": 23,
     "metadata": {},
     "output_type": "execute_result"
    }
   ],
   "source": [
    "cadastrados_limpo['tem_carro'].unique()"
   ]
  },
  {
   "cell_type": "code",
   "execution_count": 24,
   "metadata": {},
   "outputs": [
    {
     "data": {
      "text/plain": [
       "array(['Y', 'N'], dtype=object)"
      ]
     },
     "execution_count": 24,
     "metadata": {},
     "output_type": "execute_result"
    }
   ],
   "source": [
    "cadastrados_limpo['tem_casa'].unique()"
   ]
  },
  {
   "cell_type": "code",
   "execution_count": 25,
   "metadata": {},
   "outputs": [
    {
     "data": {
      "text/plain": [
       "array([1, 0])"
      ]
     },
     "execution_count": 25,
     "metadata": {},
     "output_type": "execute_result"
    }
   ],
   "source": [
    "cadastrados_limpo['tem_telefone_trabalho'].unique()"
   ]
  },
  {
   "cell_type": "code",
   "execution_count": 26,
   "metadata": {},
   "outputs": [
    {
     "data": {
      "text/plain": [
       "array([0, 1])"
      ]
     },
     "execution_count": 26,
     "metadata": {},
     "output_type": "execute_result"
    }
   ],
   "source": [
    "cadastrados_limpo['tem_telefone_fixo'].unique()"
   ]
  },
  {
   "cell_type": "code",
   "execution_count": 27,
   "metadata": {},
   "outputs": [
    {
     "name": "stdout",
     "output_type": "stream",
     "text": [
      "<class 'pandas.core.frame.DataFrame'>\n",
      "Index: 438463 entries, 0 to 438556\n",
      "Data columns (total 16 columns):\n",
      " #   Column                 Non-Null Count   Dtype  \n",
      "---  ------                 --------------   -----  \n",
      " 0   id_cliente             438463 non-null  int64  \n",
      " 1   tem_carro              438463 non-null  object \n",
      " 2   tem_casa               438463 non-null  object \n",
      " 3   qtd_filhos             438463 non-null  int64  \n",
      " 4   rendimento_anual       438463 non-null  float64\n",
      " 5   categoria_renda        438463 non-null  object \n",
      " 6   grau_escolaridade      438463 non-null  object \n",
      " 7   estado_civil           438463 non-null  object \n",
      " 8   moradia                438463 non-null  object \n",
      " 9   idade                  438463 non-null  int64  \n",
      " 10  anos_empregado         438463 non-null  int64  \n",
      " 11  tem_telefone_trabalho  438463 non-null  int64  \n",
      " 12  tem_telefone_fixo      438463 non-null  int64  \n",
      " 13  tem_email              438463 non-null  int64  \n",
      " 14  ocupacao               438463 non-null  object \n",
      " 15  tam_familia            438463 non-null  float64\n",
      "dtypes: float64(2), int64(7), object(7)\n",
      "memory usage: 56.9+ MB\n"
     ]
    }
   ],
   "source": [
    "cadastrados_limpo.info()"
   ]
  },
  {
   "cell_type": "code",
   "execution_count": 28,
   "metadata": {},
   "outputs": [
    {
     "name": "stderr",
     "output_type": "stream",
     "text": [
      "/var/folders/rx/b37fngts0v1fljw_kvgpxnpm0000gn/T/ipykernel_5213/77457946.py:1: FutureWarning: Downcasting behavior in `replace` is deprecated and will be removed in a future version. To retain the old behavior, explicitly call `result.infer_objects(copy=False)`. To opt-in to the future behavior, set `pd.set_option('future.no_silent_downcasting', True)`\n",
      "  cadastrados_limpo['tem_carro'] = cadastrados_limpo['tem_carro'].replace(['Y', 'N'], [1, 0])\n"
     ]
    }
   ],
   "source": [
    "cadastrados_limpo['tem_carro'] = cadastrados_limpo['tem_carro'].replace(['Y', 'N'], [1, 0])"
   ]
  },
  {
   "cell_type": "code",
   "execution_count": 29,
   "metadata": {},
   "outputs": [
    {
     "name": "stderr",
     "output_type": "stream",
     "text": [
      "/var/folders/rx/b37fngts0v1fljw_kvgpxnpm0000gn/T/ipykernel_5213/1548733340.py:1: FutureWarning: Downcasting behavior in `replace` is deprecated and will be removed in a future version. To retain the old behavior, explicitly call `result.infer_objects(copy=False)`. To opt-in to the future behavior, set `pd.set_option('future.no_silent_downcasting', True)`\n",
      "  cadastrados_limpo['tem_casa'] = cadastrados_limpo['tem_casa'].replace(['Y', 'N'], [1, 0])\n"
     ]
    }
   ],
   "source": [
    "cadastrados_limpo['tem_casa'] = cadastrados_limpo['tem_casa'].replace(['Y', 'N'], [1, 0])"
   ]
  },
  {
   "cell_type": "code",
   "execution_count": 30,
   "metadata": {},
   "outputs": [
    {
     "data": {
      "text/html": [
       "<div>\n",
       "<style scoped>\n",
       "    .dataframe tbody tr th:only-of-type {\n",
       "        vertical-align: middle;\n",
       "    }\n",
       "\n",
       "    .dataframe tbody tr th {\n",
       "        vertical-align: top;\n",
       "    }\n",
       "\n",
       "    .dataframe thead th {\n",
       "        text-align: right;\n",
       "    }\n",
       "</style>\n",
       "<table border=\"1\" class=\"dataframe\">\n",
       "  <thead>\n",
       "    <tr style=\"text-align: right;\">\n",
       "      <th></th>\n",
       "      <th>id_cliente</th>\n",
       "      <th>tem_carro</th>\n",
       "      <th>tem_casa</th>\n",
       "      <th>qtd_filhos</th>\n",
       "      <th>rendimento_anual</th>\n",
       "      <th>categoria_renda</th>\n",
       "      <th>grau_escolaridade</th>\n",
       "      <th>estado_civil</th>\n",
       "      <th>moradia</th>\n",
       "      <th>idade</th>\n",
       "      <th>anos_empregado</th>\n",
       "      <th>tem_telefone_trabalho</th>\n",
       "      <th>tem_telefone_fixo</th>\n",
       "      <th>tem_email</th>\n",
       "      <th>ocupacao</th>\n",
       "      <th>tam_familia</th>\n",
       "    </tr>\n",
       "  </thead>\n",
       "  <tbody>\n",
       "    <tr>\n",
       "      <th>0</th>\n",
       "      <td>5008804</td>\n",
       "      <td>1</td>\n",
       "      <td>1</td>\n",
       "      <td>0</td>\n",
       "      <td>427500.0</td>\n",
       "      <td>Empregado</td>\n",
       "      <td>Ensino superior</td>\n",
       "      <td>União-estável</td>\n",
       "      <td>Apartamento alugado</td>\n",
       "      <td>-12005</td>\n",
       "      <td>-4542</td>\n",
       "      <td>1</td>\n",
       "      <td>0</td>\n",
       "      <td>0</td>\n",
       "      <td>Outro</td>\n",
       "      <td>2.0</td>\n",
       "    </tr>\n",
       "    <tr>\n",
       "      <th>1</th>\n",
       "      <td>5008805</td>\n",
       "      <td>1</td>\n",
       "      <td>1</td>\n",
       "      <td>0</td>\n",
       "      <td>427500.0</td>\n",
       "      <td>Empregado</td>\n",
       "      <td>Ensino superior</td>\n",
       "      <td>União-estável</td>\n",
       "      <td>Apartamento alugado</td>\n",
       "      <td>-12005</td>\n",
       "      <td>-4542</td>\n",
       "      <td>1</td>\n",
       "      <td>0</td>\n",
       "      <td>0</td>\n",
       "      <td>Outro</td>\n",
       "      <td>2.0</td>\n",
       "    </tr>\n",
       "    <tr>\n",
       "      <th>2</th>\n",
       "      <td>5008806</td>\n",
       "      <td>1</td>\n",
       "      <td>1</td>\n",
       "      <td>0</td>\n",
       "      <td>112500.0</td>\n",
       "      <td>Empregado</td>\n",
       "      <td>Ensino médio</td>\n",
       "      <td>Casado</td>\n",
       "      <td>Casa/apartamento próprio</td>\n",
       "      <td>-21474</td>\n",
       "      <td>-1134</td>\n",
       "      <td>0</td>\n",
       "      <td>0</td>\n",
       "      <td>0</td>\n",
       "      <td>Segurança</td>\n",
       "      <td>2.0</td>\n",
       "    </tr>\n",
       "  </tbody>\n",
       "</table>\n",
       "</div>"
      ],
      "text/plain": [
       "   id_cliente  tem_carro  tem_casa  qtd_filhos  rendimento_anual  \\\n",
       "0     5008804          1         1           0          427500.0   \n",
       "1     5008805          1         1           0          427500.0   \n",
       "2     5008806          1         1           0          112500.0   \n",
       "\n",
       "  categoria_renda grau_escolaridade   estado_civil                   moradia  \\\n",
       "0       Empregado   Ensino superior  União-estável       Apartamento alugado   \n",
       "1       Empregado   Ensino superior  União-estável       Apartamento alugado   \n",
       "2       Empregado      Ensino médio         Casado  Casa/apartamento próprio   \n",
       "\n",
       "   idade  anos_empregado  tem_telefone_trabalho  tem_telefone_fixo  tem_email  \\\n",
       "0 -12005           -4542                      1                  0          0   \n",
       "1 -12005           -4542                      1                  0          0   \n",
       "2 -21474           -1134                      0                  0          0   \n",
       "\n",
       "    ocupacao  tam_familia  \n",
       "0      Outro          2.0  \n",
       "1      Outro          2.0  \n",
       "2  Segurança          2.0  "
      ]
     },
     "execution_count": 30,
     "metadata": {},
     "output_type": "execute_result"
    }
   ],
   "source": [
    "cadastrados_limpo.head(3)"
   ]
  },
  {
   "cell_type": "code",
   "execution_count": 31,
   "metadata": {},
   "outputs": [],
   "source": [
    "cadastrados_limpo['idade'] = -cadastrados_limpo['idade']/365.2425"
   ]
  },
  {
   "cell_type": "code",
   "execution_count": 32,
   "metadata": {},
   "outputs": [],
   "source": [
    "cadastrados_limpo['anos_empregado'] = -cadastrados_limpo['anos_empregado']/365.2425"
   ]
  },
  {
   "cell_type": "code",
   "execution_count": 33,
   "metadata": {},
   "outputs": [
    {
     "data": {
      "text/html": [
       "<div>\n",
       "<style scoped>\n",
       "    .dataframe tbody tr th:only-of-type {\n",
       "        vertical-align: middle;\n",
       "    }\n",
       "\n",
       "    .dataframe tbody tr th {\n",
       "        vertical-align: top;\n",
       "    }\n",
       "\n",
       "    .dataframe thead th {\n",
       "        text-align: right;\n",
       "    }\n",
       "</style>\n",
       "<table border=\"1\" class=\"dataframe\">\n",
       "  <thead>\n",
       "    <tr style=\"text-align: right;\">\n",
       "      <th></th>\n",
       "      <th>id_cliente</th>\n",
       "      <th>tem_carro</th>\n",
       "      <th>tem_casa</th>\n",
       "      <th>qtd_filhos</th>\n",
       "      <th>rendimento_anual</th>\n",
       "      <th>categoria_renda</th>\n",
       "      <th>grau_escolaridade</th>\n",
       "      <th>estado_civil</th>\n",
       "      <th>moradia</th>\n",
       "      <th>idade</th>\n",
       "      <th>anos_empregado</th>\n",
       "      <th>tem_telefone_trabalho</th>\n",
       "      <th>tem_telefone_fixo</th>\n",
       "      <th>tem_email</th>\n",
       "      <th>ocupacao</th>\n",
       "      <th>tam_familia</th>\n",
       "    </tr>\n",
       "  </thead>\n",
       "  <tbody>\n",
       "    <tr>\n",
       "      <th>0</th>\n",
       "      <td>5008804</td>\n",
       "      <td>1</td>\n",
       "      <td>1</td>\n",
       "      <td>0</td>\n",
       "      <td>427500.0</td>\n",
       "      <td>Empregado</td>\n",
       "      <td>Ensino superior</td>\n",
       "      <td>União-estável</td>\n",
       "      <td>Apartamento alugado</td>\n",
       "      <td>32.868574</td>\n",
       "      <td>12.435574</td>\n",
       "      <td>1</td>\n",
       "      <td>0</td>\n",
       "      <td>0</td>\n",
       "      <td>Outro</td>\n",
       "      <td>2.0</td>\n",
       "    </tr>\n",
       "    <tr>\n",
       "      <th>1</th>\n",
       "      <td>5008805</td>\n",
       "      <td>1</td>\n",
       "      <td>1</td>\n",
       "      <td>0</td>\n",
       "      <td>427500.0</td>\n",
       "      <td>Empregado</td>\n",
       "      <td>Ensino superior</td>\n",
       "      <td>União-estável</td>\n",
       "      <td>Apartamento alugado</td>\n",
       "      <td>32.868574</td>\n",
       "      <td>12.435574</td>\n",
       "      <td>1</td>\n",
       "      <td>0</td>\n",
       "      <td>0</td>\n",
       "      <td>Outro</td>\n",
       "      <td>2.0</td>\n",
       "    </tr>\n",
       "    <tr>\n",
       "      <th>2</th>\n",
       "      <td>5008806</td>\n",
       "      <td>1</td>\n",
       "      <td>1</td>\n",
       "      <td>0</td>\n",
       "      <td>112500.0</td>\n",
       "      <td>Empregado</td>\n",
       "      <td>Ensino médio</td>\n",
       "      <td>Casado</td>\n",
       "      <td>Casa/apartamento próprio</td>\n",
       "      <td>58.793815</td>\n",
       "      <td>3.104787</td>\n",
       "      <td>0</td>\n",
       "      <td>0</td>\n",
       "      <td>0</td>\n",
       "      <td>Segurança</td>\n",
       "      <td>2.0</td>\n",
       "    </tr>\n",
       "  </tbody>\n",
       "</table>\n",
       "</div>"
      ],
      "text/plain": [
       "   id_cliente  tem_carro  tem_casa  qtd_filhos  rendimento_anual  \\\n",
       "0     5008804          1         1           0          427500.0   \n",
       "1     5008805          1         1           0          427500.0   \n",
       "2     5008806          1         1           0          112500.0   \n",
       "\n",
       "  categoria_renda grau_escolaridade   estado_civil                   moradia  \\\n",
       "0       Empregado   Ensino superior  União-estável       Apartamento alugado   \n",
       "1       Empregado   Ensino superior  União-estável       Apartamento alugado   \n",
       "2       Empregado      Ensino médio         Casado  Casa/apartamento próprio   \n",
       "\n",
       "       idade  anos_empregado  tem_telefone_trabalho  tem_telefone_fixo  \\\n",
       "0  32.868574       12.435574                      1                  0   \n",
       "1  32.868574       12.435574                      1                  0   \n",
       "2  58.793815        3.104787                      0                  0   \n",
       "\n",
       "   tem_email   ocupacao  tam_familia  \n",
       "0          0      Outro          2.0  \n",
       "1          0      Outro          2.0  \n",
       "2          0  Segurança          2.0  "
      ]
     },
     "execution_count": 33,
     "metadata": {},
     "output_type": "execute_result"
    }
   ],
   "source": [
    "cadastrados_limpo.head(3)"
   ]
  },
  {
   "cell_type": "code",
   "execution_count": 34,
   "metadata": {},
   "outputs": [
    {
     "data": {
      "text/plain": [
       "anos_empregado\n",
       "-1000.001369    75314\n",
       " 0.596864         262\n",
       " 4.594208         251\n",
       " 0.681739         241\n",
       " 2.677673         240\n",
       "                ...  \n",
       " 37.041144          1\n",
       " 27.989623          1\n",
       " 24.413917          1\n",
       " 31.291539          1\n",
       " 22.190736          1\n",
       "Name: count, Length: 9406, dtype: int64"
      ]
     },
     "execution_count": 34,
     "metadata": {},
     "output_type": "execute_result"
    }
   ],
   "source": [
    "cadastrados_limpo['anos_empregado'].value_counts()"
   ]
  },
  {
   "cell_type": "code",
   "execution_count": 35,
   "metadata": {},
   "outputs": [],
   "source": [
    "cadastrados_limpo.loc[cadastrados_limpo['anos_empregado']<0, 'anos_empregado']=0"
   ]
  },
  {
   "cell_type": "code",
   "execution_count": 36,
   "metadata": {},
   "outputs": [
    {
     "data": {
      "text/plain": [
       "anos_empregado\n",
       "0.000000     75314\n",
       "0.596864       262\n",
       "4.594208       251\n",
       "0.681739       241\n",
       "2.677673       240\n",
       "             ...  \n",
       "37.041144        1\n",
       "27.989623        1\n",
       "24.413917        1\n",
       "31.291539        1\n",
       "22.190736        1\n",
       "Name: count, Length: 9406, dtype: int64"
      ]
     },
     "execution_count": 36,
     "metadata": {},
     "output_type": "execute_result"
    }
   ],
   "source": [
    "cadastrados_limpo['anos_empregado'].value_counts()"
   ]
  },
  {
   "cell_type": "code",
   "execution_count": 37,
   "metadata": {},
   "outputs": [],
   "source": [
    "import matplotlib.pyplot as plt\n",
    "import seaborn as sns"
   ]
  },
  {
   "cell_type": "code",
   "execution_count": 39,
   "metadata": {},
   "outputs": [
    {
     "name": "stdout",
     "output_type": "stream",
     "text": [
      "<class 'pandas.core.frame.DataFrame'>\n",
      "Index: 438463 entries, 0 to 438556\n",
      "Data columns (total 16 columns):\n",
      " #   Column                 Non-Null Count   Dtype  \n",
      "---  ------                 --------------   -----  \n",
      " 0   id_cliente             438463 non-null  int64  \n",
      " 1   tem_carro              438463 non-null  int64  \n",
      " 2   tem_casa               438463 non-null  int64  \n",
      " 3   qtd_filhos             438463 non-null  int64  \n",
      " 4   rendimento_anual       438463 non-null  float64\n",
      " 5   categoria_renda        438463 non-null  object \n",
      " 6   grau_escolaridade      438463 non-null  object \n",
      " 7   estado_civil           438463 non-null  object \n",
      " 8   moradia                438463 non-null  object \n",
      " 9   idade                  438463 non-null  float64\n",
      " 10  anos_empregado         438463 non-null  float64\n",
      " 11  tem_telefone_trabalho  438463 non-null  int64  \n",
      " 12  tem_telefone_fixo      438463 non-null  int64  \n",
      " 13  tem_email              438463 non-null  int64  \n",
      " 14  ocupacao               438463 non-null  object \n",
      " 15  tam_familia            438463 non-null  float64\n",
      "dtypes: float64(4), int64(7), object(5)\n",
      "memory usage: 56.9+ MB\n"
     ]
    }
   ],
   "source": [
    "cadastrados_limpo.info()"
   ]
  },
  {
   "cell_type": "code",
   "execution_count": 40,
   "metadata": {},
   "outputs": [],
   "source": [
    "# separando colunas numericas em um dataframe\n",
    "cadastrados_num = cadastrados_limpo.drop(['categoria_renda', 'grau_escolaridade', \n",
    "                                          'estado_civil', 'moradia', 'ocupacao'], axis=1)"
   ]
  },
  {
   "cell_type": "code",
   "execution_count": 43,
   "metadata": {},
   "outputs": [
    {
     "data": {
      "text/html": [
       "<div>\n",
       "<style scoped>\n",
       "    .dataframe tbody tr th:only-of-type {\n",
       "        vertical-align: middle;\n",
       "    }\n",
       "\n",
       "    .dataframe tbody tr th {\n",
       "        vertical-align: top;\n",
       "    }\n",
       "\n",
       "    .dataframe thead th {\n",
       "        text-align: right;\n",
       "    }\n",
       "</style>\n",
       "<table border=\"1\" class=\"dataframe\">\n",
       "  <thead>\n",
       "    <tr style=\"text-align: right;\">\n",
       "      <th></th>\n",
       "      <th>id_cliente</th>\n",
       "      <th>tem_carro</th>\n",
       "      <th>tem_casa</th>\n",
       "      <th>qtd_filhos</th>\n",
       "      <th>rendimento_anual</th>\n",
       "      <th>idade</th>\n",
       "      <th>anos_empregado</th>\n",
       "      <th>tem_telefone_trabalho</th>\n",
       "      <th>tem_telefone_fixo</th>\n",
       "      <th>tem_email</th>\n",
       "      <th>tam_familia</th>\n",
       "    </tr>\n",
       "  </thead>\n",
       "  <tbody>\n",
       "    <tr>\n",
       "      <th>0</th>\n",
       "      <td>5008804</td>\n",
       "      <td>1</td>\n",
       "      <td>1</td>\n",
       "      <td>0</td>\n",
       "      <td>427500.0</td>\n",
       "      <td>32.868574</td>\n",
       "      <td>12.435574</td>\n",
       "      <td>1</td>\n",
       "      <td>0</td>\n",
       "      <td>0</td>\n",
       "      <td>2.0</td>\n",
       "    </tr>\n",
       "    <tr>\n",
       "      <th>1</th>\n",
       "      <td>5008805</td>\n",
       "      <td>1</td>\n",
       "      <td>1</td>\n",
       "      <td>0</td>\n",
       "      <td>427500.0</td>\n",
       "      <td>32.868574</td>\n",
       "      <td>12.435574</td>\n",
       "      <td>1</td>\n",
       "      <td>0</td>\n",
       "      <td>0</td>\n",
       "      <td>2.0</td>\n",
       "    </tr>\n",
       "    <tr>\n",
       "      <th>2</th>\n",
       "      <td>5008806</td>\n",
       "      <td>1</td>\n",
       "      <td>1</td>\n",
       "      <td>0</td>\n",
       "      <td>112500.0</td>\n",
       "      <td>58.793815</td>\n",
       "      <td>3.104787</td>\n",
       "      <td>0</td>\n",
       "      <td>0</td>\n",
       "      <td>0</td>\n",
       "      <td>2.0</td>\n",
       "    </tr>\n",
       "  </tbody>\n",
       "</table>\n",
       "</div>"
      ],
      "text/plain": [
       "   id_cliente  tem_carro  tem_casa  qtd_filhos  rendimento_anual      idade  \\\n",
       "0     5008804          1         1           0          427500.0  32.868574   \n",
       "1     5008805          1         1           0          427500.0  32.868574   \n",
       "2     5008806          1         1           0          112500.0  58.793815   \n",
       "\n",
       "   anos_empregado  tem_telefone_trabalho  tem_telefone_fixo  tem_email  \\\n",
       "0       12.435574                      1                  0          0   \n",
       "1       12.435574                      1                  0          0   \n",
       "2        3.104787                      0                  0          0   \n",
       "\n",
       "   tam_familia  \n",
       "0          2.0  \n",
       "1          2.0  \n",
       "2          2.0  "
      ]
     },
     "execution_count": 43,
     "metadata": {},
     "output_type": "execute_result"
    }
   ],
   "source": [
    "cadastrados_num.head(3)"
   ]
  },
  {
   "cell_type": "code",
   "execution_count": 52,
   "metadata": {},
   "outputs": [
    {
     "data": {
      "text/plain": [
       "<Axes: >"
      ]
     },
     "execution_count": 52,
     "metadata": {},
     "output_type": "execute_result"
    },
    {
     "data": {
      "image/png": "[encoded data removed]",
      "text/plain": [
       "<Figure size 1200x800 with 2 Axes>"
      ]
     },
     "metadata": {},
     "output_type": "display_data"
    }
   ],
   "source": [
    "corr = cadastrados_num.corr()\n",
    "\n",
    "plt.figure(figsize=(12,8))\n",
    "sns.heatmap(corr, cmap='Reds', annot=True)"
   ]
  },
  {
   "cell_type": "code",
   "execution_count": 53,
   "metadata": {},
   "outputs": [],
   "source": [
    "cadastrados_limpo.drop(['qtd_filhos'], axis=1, inplace=True)"
   ]
  },
  {
   "cell_type": "code",
   "execution_count": 57,
   "metadata": {},
   "outputs": [
    {
     "data": {
      "text/html": [
       "<div>\n",
       "<style scoped>\n",
       "    .dataframe tbody tr th:only-of-type {\n",
       "        vertical-align: middle;\n",
       "    }\n",
       "\n",
       "    .dataframe tbody tr th {\n",
       "        vertical-align: top;\n",
       "    }\n",
       "\n",
       "    .dataframe thead th {\n",
       "        text-align: right;\n",
       "    }\n",
       "</style>\n",
       "<table border=\"1\" class=\"dataframe\">\n",
       "  <thead>\n",
       "    <tr style=\"text-align: right;\">\n",
       "      <th></th>\n",
       "      <th>id_cliente</th>\n",
       "      <th>tem_carro</th>\n",
       "      <th>tem_casa</th>\n",
       "      <th>tem_telefone_trabalho</th>\n",
       "      <th>tem_telefone_fixo</th>\n",
       "      <th>tem_email</th>\n",
       "      <th>rendimento_anual</th>\n",
       "      <th>tam_familia</th>\n",
       "      <th>idade</th>\n",
       "      <th>anos_empregado</th>\n",
       "      <th>categoria_renda</th>\n",
       "      <th>grau_escolaridade</th>\n",
       "      <th>estado_civil</th>\n",
       "      <th>moradia</th>\n",
       "      <th>ocupacao</th>\n",
       "    </tr>\n",
       "  </thead>\n",
       "  <tbody>\n",
       "    <tr>\n",
       "      <th>0</th>\n",
       "      <td>5008804</td>\n",
       "      <td>1</td>\n",
       "      <td>1</td>\n",
       "      <td>1</td>\n",
       "      <td>0</td>\n",
       "      <td>0</td>\n",
       "      <td>427500.0</td>\n",
       "      <td>2.0</td>\n",
       "      <td>32.868574</td>\n",
       "      <td>12.435574</td>\n",
       "      <td>Empregado</td>\n",
       "      <td>Ensino superior</td>\n",
       "      <td>União-estável</td>\n",
       "      <td>Apartamento alugado</td>\n",
       "      <td>Outro</td>\n",
       "    </tr>\n",
       "    <tr>\n",
       "      <th>1</th>\n",
       "      <td>5008805</td>\n",
       "      <td>1</td>\n",
       "      <td>1</td>\n",
       "      <td>1</td>\n",
       "      <td>0</td>\n",
       "      <td>0</td>\n",
       "      <td>427500.0</td>\n",
       "      <td>2.0</td>\n",
       "      <td>32.868574</td>\n",
       "      <td>12.435574</td>\n",
       "      <td>Empregado</td>\n",
       "      <td>Ensino superior</td>\n",
       "      <td>União-estável</td>\n",
       "      <td>Apartamento alugado</td>\n",
       "      <td>Outro</td>\n",
       "    </tr>\n",
       "  </tbody>\n",
       "</table>\n",
       "</div>"
      ],
      "text/plain": [
       "   id_cliente  tem_carro  tem_casa  tem_telefone_trabalho  tem_telefone_fixo  \\\n",
       "0     5008804          1         1                      1                  0   \n",
       "1     5008805          1         1                      1                  0   \n",
       "\n",
       "   tem_email  rendimento_anual  tam_familia      idade  anos_empregado  \\\n",
       "0          0          427500.0          2.0  32.868574       12.435574   \n",
       "1          0          427500.0          2.0  32.868574       12.435574   \n",
       "\n",
       "  categoria_renda grau_escolaridade   estado_civil              moradia  \\\n",
       "0       Empregado   Ensino superior  União-estável  Apartamento alugado   \n",
       "1       Empregado   Ensino superior  União-estável  Apartamento alugado   \n",
       "\n",
       "  ocupacao  \n",
       "0    Outro  \n",
       "1    Outro  "
      ]
     },
     "execution_count": 57,
     "metadata": {},
     "output_type": "execute_result"
    }
   ],
   "source": [
    "cadastrados_limpo.head(2)"
   ]
  },
  {
   "cell_type": "code",
   "execution_count": 55,
   "metadata": {},
   "outputs": [],
   "source": [
    "# organizando as features\n",
    "cadastrados_limpo = cadastrados_limpo[['id_cliente', 'tem_carro', 'tem_casa', 'tem_telefone_trabalho', \n",
    "                                       'tem_telefone_fixo', 'tem_email', 'rendimento_anual', 'tam_familia', 'idade',\n",
    "                                       'anos_empregado', 'categoria_renda', 'grau_escolaridade', 'estado_civil', \n",
    "                                       'moradia', 'ocupacao']]"
   ]
  },
  {
   "cell_type": "code",
   "execution_count": 56,
   "metadata": {},
   "outputs": [
    {
     "data": {
      "text/html": [
       "<div>\n",
       "<style scoped>\n",
       "    .dataframe tbody tr th:only-of-type {\n",
       "        vertical-align: middle;\n",
       "    }\n",
       "\n",
       "    .dataframe tbody tr th {\n",
       "        vertical-align: top;\n",
       "    }\n",
       "\n",
       "    .dataframe thead th {\n",
       "        text-align: right;\n",
       "    }\n",
       "</style>\n",
       "<table border=\"1\" class=\"dataframe\">\n",
       "  <thead>\n",
       "    <tr style=\"text-align: right;\">\n",
       "      <th></th>\n",
       "      <th>id_cliente</th>\n",
       "      <th>tem_carro</th>\n",
       "      <th>tem_casa</th>\n",
       "      <th>tem_telefone_trabalho</th>\n",
       "      <th>tem_telefone_fixo</th>\n",
       "      <th>tem_email</th>\n",
       "      <th>rendimento_anual</th>\n",
       "      <th>tam_familia</th>\n",
       "      <th>idade</th>\n",
       "      <th>anos_empregado</th>\n",
       "      <th>categoria_renda</th>\n",
       "      <th>grau_escolaridade</th>\n",
       "      <th>estado_civil</th>\n",
       "      <th>moradia</th>\n",
       "      <th>ocupacao</th>\n",
       "    </tr>\n",
       "  </thead>\n",
       "  <tbody>\n",
       "    <tr>\n",
       "      <th>0</th>\n",
       "      <td>5008804</td>\n",
       "      <td>1</td>\n",
       "      <td>1</td>\n",
       "      <td>1</td>\n",
       "      <td>0</td>\n",
       "      <td>0</td>\n",
       "      <td>427500.0</td>\n",
       "      <td>2.0</td>\n",
       "      <td>32.868574</td>\n",
       "      <td>12.435574</td>\n",
       "      <td>Empregado</td>\n",
       "      <td>Ensino superior</td>\n",
       "      <td>União-estável</td>\n",
       "      <td>Apartamento alugado</td>\n",
       "      <td>Outro</td>\n",
       "    </tr>\n",
       "    <tr>\n",
       "      <th>1</th>\n",
       "      <td>5008805</td>\n",
       "      <td>1</td>\n",
       "      <td>1</td>\n",
       "      <td>1</td>\n",
       "      <td>0</td>\n",
       "      <td>0</td>\n",
       "      <td>427500.0</td>\n",
       "      <td>2.0</td>\n",
       "      <td>32.868574</td>\n",
       "      <td>12.435574</td>\n",
       "      <td>Empregado</td>\n",
       "      <td>Ensino superior</td>\n",
       "      <td>União-estável</td>\n",
       "      <td>Apartamento alugado</td>\n",
       "      <td>Outro</td>\n",
       "    </tr>\n",
       "    <tr>\n",
       "      <th>2</th>\n",
       "      <td>5008806</td>\n",
       "      <td>1</td>\n",
       "      <td>1</td>\n",
       "      <td>0</td>\n",
       "      <td>0</td>\n",
       "      <td>0</td>\n",
       "      <td>112500.0</td>\n",
       "      <td>2.0</td>\n",
       "      <td>58.793815</td>\n",
       "      <td>3.104787</td>\n",
       "      <td>Empregado</td>\n",
       "      <td>Ensino médio</td>\n",
       "      <td>Casado</td>\n",
       "      <td>Casa/apartamento próprio</td>\n",
       "      <td>Segurança</td>\n",
       "    </tr>\n",
       "  </tbody>\n",
       "</table>\n",
       "</div>"
      ],
      "text/plain": [
       "   id_cliente  tem_carro  tem_casa  tem_telefone_trabalho  tem_telefone_fixo  \\\n",
       "0     5008804          1         1                      1                  0   \n",
       "1     5008805          1         1                      1                  0   \n",
       "2     5008806          1         1                      0                  0   \n",
       "\n",
       "   tem_email  rendimento_anual  tam_familia      idade  anos_empregado  \\\n",
       "0          0          427500.0          2.0  32.868574       12.435574   \n",
       "1          0          427500.0          2.0  32.868574       12.435574   \n",
       "2          0          112500.0          2.0  58.793815        3.104787   \n",
       "\n",
       "  categoria_renda grau_escolaridade   estado_civil                   moradia  \\\n",
       "0       Empregado   Ensino superior  União-estável       Apartamento alugado   \n",
       "1       Empregado   Ensino superior  União-estável       Apartamento alugado   \n",
       "2       Empregado      Ensino médio         Casado  Casa/apartamento próprio   \n",
       "\n",
       "    ocupacao  \n",
       "0      Outro  \n",
       "1      Outro  \n",
       "2  Segurança  "
      ]
     },
     "execution_count": 56,
     "metadata": {},
     "output_type": "execute_result"
    }
   ],
   "source": [
    "cadastrados_limpo.head(3)"
   ]
  },
  {
   "cell_type": "code",
   "execution_count": 58,
   "metadata": {},
   "outputs": [
    {
     "data": {
      "text/plain": [
       "categoria_renda\n",
       "Empregado              51.557144\n",
       "Associado comercial    22.972520\n",
       "Pensionista            17.214223\n",
       "Servidor público        8.252236\n",
       "Estudante               0.003877\n",
       "Name: proportion, dtype: float64"
      ]
     },
     "execution_count": 58,
     "metadata": {},
     "output_type": "execute_result"
    }
   ],
   "source": [
    "cadastrados_limpo['categoria_renda'].value_counts(normalize=True)*100"
   ]
  },
  {
   "cell_type": "code",
   "execution_count": 59,
   "metadata": {},
   "outputs": [
    {
     "data": {
      "text/plain": [
       "grau_escolaridade\n",
       "Ensino médio                  68.821314\n",
       "Ensino superior               26.797928\n",
       "Ensino superior incompleto     3.385690\n",
       "Ensino fundamental             0.923909\n",
       "Pós-graduação                  0.071158\n",
       "Name: proportion, dtype: float64"
      ]
     },
     "execution_count": 59,
     "metadata": {},
     "output_type": "execute_result"
    }
   ],
   "source": [
    "cadastrados_limpo['grau_escolaridade'].value_counts(normalize=True)*100"
   ]
  },
  {
   "cell_type": "code",
   "execution_count": 60,
   "metadata": {},
   "outputs": [
    {
     "data": {
      "text/plain": [
       "estado_civil\n",
       "Casado           68.367912\n",
       "Solteiro         12.601976\n",
       "União-estável     8.329323\n",
       "Divorciado        6.214663\n",
       "Viúvo             4.486125\n",
       "Name: proportion, dtype: float64"
      ]
     },
     "execution_count": 60,
     "metadata": {},
     "output_type": "execute_result"
    }
   ],
   "source": [
    "cadastrados_limpo['estado_civil'].value_counts(normalize=True)*100"
   ]
  },
  {
   "cell_type": "code",
   "execution_count": 61,
   "metadata": {},
   "outputs": [
    {
     "data": {
      "text/plain": [
       "moradia\n",
       "Casa/apartamento próprio    89.801876\n",
       "Mora com os pais             4.349740\n",
       "Habitação pública            3.241094\n",
       "Apartamento alugado          1.362259\n",
       "Apartamento comercial        0.894032\n",
       "Cooperativa habitacional     0.350999\n",
       "Name: proportion, dtype: float64"
      ]
     },
     "execution_count": 61,
     "metadata": {},
     "output_type": "execute_result"
    }
   ],
   "source": [
    "cadastrados_limpo['moradia'].value_counts(normalize=True)*100"
   ]
  },
  {
   "cell_type": "code",
   "execution_count": 64,
   "metadata": {},
   "outputs": [
    {
     "data": {
      "text/plain": [
       "ocupacao\n",
       "Outro                   30.601670\n",
       "Construção Civil        17.840730\n",
       "Equipe principal         9.805388\n",
       "Vendas                   9.371828\n",
       "Gerência                 8.091219\n",
       "Motorista                5.949191\n",
       "Alta tecnologia          3.941724\n",
       "Contabilidade            3.644549\n",
       "Medicina                 3.083042\n",
       "Cozinha                  1.841432\n",
       "Segurança                1.822959\n",
       "Limpeza                  1.332610\n",
       "Serviço privado          0.787980\n",
       "Baixa qualificação       0.488069\n",
       "Secretariado             0.466174\n",
       "Garçom                   0.379736\n",
       "Corretor imobiliário     0.237420\n",
       "RH                       0.176526\n",
       "TI                       0.137754\n",
       "Name: proportion, dtype: float64"
      ]
     },
     "execution_count": 64,
     "metadata": {},
     "output_type": "execute_result"
    }
   ],
   "source": [
    "cadastrados_limpo['ocupacao'].value_counts(normalize=True)*100"
   ]
  },
  {
   "cell_type": "code",
   "execution_count": null,
   "metadata": {},
   "outputs": [],
   "source": []
  }
 ],
 "metadata": {
  "kernelspec": {
   "display_name": "venv",
   "language": "python",
   "name": "python3"
  },
  "language_info": {
   "codemirror_mode": {
    "name": "ipython",
    "version": 3
   },
   "file_extension": ".py",
   "mimetype": "text/x-python",
   "name": "python",
   "nbconvert_exporter": "python",
   "pygments_lexer": "ipython3",
   "version": "3.11.5"
  }
 },
 "nbformat": 4,
 "nbformat_minor": 2
}
