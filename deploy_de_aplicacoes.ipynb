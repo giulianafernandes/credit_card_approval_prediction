{
 "cells": [
  {
   "cell_type": "markdown",
   "metadata": {},
   "source": [
    "# Aula 1 - Tratando os dados"
   ]
  },
  {
   "cell_type": "code",
   "execution_count": null,
   "metadata": {},
   "outputs": [],
   "source": [
    "import pandas as pd"
   ]
  },
  {
   "cell_type": "code",
   "execution_count": null,
   "metadata": {},
   "outputs": [],
   "source": [
    "cadastrados = pd.read_csv(\"dados/clientes_cadastrados.csv\", sep=\",\")\n",
    "cadastrados.head(3)"
   ]
  },
  {
   "cell_type": "code",
   "execution_count": null,
   "metadata": {},
   "outputs": [],
   "source": [
    "cadastrados.shape"
   ]
  },
  {
   "cell_type": "code",
   "execution_count": null,
   "metadata": {},
   "outputs": [],
   "source": [
    "cadastrados[\"ID_Cliente\"].value_counts() #existem ids duplicados"
   ]
  },
  {
   "cell_type": "code",
   "execution_count": null,
   "metadata": {},
   "outputs": [],
   "source": [
    "cadastrados[cadastrados[\"ID_Cliente\"].duplicated(keep=False)].shape\n",
    "# existem 94 ids duplicados"
   ]
  },
  {
   "cell_type": "code",
   "execution_count": null,
   "metadata": {},
   "outputs": [],
   "source": [
    "ids_repetidos = cadastrados[cadastrados[\"ID_Cliente\"].duplicated(keep=False)]"
   ]
  },
  {
   "cell_type": "code",
   "execution_count": null,
   "metadata": {},
   "outputs": [],
   "source": [
    "cadastrados_limpo = cadastrados.drop(ids_repetidos.index)"
   ]
  },
  {
   "cell_type": "code",
   "execution_count": null,
   "metadata": {},
   "outputs": [],
   "source": [
    "cadastrados_limpo[\"ID_Cliente\"].value_counts()"
   ]
  },
  {
   "cell_type": "code",
   "execution_count": null,
   "metadata": {},
   "outputs": [],
   "source": [
    "# tratando dados nulos\n",
    "cadastrados_limpo.isnull().sum()"
   ]
  },
  {
   "cell_type": "code",
   "execution_count": null,
   "metadata": {},
   "outputs": [],
   "source": [
    "cadastrados_limpo[\"Ocupacao\"].unique()"
   ]
  },
  {
   "cell_type": "code",
   "execution_count": null,
   "metadata": {},
   "outputs": [],
   "source": [
    "cadastrados_limpo[\"Ocupacao\"].fillna(value=\"Outro\", inplace=True)"
   ]
  },
  {
   "cell_type": "code",
   "execution_count": null,
   "metadata": {},
   "outputs": [],
   "source": [
    "cadastrados_limpo.isnull().sum()"
   ]
  },
  {
   "cell_type": "code",
   "execution_count": null,
   "metadata": {},
   "outputs": [],
   "source": [
    "cadastrados_limpo.nunique()"
   ]
  },
  {
   "cell_type": "code",
   "execution_count": null,
   "metadata": {},
   "outputs": [],
   "source": [
    "cadastrados_limpo.drop(\"Genero\", axis=1, inplace=True)"
   ]
  },
  {
   "cell_type": "code",
   "execution_count": null,
   "metadata": {},
   "outputs": [],
   "source": [
    "cadastrados_limpo.drop(\"Tem_celular\", axis=1, inplace=True)"
   ]
  },
  {
   "cell_type": "code",
   "execution_count": null,
   "metadata": {},
   "outputs": [],
   "source": [
    "cadastrados_limpo.head(3)"
   ]
  },
  {
   "cell_type": "code",
   "execution_count": null,
   "metadata": {},
   "outputs": [],
   "source": [
    "cadastrados_limpo[\"Tem_carro\"].unique()"
   ]
  },
  {
   "cell_type": "code",
   "execution_count": null,
   "metadata": {},
   "outputs": [],
   "source": [
    "cadastrados_limpo[\"Tem_casa_propria\"].unique()"
   ]
  },
  {
   "cell_type": "code",
   "execution_count": null,
   "metadata": {},
   "outputs": [],
   "source": [
    "cadastrados_limpo[\"Tem_telefone_trabalho\"].unique()"
   ]
  },
  {
   "cell_type": "code",
   "execution_count": null,
   "metadata": {},
   "outputs": [],
   "source": [
    "cadastrados_limpo[\"Tem_telefone_fixo\"].unique()"
   ]
  },
  {
   "cell_type": "code",
   "execution_count": null,
   "metadata": {},
   "outputs": [],
   "source": [
    "cadastrados_limpo.info()"
   ]
  },
  {
   "cell_type": "code",
   "execution_count": null,
   "metadata": {},
   "outputs": [],
   "source": [
    "cadastrados_limpo[\"Tem_carro\"] = cadastrados_limpo[\"Tem_carro\"].replace([\"Y\", \"N\"], [1,0])"
   ]
  },
  {
   "cell_type": "code",
   "execution_count": null,
   "metadata": {},
   "outputs": [],
   "source": [
    "cadastrados_limpo[\"Tem_casa_propria\"] = cadastrados_limpo[\"Tem_carro\"].replace([\"Y\", \"N\"], [1,0])"
   ]
  },
  {
   "cell_type": "code",
   "execution_count": null,
   "metadata": {},
   "outputs": [],
   "source": [
    "cadastrados_limpo[\"Tem_casa_propria\"].unique()"
   ]
  },
  {
   "cell_type": "code",
   "execution_count": null,
   "metadata": {},
   "outputs": [],
   "source": [
    "cadastrados_limpo.head(3)"
   ]
  },
  {
   "cell_type": "code",
   "execution_count": null,
   "metadata": {},
   "outputs": [],
   "source": [
    "cadastrados_limpo[\"Idade\"] = - cadastrados_limpo[\"Idade\"]/365.2425"
   ]
  },
  {
   "cell_type": "code",
   "execution_count": null,
   "metadata": {},
   "outputs": [],
   "source": [
    "cadastrados_limpo[\"Anos_empregado\"] = - cadastrados_limpo[\"Anos_empregado\"]/365.2425"
   ]
  },
  {
   "cell_type": "code",
   "execution_count": null,
   "metadata": {},
   "outputs": [],
   "source": [
    "cadastrados_limpo.head(3)"
   ]
  },
  {
   "cell_type": "code",
   "execution_count": null,
   "metadata": {},
   "outputs": [],
   "source": [
    "cadastrados_limpo[\"Anos_empregado\"].value_counts()"
   ]
  },
  {
   "cell_type": "code",
   "execution_count": null,
   "metadata": {},
   "outputs": [],
   "source": [
    "cadastrados_limpo.loc[cadastrados_limpo['Anos_empregado']<0, 'Anos_empregado'] = 0"
   ]
  },
  {
   "cell_type": "code",
   "execution_count": null,
   "metadata": {},
   "outputs": [],
   "source": [
    "cadastrados_limpo[\"Anos_empregado\"].value_counts()"
   ]
  },
  {
   "cell_type": "code",
   "execution_count": null,
   "metadata": {},
   "outputs": [],
   "source": [
    "cadastrados_limpo_bin = cadastrados_limpo"
   ]
  },
  {
   "cell_type": "code",
   "execution_count": null,
   "metadata": {},
   "outputs": [],
   "source": [
    "cadastrados_limpo_bin.head(3)"
   ]
  },
  {
   "cell_type": "code",
   "execution_count": null,
   "metadata": {},
   "outputs": [],
   "source": [
    "cadastrados_limpo.head(3)"
   ]
  },
  {
   "cell_type": "code",
   "execution_count": null,
   "metadata": {},
   "outputs": [],
   "source": [
    "cadastrados_limpo_bin = cadastrados_limpo_bin.drop(['Categoria_de_renda', 'Grau_escolaridade', 'Estado_civil', 'Moradia', 'Ocupacao'], axis=1)"
   ]
  },
  {
   "cell_type": "code",
   "execution_count": null,
   "metadata": {},
   "outputs": [],
   "source": [
    "cadastrados_limpo.head(3)"
   ]
  },
  {
   "cell_type": "code",
   "execution_count": null,
   "metadata": {},
   "outputs": [],
   "source": [
    "cadastrados_limpo_bin.head(3)"
   ]
  },
  {
   "cell_type": "code",
   "execution_count": null,
   "metadata": {},
   "outputs": [],
   "source": [
    "import matplotlib.pyplot as plt\n",
    "import seaborn as sns"
   ]
  },
  {
   "cell_type": "code",
   "execution_count": null,
   "metadata": {},
   "outputs": [],
   "source": [
    "corr = cadastrados_limpo_bin.corr()\n",
    "plt.figure(figsize = (10,10))\n",
    "sns.heatmap(corr, cmap=\"Blues\", annot=True)"
   ]
  },
  {
   "cell_type": "code",
   "execution_count": null,
   "metadata": {},
   "outputs": [],
   "source": [
    "cadastrados_limpo_bin.drop(['Qtd_filhos'], axis=1, inplace=True)"
   ]
  },
  {
   "cell_type": "code",
   "execution_count": null,
   "metadata": {},
   "outputs": [],
   "source": [
    "cadastrados_limpo = cadastrados_limpo[['ID_Cliente', 'Tem_carro', 'Tem_casa_propria', \n",
    "                                        'Tem_telefone_trabalho', 'Tem_telefone_fixo', 'Tem_email',\n",
    "                                        'Tamanho_familia', 'Rendimento_anual', 'Idade', 'Anos_empregado',\n",
    "                                        'Categoria_de_renda', 'Grau_escolaridade', 'Estado_civil',\n",
    "                                        'Moradia', 'Ocupacao']]"
   ]
  },
  {
   "cell_type": "code",
   "execution_count": null,
   "metadata": {},
   "outputs": [],
   "source": [
    "cadastrados_limpo.head(3)"
   ]
  },
  {
   "cell_type": "code",
   "execution_count": null,
   "metadata": {},
   "outputs": [],
   "source": [
    "cadastrados_limpo['Categoria_de_renda'].value_counts(normalize=True)*100"
   ]
  },
  {
   "cell_type": "markdown",
   "metadata": {},
   "source": [
    "# Aula 2 - Criando a Variável Target"
   ]
  },
  {
   "cell_type": "code",
   "execution_count": null,
   "metadata": {},
   "outputs": [],
   "source": [
    "aprovados = pd.read_csv(\"dados/clientes_aprovados.csv\")\n",
    "aprovados.head()"
   ]
  },
  {
   "cell_type": "code",
   "execution_count": null,
   "metadata": {},
   "outputs": [],
   "source": [
    "aprovados.info()"
   ]
  },
  {
   "cell_type": "code",
   "execution_count": null,
   "metadata": {},
   "outputs": [],
   "source": [
    "aprovados.query(\"ID_Cliente == 5001712\")"
   ]
  },
  {
   "cell_type": "code",
   "execution_count": null,
   "metadata": {},
   "outputs": [],
   "source": [
    "aprovados.query(\"ID_Cliente == 5001711\")"
   ]
  },
  {
   "cell_type": "code",
   "execution_count": null,
   "metadata": {},
   "outputs": [],
   "source": [
    "aprovados.Faixa_atraso.value_counts()"
   ]
  },
  {
   "cell_type": "code",
   "execution_count": null,
   "metadata": {},
   "outputs": [],
   "source": [
    "df_registros_creditos_agrupados_ID = aprovados.groupby('ID_Cliente')\n",
    "ser_abertura = df_registros_creditos_agrupados_ID.apply(lambda x: min(x[\"Mes_referencia\"]))\n",
    "ser_abertura.name = \"Abertura\"\n",
    "ser_abertura"
   ]
  },
  {
   "cell_type": "code",
   "execution_count": null,
   "metadata": {},
   "outputs": [],
   "source": [
    "df_clientes_aprovados = aprovados.merge(ser_abertura, on=\"ID_Cliente\")"
   ]
  },
  {
   "cell_type": "code",
   "execution_count": null,
   "metadata": {},
   "outputs": [],
   "source": [
    "df_clientes_aprovados.head()"
   ]
  },
  {
   "cell_type": "code",
   "execution_count": null,
   "metadata": {},
   "outputs": [],
   "source": [
    "ser_final = df_registros_creditos_agrupados_ID.apply(lambda x: max(x[\"Mes_referencia\"]))\n",
    "ser_final.name = \"Final\"\n",
    "ser_final"
   ]
  },
  {
   "cell_type": "code",
   "execution_count": null,
   "metadata": {},
   "outputs": [],
   "source": [
    "df_clientes_aprovados = df_clientes_aprovados.merge(ser_final, on=\"ID_Cliente\")\n",
    "df_clientes_aprovados.head()"
   ]
  },
  {
   "cell_type": "code",
   "execution_count": null,
   "metadata": {},
   "outputs": [],
   "source": [
    "df_clientes_aprovados[\"Janela\"] = df_clientes_aprovados['Final'] - df_clientes_aprovados['Abertura']\n",
    "df_clientes_aprovados.head()"
   ]
  },
  {
   "cell_type": "code",
   "execution_count": null,
   "metadata": {},
   "outputs": [],
   "source": [
    "df_clientes_aprovados[\"MOB\"] = df_clientes_aprovados[\"Mes_referencia\"] - df_clientes_aprovados[\"Abertura\"]\n",
    "df_clientes_aprovados.head()"
   ]
  },
  {
   "cell_type": "code",
   "execution_count": null,
   "metadata": {},
   "outputs": [],
   "source": [
    "# transformando a faixa de atraso em faixas numéricas\n",
    "df_clientes_aprovados[\"Faixa_atraso\"].unique()"
   ]
  },
  {
   "cell_type": "code",
   "execution_count": null,
   "metadata": {},
   "outputs": [],
   "source": [
    "dict_faixa_atraso_ind = {'nenhum empréstimo' :0, \n",
    "                         'pagamento realizado' :1, \n",
    "                         '1-29 dias' :2,\n",
    "                         '30-59 dias' :3, \n",
    "                         '60-89 dias' :4, \n",
    "                         '90-119 dias' :5, \n",
    "                         '120-149 dias' :6,\n",
    "                         '>150 dias' :7}"
   ]
  },
  {
   "cell_type": "code",
   "execution_count": null,
   "metadata": {},
   "outputs": [],
   "source": [
    "df_clientes_aprovados['Ind_faixa_atraso'] = df_clientes_aprovados[\"Faixa_atraso\"].map(dict_faixa_atraso_ind)\n",
    "df_clientes_aprovados.head()"
   ]
  },
  {
   "cell_type": "code",
   "execution_count": null,
   "metadata": {},
   "outputs": [],
   "source": [
    "df_clientes_aprovados[\"Mau_pagador\"] = df_clientes_aprovados.apply(lambda x: 1 if x[\"Ind_faixa_atraso\"] >3 else 0, axis=1)\n",
    "df_clientes_aprovados.head()"
   ]
  },
  {
   "cell_type": "code",
   "execution_count": null,
   "metadata": {},
   "outputs": [],
   "source": [
    "df_clientes_aprovados[\"Mau_pagador\"].value_counts()"
   ]
  },
  {
   "cell_type": "code",
   "execution_count": null,
   "metadata": {},
   "outputs": [],
   "source": [
    "df_registros_creditos_ID = df_clientes_aprovados[[\"ID_Cliente\", \n",
    "                                                  \"Abertura\", \n",
    "                                                  \"Final\", \n",
    "                                                  \"Janela\"]].groupby(\"ID_Cliente\").apply(lambda x: x.iloc[0]).reset_index(drop=True)"
   ]
  },
  {
   "cell_type": "code",
   "execution_count": null,
   "metadata": {},
   "outputs": [],
   "source": [
    "df_registros_creditos_ID.head()"
   ]
  },
  {
   "cell_type": "code",
   "execution_count": null,
   "metadata": {},
   "outputs": [],
   "source": [
    "df_denominador = df_registros_creditos_ID.groupby(\"Abertura\").apply(lambda x: x[\"ID_Cliente\"].count()).reset_index()\n",
    "df_denominador.columns = [\"Abertura\", \"Qtd_clientes\"]\n",
    "df_denominador"
   ]
  },
  {
   "cell_type": "code",
   "execution_count": null,
   "metadata": {},
   "outputs": [],
   "source": [
    "df_vintage = df_clientes_aprovados.groupby(['Abertura', 'MOB']).apply(lambda x: x[\"ID_Cliente\"].count()).reset_index()\n",
    "df_vintage.columns = [\"Abertura\", \"MOB\", \"Qtd_clientes\"]\n",
    "df_vintage"
   ]
  },
  {
   "cell_type": "code",
   "execution_count": null,
   "metadata": {},
   "outputs": [],
   "source": [
    "df_vintage = pd.merge(df_vintage[[\"Abertura\", \"MOB\"]], df_denominador,\n",
    "                      on=\"Abertura\", how=\"left\")"
   ]
  },
  {
   "cell_type": "code",
   "execution_count": null,
   "metadata": {},
   "outputs": [],
   "source": [
    "df_vintage"
   ]
  },
  {
   "cell_type": "code",
   "execution_count": null,
   "metadata": {},
   "outputs": [],
   "source": [
    "import numpy as np"
   ]
  },
  {
   "cell_type": "code",
   "execution_count": null,
   "metadata": {},
   "outputs": [],
   "source": [
    "df_vintage[\"Qtd_mau\"] = np.nan\n",
    "\n",
    "for j in range(-60, 1):\n",
    "    ls = []\n",
    "    for i in range(0, 61):\n",
    "        due = list(df_clientes_aprovados.query('Mau_pagador == 1 and MOB ==@i and Abertura ==@j')[\"ID_Cliente\"])\n",
    "        ls.extend(due)\n",
    "        df_vintage.loc[(df_vintage['MOB']== i) & (df_vintage['Abertura']==j), 'Qtd_mau'] = len(set(ls))\n",
    "\n",
    "df_vintage[\"Taxa_de_mau\"] = df_vintage['Qtd_mau'] / df_vintage['Qtd_clientes']\n",
    "df_vintage"
   ]
  },
  {
   "cell_type": "code",
   "execution_count": null,
   "metadata": {},
   "outputs": [],
   "source": [
    "df_vintage_pivot = df_vintage.pivot(index= \"Abertura\",\n",
    "                                    columns='MOB',\n",
    "                                    values=\"Taxa_de_mau\")"
   ]
  },
  {
   "cell_type": "code",
   "execution_count": null,
   "metadata": {},
   "outputs": [],
   "source": [
    "df_vintage_pivot"
   ]
  },
  {
   "cell_type": "code",
   "execution_count": null,
   "metadata": {},
   "outputs": [],
   "source": [
    "lst = [i for i in range(0,61)]\n",
    "df_vintage_pivot[lst].T.iloc[:, :10].plot(legend=True, grid=True, \n",
    "                                          title='Porcentagem Acumulada de Maus Pagadores - Atraso > 60 dias')\n",
    "plt.xlabel('MOB')\n",
    "plt.ylabel('Porcentagem acumulada de Maus Pagadores')\n",
    "plt.legend(bbox_to_anchor=(1.2, 1), title='Abertura')\n",
    "plt.show()"
   ]
  },
  {
   "cell_type": "code",
   "execution_count": null,
   "metadata": {},
   "outputs": [],
   "source": [
    "sns.histplot(data=df_registros_creditos_ID, x='Janela', cumulative=True, \n",
    "             stat='density', kde=True)\n",
    "plt.title('Distribuição de clientes por janela')\n",
    "plt.xlabel('Janela')\n",
    "plt.ylabel('Percentual de Clientes')"
   ]
  },
  {
   "cell_type": "code",
   "execution_count": null,
   "metadata": {},
   "outputs": [],
   "source": [
    "dict_intervalo_atraso = {'maior_30_dias': 3,\n",
    "                         'maior_60_dias': 4,\n",
    "                         'maior_90_dias': 5,\n",
    "                         'maior_120_dias': 6,\n",
    "                         'maior_150_dias': 7}"
   ]
  },
  {
   "cell_type": "code",
   "execution_count": null,
   "metadata": {},
   "outputs": [],
   "source": [
    "for chave, valor in dict_intervalo_atraso.items():\n",
    "    df_clientes_aprovados[f'Mau_{chave}'] = df_clientes_aprovados.apply(lambda x:1 if x['Ind_faixa_atraso'] >= valor else 0, axis=1)\n",
    "\n",
    "df_clientes_aprovados.head(3)"
   ]
  },
  {
   "cell_type": "code",
   "execution_count": null,
   "metadata": {},
   "outputs": [],
   "source": [
    "dict_taxa_mau = {}\n",
    "id_sum = len(set(df_clientes_aprovados['ID_Cliente']))\n",
    "\n",
    "for chave in dict_intervalo_atraso.keys():\n",
    "  df_min_mau = df_clientes_aprovados.query(f'Mau_{chave} == 1').groupby('ID_Cliente')['MOB'].min().reset_index()\n",
    "  df_mob_taxa_mau = pd.DataFrame({'MOB':range(0,61), 'Taxa_Mau': np.nan})\n",
    "  lst = []\n",
    "  for i in range(0,61):\n",
    "      due = df_min_mau.query('MOB == @i')['ID_Cliente'].to_list()\n",
    "      lst.extend(due) #cumsum\n",
    "      df_mob_taxa_mau.loc[df_mob_taxa_mau['MOB'] == i, 'Taxa_Mau'] = len(set(lst)) / id_sum\n",
    "  dict_taxa_mau[chave] = df_mob_taxa_mau['Taxa_Mau']\n",
    "\n",
    "df_taxa_mau = pd.DataFrame(dict_taxa_mau)\n",
    "df_taxa_mau"
   ]
  },
  {
   "cell_type": "code",
   "execution_count": null,
   "metadata": {},
   "outputs": [],
   "source": [
    "df_taxa_mau.plot(grid = True, title = '% acumulado de clientes maus para diversas faixas de atraso', figsize=(10, 6))\n",
    "plt.xlabel('MOB')\n",
    "plt.ylabel('% acumulado de clientes')\n",
    "plt.show()"
   ]
  },
  {
   "cell_type": "code",
   "execution_count": null,
   "metadata": {},
   "outputs": [],
   "source": [
    "df_clientes_aprovados_tratamento1 = df_clientes_aprovados.query('Janela >= 12')"
   ]
  },
  {
   "cell_type": "code",
   "execution_count": null,
   "metadata": {},
   "outputs": [],
   "source": [
    "df_clientes_aprovados_tratamento1['Faixa_atraso'].unique()"
   ]
  },
  {
   "cell_type": "code",
   "execution_count": null,
   "metadata": {},
   "outputs": [],
   "source": [
    "def verifica(registros):\n",
    "    lista_status = registros['Faixa_atraso'].tolist()\n",
    "    if '60-89 dias' in lista_status or '90-119 dias' in lista_status or '120-149 dias' in lista_status or '>150 dias' in lista_status:\n",
    "        return 1\n",
    "    else:\n",
    "        return 0 \n",
    "    \n",
    "df_registros_creditos_id = pd.DataFrame(df_clientes_aprovados_tratamento1.groupby('ID_Cliente').apply(verifica)).reset_index()\n",
    "\n",
    "df_registros_creditos_id.columns = ['ID_Cliente', 'Mau']"
   ]
  },
  {
   "cell_type": "code",
   "execution_count": null,
   "metadata": {},
   "outputs": [],
   "source": [
    "df_registros_creditos_id.head()"
   ]
  },
  {
   "cell_type": "code",
   "execution_count": null,
   "metadata": {},
   "outputs": [],
   "source": [
    "df_registros_clientes_target = cadastrados_limpo.merge(df_registros_creditos_id, on='ID_Cliente')"
   ]
  },
  {
   "cell_type": "code",
   "execution_count": null,
   "metadata": {},
   "outputs": [],
   "source": [
    "df_registros_clientes_target.head(3)"
   ]
  },
  {
   "cell_type": "code",
   "execution_count": null,
   "metadata": {},
   "outputs": [],
   "source": [
    "df_registros_clientes_target['Mau'].value_counts(normalize=True)*100"
   ]
  },
  {
   "cell_type": "markdown",
   "metadata": {},
   "source": [
    "# Aula 3 - Construindo a Pipeline"
   ]
  },
  {
   "cell_type": "markdown",
   "metadata": {},
   "source": []
  },
  {
   "cell_type": "code",
   "execution_count": null,
   "metadata": {},
   "outputs": [],
   "source": [
    "from sklearn.model_selection import train_test_split"
   ]
  },
  {
   "cell_type": "code",
   "execution_count": null,
   "metadata": {},
   "outputs": [],
   "source": [
    "seed = 1561651"
   ]
  },
  {
   "cell_type": "code",
   "execution_count": null,
   "metadata": {},
   "outputs": [],
   "source": [
    "df_treino, df_teste = train_test_split(df_registros_clientes_target, test_size=0.2, random_state=seed)"
   ]
  },
  {
   "cell_type": "code",
   "execution_count": null,
   "metadata": {},
   "outputs": [],
   "source": [
    "df_treino.shape"
   ]
  },
  {
   "cell_type": "code",
   "execution_count": null,
   "metadata": {},
   "outputs": [],
   "source": [
    "df_teste.shape"
   ]
  },
  {
   "cell_type": "code",
   "execution_count": null,
   "metadata": {},
   "outputs": [],
   "source": [
    "df_treino_copy = df_treino.copy()\n",
    "df_teste_copy = df_teste.copy()"
   ]
  },
  {
   "cell_type": "code",
   "execution_count": null,
   "metadata": {},
   "outputs": [],
   "source": [
    "#salvando os arquivos em CSV\n",
    "df_treino.to_csv('train.csv', index=False)\n",
    "df_teste.to_csv('teste.csv', index=False)"
   ]
  },
  {
   "cell_type": "code",
   "execution_count": null,
   "metadata": {},
   "outputs": [],
   "source": [
    "df_treino.head(3)"
   ]
  },
  {
   "cell_type": "code",
   "execution_count": null,
   "metadata": {},
   "outputs": [],
   "source": [
    "from sklearn.base import BaseEstimator, TransformerMixin\n",
    "from sklearn.preprocessing import MinMaxScaler, OneHotEncoder, OrdinalEncoder\n",
    "from imblearn.over_sampling import SMOTE"
   ]
  },
  {
   "cell_type": "code",
   "execution_count": null,
   "metadata": {},
   "outputs": [],
   "source": [
    "class class_drop_features(BaseEstimator, TransformerMixin):\n",
    "    def __init__(self, feature_to_drop = ['ID_Cliente']):\n",
    "        self.feature_to_drop = feature_to_drop\n",
    "    def fit(self, df):\n",
    "        return self\n",
    "    def transform(self, df):\n",
    "        if(set(self.feature_to_drop).issubset(df.columns)):\n",
    "            df.drop(self.feature_to_drop, axis=1, inplace=True)\n",
    "            return df\n",
    "        else:\n",
    "            print('Uma ou mais features não estão no Dataframe - drop_features')\n",
    "            return df"
   ]
  },
  {
   "cell_type": "code",
   "execution_count": null,
   "metadata": {},
   "outputs": [],
   "source": [
    "class class_min_max(BaseEstimator, TransformerMixin):\n",
    "    def __init__(self, min_max_scaler = ['Tamanho_familia', 'Rendimento_anual', 'Idade', 'Anos_empregado']):\n",
    "        self.min_max_scaler = min_max_scaler\n",
    "    def fit(self, df):\n",
    "        return self\n",
    "    def transform(self, df):\n",
    "        if (set(self.min_max_scaler).issubset(df.columns)):\n",
    "            min_max_enc = MinMaxScaler()\n",
    "            df[self.min_max_scaler] = min_max_enc.fit_transform(df[self.min_max_scaler])\n",
    "            return df\n",
    "        else:\n",
    "            print('Uma ou mais features não estão no Dataframe - min_max')\n",
    "            return df"
   ]
  },
  {
   "cell_type": "code",
   "execution_count": null,
   "metadata": {},
   "outputs": [],
   "source": [
    "class class_one_hot_enc_names(BaseEstimator, TransformerMixin):\n",
    "    def __init__(self, one_hot_encoding = ['Categoria_de_renda', 'Estado_civil', 'Moradia', 'Ocupacao']):\n",
    "        self.one_hot_encoding = one_hot_encoding\n",
    "    \n",
    "    def fit(self, df):\n",
    "        return self\n",
    "    \n",
    "    def transform(self, df):\n",
    "        if(set(self.one_hot_encoding).issubset(df.columns)):\n",
    "            # função para rodar o OneHotEncoder nas features\n",
    "            def onehot_features(df, one_hot_encoding):\n",
    "                onehot_features = OneHotEncoder()\n",
    "                onehot_features.fit(df[one_hot_encoding])\n",
    "                \n",
    "                #obtendo o nome das colunas\n",
    "                feature_names = onehot_features.get_feature_names_out(one_hot_encoding)\n",
    "                \n",
    "                # transformando o array em um dataframe com o nome das colunas\n",
    "                df = pd.DataFrame(onehot_features.transform(df[self.one_hot_encoding]).toarray(),\n",
    "                                  columns= feature_names, index=df.index)\n",
    "                \n",
    "                return df\n",
    "            \n",
    "            #função para concatenar as features que passaram pelo fit dos dados com o restante \n",
    "            def concat_df(df, onehotenc_df, one_hot_encoding):\n",
    "                outras_features = [feature for feature in df.columns if feature not in one_hot_encoding]\n",
    "                df_concat = pd.concat([onehotenc_df, df[outras_features]], axis=1)\n",
    "                return df_concat\n",
    "            \n",
    "            df_onehotencoding = onehot_features(df, self.one_hot_encoding)\n",
    "            \n",
    "            # retorna o df concatenado\n",
    "            df_full = concat_df(df, df_onehotencoding, self.one_hot_encoding)\n",
    "            return df_full\n",
    "        \n",
    "        else:\n",
    "            print('Uma ou mais features não estão no Dataframe - min_max')\n",
    "            return df"
   ]
  },
  {
   "cell_type": "code",
   "execution_count": null,
   "metadata": {},
   "outputs": [],
   "source": [
    "class class_ordinal_feature(BaseEstimator, TransformerMixin):\n",
    "    def __init__(self, ordinal_feature = ['Grau_escolaridade']):\n",
    "        self.ordinal_feature = ordinal_feature\n",
    "    \n",
    "    def fit(self, df):\n",
    "        return self\n",
    "    \n",
    "    def transform(self, df):\n",
    "        if 'Grau_escolaridade' in df.columns:\n",
    "            ord_encoder = OrdinalEncoder()\n",
    "            df[self.ordinal_feature] = ord_encoder.fit_transform(df[self.ordinal_feature])\n",
    "            return df\n",
    "        else:\n",
    "            print('Grau_escolaridade não está no Dataframe')\n",
    "            return df"
   ]
  },
  {
   "cell_type": "code",
   "execution_count": null,
   "metadata": {},
   "outputs": [],
   "source": [
    "class class_oversample(BaseEstimator, TransformerMixin):\n",
    "    def __init__(self):\n",
    "        pass\n",
    "    \n",
    "    def fit(self, df):\n",
    "        return self\n",
    "    \n",
    "    def transform(self, df):\n",
    "        if 'Mau' in df.columns:\n",
    "            # usando a função SMOTE para superamostrar a clase minoritária e corrigir dados desbalanceados\n",
    "            oversample = SMOTE(sampling_strategy='minority')\n",
    "            X_bal, y_bal = oversample.fit_resample(df.loc[:, df.columns !='Mau'], df['Mau'])\n",
    "            df_balanceado = pd.concat([pd.DataFrame(X_bal), pd.DataFrame(y_bal)], axis=1)\n",
    "            return df_balanceado\n",
    "        else:\n",
    "            print(\"O target não está no Dataframe\")\n",
    "            return df"
   ]
  },
  {
   "cell_type": "code",
   "execution_count": null,
   "metadata": {},
   "outputs": [],
   "source": [
    "from sklearn.pipeline import Pipeline"
   ]
  },
  {
   "cell_type": "code",
   "execution_count": null,
   "metadata": {},
   "outputs": [],
   "source": [
    "def df_pipeline(df):\n",
    "    pipeline = Pipeline([\n",
    "        ('feature_dropper', class_drop_features()),\n",
    "        ('MinMaxScaler', class_min_max()),\n",
    "        ('OneHotEncoding', class_one_hot_enc_names()),\n",
    "        ('OrdinalFeatures', class_ordinal_feature()),\n",
    "        ('Oversample', class_oversample())\n",
    "    ])\n",
    "    \n",
    "    df_pipeline = pipeline.fit_transform(df)\n",
    "    return df_pipeline"
   ]
  },
  {
   "cell_type": "markdown",
   "metadata": {},
   "source": [
    "# Aula 4 - Machine Learning: Escolhendo o melhor modelo"
   ]
  },
  {
   "cell_type": "code",
   "execution_count": null,
   "metadata": {},
   "outputs": [],
   "source": [
    "treino = df_pipeline(df_treino)"
   ]
  },
  {
   "cell_type": "code",
   "execution_count": null,
   "metadata": {},
   "outputs": [],
   "source": [
    "treino.head()"
   ]
  },
  {
   "cell_type": "code",
   "execution_count": null,
   "metadata": {},
   "outputs": [],
   "source": [
    "treino['Mau'].value_counts(normalize=True)*100 # agora os dados não estão mais desbalanceados"
   ]
  },
  {
   "cell_type": "code",
   "execution_count": null,
   "metadata": {},
   "outputs": [],
   "source": [
    "treino.shape"
   ]
  },
  {
   "cell_type": "code",
   "execution_count": null,
   "metadata": {},
   "outputs": [],
   "source": [
    "X_treino, y_treino = treino.loc[:, treino.columns != 'Mau'], treino['Mau'] # y é sempre a nossa coluna target"
   ]
  },
  {
   "cell_type": "code",
   "execution_count": null,
   "metadata": {},
   "outputs": [],
   "source": [
    "teste = df_pipeline(df_teste)"
   ]
  },
  {
   "cell_type": "code",
   "execution_count": null,
   "metadata": {},
   "outputs": [],
   "source": [
    "teste.head()"
   ]
  },
  {
   "cell_type": "code",
   "execution_count": null,
   "metadata": {},
   "outputs": [],
   "source": [
    "X_teste, y_teste = teste.loc[:, teste.columns != 'Mau'], teste['Mau'] "
   ]
  },
  {
   "cell_type": "code",
   "execution_count": null,
   "metadata": {},
   "outputs": [],
   "source": [
    "from sklearn import metrics\n",
    "from sklearn.metrics import classification_report, ConfusionMatrixDisplay, roc_auc_score, RocCurveDisplay\n",
    "from scipy import stats\n",
    "import warnings\n",
    "warnings.filterwarnings('ignore')"
   ]
  },
  {
   "cell_type": "code",
   "execution_count": null,
   "metadata": {},
   "outputs": [],
   "source": [
    "pip show scikit_learn"
   ]
  },
  {
   "cell_type": "code",
   "execution_count": null,
   "metadata": {},
   "outputs": [],
   "source": [
    "def roda_modelo(modelo):\n",
    "    modelo.fit(X_treino, y_treino)\n",
    "    \n",
    "    prob_predict = modelo.predict_proba(X_teste)\n",
    "    \n",
    "    print(f'\\n---------------Resultados{modelo}---------------\\n')\n",
    "    \n",
    "    data_bom = np.sort(modelo.predict_proba(X_teste)[:, 0])\n",
    "    data_mau = np.sort(modelo.predict_proba(X_teste)[:, 1])\n",
    "    kstest = stats.ks_2samp(data_bom, data_mau)\n",
    "    \n",
    "    print(f'Métrica KS: {kstest}')\n",
    "    \n",
    "    print(f'\\nConfusion Matrix\\n')\n",
    "    \n",
    "    fig, ax = plt.subplots(figsize=(7,7))\n",
    "    matriz_confusao = ConfusionMatrixDisplay(modelo, X_teste, y_teste, normalize='true',\n",
    "                                            display_labels=['Bom pagador', 'Mau pagador'],\n",
    "                                            ax=ax, cmap=plt.cm.Blues)\n",
    "    ax.set_title('Matriz de Confusão\\nNormalizada', fontsize=16, fontweight='bold')\n",
    "    ax.set_xlabel('Label predita', fontsize=18)\n",
    "    ax.set_ylabel('Label verdadeira', fontsize=18)\n",
    "    plt.grid(False)\n",
    "    plt.show(matriz_confusao)\n",
    "    \n",
    "    predicao = modelo.predict(X_teste)\n",
    "    print(f'\\nClassification Report\\n')\n",
    "    print(classification_report(y_teste, predicao, zero_division=0))\n",
    "    \n",
    "    print(f'\\nROC curve\\n')\n",
    "    metrics.RocCurveDisplay(modelo, X_teste, y_teste)"
   ]
  },
  {
   "cell_type": "code",
   "execution_count": null,
   "metadata": {},
   "outputs": [],
   "source": [
    "# importando os modelos de Machine Learning \n",
    "from sklearn.linear_model import LogisticRegression\n",
    "modelo_logistico = LogisticRegression()"
   ]
  },
  {
   "cell_type": "code",
   "execution_count": null,
   "metadata": {},
   "outputs": [],
   "source": [
    "roda_modelo(modelo_logistico)"
   ]
  },
  {
   "cell_type": "code",
   "execution_count": null,
   "metadata": {},
   "outputs": [],
   "source": []
  }
 ],
 "metadata": {
  "kernelspec": {
   "display_name": "Python 3",
   "language": "python",
   "name": "python3"
  },
  "language_info": {
   "codemirror_mode": {
    "name": "ipython",
    "version": 3
   },
   "file_extension": ".py",
   "mimetype": "text/x-python",
   "name": "python",
   "nbconvert_exporter": "python",
   "pygments_lexer": "ipython3",
   "version": "3.12.1"
  }
 },
 "nbformat": 4,
 "nbformat_minor": 2
}
