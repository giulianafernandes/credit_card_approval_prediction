{
  "nbformat": 4,
  "nbformat_minor": 0,
  "metadata": {
    "colab": {
      "provenance": []
    },
    "kernelspec": {
      "name": "python3",
      "display_name": "Python 3"
    },
    "language_info": {
      "name": "python"
    }
  },
  "cells": [
    {
      "cell_type": "code",
      "execution_count": 1,
      "metadata": {
        "colab": {
          "base_uri": "https://localhost:8080/"
        },
        "id": "20jO5jvaUNsE",
        "outputId": "2c5f3fd5-dd84-4ea2-c86d-bf094fb439ae"
      },
      "outputs": [
        {
          "output_type": "stream",
          "name": "stdout",
          "text": [
            "Collecting pyspark\n",
            "  Downloading pyspark-3.5.1.tar.gz (317.0 MB)\n",
            "\u001b[2K     \u001b[90m━━━━━━━━━━━━━━━━━━━━━━━━━━━━━━━━━━━━━━━━\u001b[0m \u001b[32m317.0/317.0 MB\u001b[0m \u001b[31m2.1 MB/s\u001b[0m eta \u001b[36m0:00:00\u001b[0m\n",
            "\u001b[?25h  Preparing metadata (setup.py) ... \u001b[?25l\u001b[?25hdone\n",
            "Requirement already satisfied: py4j==0.10.9.7 in /usr/local/lib/python3.10/dist-packages (from pyspark) (0.10.9.7)\n",
            "Building wheels for collected packages: pyspark\n",
            "  Building wheel for pyspark (setup.py) ... \u001b[?25l\u001b[?25hdone\n",
            "  Created wheel for pyspark: filename=pyspark-3.5.1-py2.py3-none-any.whl size=317488493 sha256=2b14e38829f9d034cb71eebe2df39ce69761711aaca9b6788c1f0057752c1ab2\n",
            "  Stored in directory: /root/.cache/pip/wheels/80/1d/60/2c256ed38dddce2fdd93be545214a63e02fbd8d74fb0b7f3a6\n",
            "Successfully built pyspark\n",
            "Installing collected packages: pyspark\n",
            "Successfully installed pyspark-3.5.1\n"
          ]
        }
      ],
      "source": [
        "!pip install pyspark"
      ]
    },
    {
      "cell_type": "code",
      "source": [
        "!pip install findspark"
      ],
      "metadata": {
        "colab": {
          "base_uri": "https://localhost:8080/"
        },
        "id": "nqkr0_R5VcH1",
        "outputId": "1ae8ac64-179a-47d1-8445-2390cde4537a"
      },
      "execution_count": 2,
      "outputs": [
        {
          "output_type": "stream",
          "name": "stdout",
          "text": [
            "Collecting findspark\n",
            "  Downloading findspark-2.0.1-py2.py3-none-any.whl (4.4 kB)\n",
            "Installing collected packages: findspark\n",
            "Successfully installed findspark-2.0.1\n"
          ]
        }
      ]
    },
    {
      "cell_type": "code",
      "source": [
        "from pyspark.sql import SparkSession\n",
        "spark = SparkSession.builder \\\n",
        "     .master('local[*]') \\\n",
        "     .appName('Combustíveis Automotivos') \\\n",
        "     .getOrCreate()"
      ],
      "metadata": {
        "id": "siEGC9KBZ2Eh"
      },
      "execution_count": 3,
      "outputs": []
    },
    {
      "cell_type": "code",
      "source": [
        "from google.colab import drive\n",
        "drive.mount('/content/drive')"
      ],
      "metadata": {
        "id": "-KH_bNT5aTWe",
        "colab": {
          "base_uri": "https://localhost:8080/"
        },
        "outputId": "b72f9e77-bab3-4035-ab96-2a17e2f5548f"
      },
      "execution_count": 4,
      "outputs": [
        {
          "output_type": "stream",
          "name": "stdout",
          "text": [
            "Drive already mounted at /content/drive; to attempt to forcibly remount, call drive.mount(\"/content/drive\", force_remount=True).\n"
          ]
        }
      ]
    },
    {
      "cell_type": "code",
      "source": [
        "# path = '/content/drive/MyDrive/dados-combustiveis_automotivos'\n",
        "# combustiveis_automotivos = spark.read.csv(path, sep=';', inferSchema=True)"
      ],
      "metadata": {
        "id": "m8FGJ3o14SIP"
      },
      "execution_count": 13,
      "outputs": []
    },
    {
      "cell_type": "code",
      "source": [
        "# combustiveis_automotivos.limit(5).show()"
      ],
      "metadata": {
        "colab": {
          "base_uri": "https://localhost:8080/"
        },
        "id": "c3JKhk404vOE",
        "outputId": "5266d301-e724-41a9-bf87-96038d6d5dad"
      },
      "execution_count": 14,
      "outputs": [
        {
          "output_type": "stream",
          "name": "stdout",
          "text": [
            "+--------------+--------------+-----------+--------------------+-------------------+--------------------+----------+-----------+--------------+---------+--------+--------------+--------------+---------------+-----------------+--------+\n",
            "|           _c0|           _c1|        _c2|                 _c3|                _c4|                 _c5|       _c6|        _c7|           _c8|      _c9|    _c10|          _c11|          _c12|           _c13|             _c14|    _c15|\n",
            "+--------------+--------------+-----------+--------------------+-------------------+--------------------+----------+-----------+--------------+---------+--------+--------------+--------------+---------------+-----------------+--------+\n",
            "|Regiao - Sigla|Estado - Sigla|  Municipio|             Revenda|    CNPJ da Revenda|         Nome da Rua|Numero Rua|Complemento|        Bairro|      Cep| Produto|Data da Coleta|Valor de Venda|Valor de Compra|Unidade de Medida|Bandeira|\n",
            "|            SE|            SP|   SOROCABA|COMPETRO COMERCIO...| 00.003.188/0001-21|RUA HUMBERTO DE C...|       306|       NULL|JARDIM ZULMIRA|18061-000|GASOLINA|    01/07/2014|          2,74|           2,43|       R$ / litro|  BRANCA|\n",
            "|            SE|            SP|   SOROCABA|COMPETRO COMERCIO...| 00.003.188/0001-21|RUA HUMBERTO DE C...|       306|       NULL|JARDIM ZULMIRA|18061-000|  ETANOL|    01/07/2014|          1,74|         1,5094|       R$ / litro|  BRANCA|\n",
            "|            SE|            SP|   SOROCABA|COMPETRO COMERCIO...| 00.003.188/0001-21|RUA HUMBERTO DE C...|       306|       NULL|JARDIM ZULMIRA|18061-000|  DIESEL|    01/07/2014|          2,36|            2,1|       R$ / litro|  BRANCA|\n",
            "|             S|            PR|PATO BRANCO|SANTOS & MERLO LTDA.| 79.854.667/0001-01|       RUA TOCANTINS|      2535|       NULL|        CENTRO|85501-010|GASOLINA|    02/07/2014|          2,99|           NULL|       R$ / litro|  BRANCA|\n",
            "+--------------+--------------+-----------+--------------------+-------------------+--------------------+----------+-----------+--------------+---------+--------+--------------+--------------+---------------+-----------------+--------+\n",
            "\n"
          ]
        }
      ]
    },
    {
      "cell_type": "code",
      "source": [
        "# carregando o df de combustiveis automotivos pulando a primeira linha\n",
        "combustiveis_automotivos = (spark.read.format(\"csv\"))\\\n",
        "    .option(\"inferSchema\", True)\\\n",
        "    .option(\"header\", True)\\\n",
        "    .option(\"sep\", \";\")\\\n",
        "    .option(\"skipRows\", 1)\\\n",
        "    .load(\"/content/drive/MyDrive/dados-combustiveis_automotivos\")"
      ],
      "metadata": {
        "id": "xiNlja9i40UB"
      },
      "execution_count": 27,
      "outputs": []
    },
    {
      "cell_type": "code",
      "source": [
        "from os import truncate\n",
        "combustiveis_automotivos.limit(10).show(truncate=False)"
      ],
      "metadata": {
        "colab": {
          "base_uri": "https://localhost:8080/"
        },
        "id": "zrIfDgp2IlaZ",
        "outputId": "a92a9128-fcef-4642-c31a-da0041edb57c"
      },
      "execution_count": 19,
      "outputs": [
        {
          "output_type": "stream",
          "name": "stdout",
          "text": [
            "+--------------+--------------+---------------+--------------------------------------------------------------+-------------------+-----------------------------+----------+-----------+--------------+---------+----------+--------------+--------------+---------------+-----------------+----------------------------+\n",
            "|Regiao - Sigla|Estado - Sigla|Municipio      |Revenda                                                       |CNPJ da Revenda    |Nome da Rua                  |Numero Rua|Complemento|Bairro        |Cep      |Produto   |Data da Coleta|Valor de Venda|Valor de Compra|Unidade de Medida|Bandeira                    |\n",
            "+--------------+--------------+---------------+--------------------------------------------------------------+-------------------+-----------------------------+----------+-----------+--------------+---------+----------+--------------+--------------+---------------+-----------------+----------------------------+\n",
            "|SE            |SP            |SOROCABA       |COMPETRO COMERCIO E DISTRIBUICAO DE DERIVADOS DE PETROLEO LTDA| 00.003.188/0001-21|RUA HUMBERTO DE CAMPOS       |306       |NULL       |JARDIM ZULMIRA|18061-000|GASOLINA  |01/07/2014    |2,74          |2,43           |R$ / litro       |BRANCA                      |\n",
            "|SE            |SP            |SOROCABA       |COMPETRO COMERCIO E DISTRIBUICAO DE DERIVADOS DE PETROLEO LTDA| 00.003.188/0001-21|RUA HUMBERTO DE CAMPOS       |306       |NULL       |JARDIM ZULMIRA|18061-000|ETANOL    |01/07/2014    |1,74          |1,5094         |R$ / litro       |BRANCA                      |\n",
            "|SE            |SP            |SOROCABA       |COMPETRO COMERCIO E DISTRIBUICAO DE DERIVADOS DE PETROLEO LTDA| 00.003.188/0001-21|RUA HUMBERTO DE CAMPOS       |306       |NULL       |JARDIM ZULMIRA|18061-000|DIESEL    |01/07/2014    |2,36          |2,1            |R$ / litro       |BRANCA                      |\n",
            "|S             |PR            |PATO BRANCO    |SANTOS & MERLO LTDA.                                          | 79.854.667/0001-01|RUA TOCANTINS                |2535      |NULL       |CENTRO        |85501-010|GASOLINA  |02/07/2014    |2,99          |NULL           |R$ / litro       |BRANCA                      |\n",
            "|S             |PR            |PATO BRANCO    |SANTOS & MERLO LTDA.                                          | 79.854.667/0001-01|RUA TOCANTINS                |2535      |NULL       |CENTRO        |85501-010|ETANOL    |02/07/2014    |2,19          |NULL           |R$ / litro       |BRANCA                      |\n",
            "|S             |PR            |PATO BRANCO    |SANTOS & MERLO LTDA.                                          | 79.854.667/0001-01|RUA TOCANTINS                |2535      |NULL       |CENTRO        |85501-010|DIESEL S10|02/07/2014    |2,58          |NULL           |R$ / litro       |BRANCA                      |\n",
            "|N             |AC            |CRUZEIRO DO SUL|CARDINAL E OLIVEIRA LTDA                                      | 03.608.766/0005-75|AVENIDA BOULEVARD THAUMATURGO|1031      |NULL       |CENTRO        |69980-000|GASOLINA  |01/07/2014    |3,79          |NULL           |R$ / litro       |PETROBRAS DISTRIBUIDORA S.A.|\n",
            "|N             |AC            |CRUZEIRO DO SUL|CARDINAL E OLIVEIRA LTDA                                      | 03.608.766/0005-75|AVENIDA BOULEVARD THAUMATURGO|1031      |NULL       |CENTRO        |69980-000|DIESEL    |01/07/2014    |3,31          |NULL           |R$ / litro       |PETROBRAS DISTRIBUIDORA S.A.|\n",
            "|N             |AC            |CRUZEIRO DO SUL|CARDINAL E OLIVEIRA LTDA                                      | 03.608.766/0006-56|AVENIDA 25 DE AGOSTO         |1350      |NULL       |25 DE AGOSTO  |69980-000|GASOLINA  |01/07/2014    |3,79          |3,15           |R$ / litro       |PETROBRAS DISTRIBUIDORA S.A.|\n",
            "|N             |AC            |CRUZEIRO DO SUL|CARDINAL E OLIVEIRA LTDA                                      | 03.608.766/0006-56|AVENIDA 25 DE AGOSTO         |1350      |NULL       |25 DE AGOSTO  |69980-000|DIESEL    |01/07/2014    |3,31          |2,7351         |R$ / litro       |PETROBRAS DISTRIBUIDORA S.A.|\n",
            "+--------------+--------------+---------------+--------------------------------------------------------------+-------------------+-----------------------------+----------+-----------+--------------+---------+----------+--------------+--------------+---------------+-----------------+----------------------------+\n",
            "\n"
          ]
        }
      ]
    },
    {
      "cell_type": "code",
      "source": [
        "combustiveis_automotivos.count()"
      ],
      "metadata": {
        "colab": {
          "base_uri": "https://localhost:8080/"
        },
        "id": "y-K9FeclIp5O",
        "outputId": "9bdf563c-7862-482c-affd-d24856dc8976"
      },
      "execution_count": 17,
      "outputs": [
        {
          "output_type": "execute_result",
          "data": {
            "text/plain": [
              "10738207"
            ]
          },
          "metadata": {},
          "execution_count": 17
        }
      ]
    },
    {
      "cell_type": "code",
      "source": [
        "combustiveis_automotivos.printSchema()"
      ],
      "metadata": {
        "colab": {
          "base_uri": "https://localhost:8080/"
        },
        "id": "rqooC5A3JT27",
        "outputId": "4a902a4f-afa3-42ea-a5fe-9c31424ac033"
      },
      "execution_count": 18,
      "outputs": [
        {
          "output_type": "stream",
          "name": "stdout",
          "text": [
            "root\n",
            " |-- Regiao - Sigla: string (nullable = true)\n",
            " |-- Estado - Sigla: string (nullable = true)\n",
            " |-- Municipio: string (nullable = true)\n",
            " |-- Revenda: string (nullable = true)\n",
            " |-- CNPJ da Revenda: string (nullable = true)\n",
            " |-- Nome da Rua: string (nullable = true)\n",
            " |-- Numero Rua: string (nullable = true)\n",
            " |-- Complemento: string (nullable = true)\n",
            " |-- Bairro: string (nullable = true)\n",
            " |-- Cep: string (nullable = true)\n",
            " |-- Produto: string (nullable = true)\n",
            " |-- Data da Coleta: string (nullable = true)\n",
            " |-- Valor de Venda: string (nullable = true)\n",
            " |-- Valor de Compra: string (nullable = true)\n",
            " |-- Unidade de Medida: string (nullable = true)\n",
            " |-- Bandeira: string (nullable = true)\n",
            "\n"
          ]
        }
      ]
    },
    {
      "cell_type": "code",
      "source": [
        "# carregando o df de glp\n",
        "glp = (spark.read.format(\"csv\"))\\\n",
        "    .option(\"inferSchema\", True)\\\n",
        "    .option(\"header\", True)\\\n",
        "    .option(\"sep\", \";\")\\\n",
        "    .load(\"/content/drive/MyDrive/GLP\")"
      ],
      "metadata": {
        "id": "rSwLXRT0MVC0"
      },
      "execution_count": 25,
      "outputs": []
    },
    {
      "cell_type": "code",
      "source": [
        "glp.limit(10).show(truncate=False)"
      ],
      "metadata": {
        "colab": {
          "base_uri": "https://localhost:8080/"
        },
        "id": "zs9tm4hLVWL4",
        "outputId": "b6e53590-6288-4845-aff0-c8895f4ca8d6"
      },
      "execution_count": 28,
      "outputs": [
        {
          "output_type": "stream",
          "name": "stdout",
          "text": [
            "+--------------+--------------+---------------------+-----------------------------------------+-------------------+----------------------------------------+----------+------------------------+------------------------------------------+---------+-------+--------------+--------------+---------------+-----------------+--------+\n",
            "|Regiao - Sigla|Estado - Sigla|Municipio            |Revenda                                  |CNPJ da Revenda    |Nome da Rua                             |Numero Rua|Complemento             |Bairro                                    |Cep      |Produto|Data da Coleta|Valor de Venda|Valor de Compra|Unidade de Medida|Bandeira|\n",
            "+--------------+--------------+---------------------+-----------------------------------------+-------------------+----------------------------------------+----------+------------------------+------------------------------------------+---------+-------+--------------+--------------+---------------+-----------------+--------+\n",
            "|CO            |DF            |BRASILIA             |COMPANHIA ULTRAGAZ S A                   | 61.602.199/0058-58|SIN                                     |S/N       |LOTE 3 E 3A SALA 01     |Zona Industrial (Guará)                   |71225-000|GLP    |02/07/2014    |42            |NULL           |R$ / 13 kg       |BRANCA  |\n",
            "|SE            |MG            |IBIRITE              |COPAGAZ DISTRIBUIDORA DE GÁS S/A.        | 03.237.583/0057-11|ESTRADA DO PETROVALE                    |50        |A                       |PETROVALE                                 |32400-000|GLP    |01/07/2014    |50            |NULL           |R$ / 13 kg       |BRANCA  |\n",
            "|NE            |PB            |CABEDELO             |NACIONAL GAS BUTANO DISTRIBUIDORA LTDA   | 06.980.064/0006-97|RUA PREFEITO ENIVALDO FIGUEIREDO MIRANDA|93        |NULL                    |CENTRO                                    |58310-000|GLP    |01/07/2014    |35            |NULL           |R$ / 13 kg       |BRANCA  |\n",
            "|N             |TO            |PALMAS               |PARAGAS DISTRIBUIDORA LTDA.              | 05.840.319/0021-92| RUA SR-05  LOTE 9-A QUADRA 112 SUL, S/N|S/N       |LOTE 9-A, QUADRA 112 SUL|SETOR INDUSTRIAL                          |77110-540|GLP    |02/07/2014    |50            |NULL           |R$ / 13 kg       |BRANCA  |\n",
            "|SE            |SP            |SAO JOSE DO RIO PRETO|SUPERGASBRAS ENERGIA LTDA.               | 19.791.896/0108-31|RUA DOUTOR LEONAN LUÍS ALMEIDA GOUVEIA  |95        |NULL                    |DISTRITO INDUSTRIAL CARLOS ARMANDO E SILVA|15052-750|GLP    |02/07/2014    |43            |18,516         |R$ / 13 kg       |BRANCA  |\n",
            "|SE            |MG            |MURIAE               |SUPERGASBRAS ENERGIA LTDA.               | 19.791.896/0079-62|ESTRADA RIO - BAHIA                     |S/N       |KM 708                  |BARRA                                     |36880-000|GLP    |01/07/2014    |51            |NULL           |R$ / 13 kg       |BRANCA  |\n",
            "|SE            |MG            |TIMOTEO              |SUPERGASBRAS ENERGIA LTDA.               | 19.791.896/0140-71|RODOVIA BR-381                          |S/N.º     |KM 195                  |NUCLEO INDUSTRIAL                         |35180-001|GLP    |01/07/2014    |50            |NULL           |R$ / 13 kg       |BRANCA  |\n",
            "|NE            |CE            |JUAZEIRO DO NORTE    |COMÉRCIO DE PETROLEO COLORADO LTDA       | 00.198.451/0001-85|RUA   DOMINGOS CALAZANS                 |518       |NULL                    |TRIANGULO                                 |63041-130|GLP    |01/07/2014    |39            |NULL           |R$ / 13 kg       |BRANCA  |\n",
            "|S             |RS            |SANTA MARIA          |SANTA LUCIA COMERCIO E PAVIMENTACOES LTDA| 87.305.868/0001-88|RODOVIA RS 509                          |1200      |KM 03                   |JOÃO GOULART                              |97095-000|GLP    |01/07/2014    |43            |NULL           |R$ / 13 kg       |BRANCA  |\n",
            "|NE            |BA            |FEIRA DE SANTANA     |BAHIANA DISTRIBUIDORA DE GÁS LTDA        | 46.395.687/0034-70|AVENIDA . PERNAMBUCO                    |S/N       |NULL                    |FEIRA DE SANTANA                          |44030-090|GLP    |01/07/2014    |39,9          |NULL           |R$ / 13 kg       |BRANCA  |\n",
            "+--------------+--------------+---------------------+-----------------------------------------+-------------------+----------------------------------------+----------+------------------------+------------------------------------------+---------+-------+--------------+--------------+---------------+-----------------+--------+\n",
            "\n"
          ]
        }
      ]
    },
    {
      "cell_type": "code",
      "source": [
        "glp.count()"
      ],
      "metadata": {
        "colab": {
          "base_uri": "https://localhost:8080/"
        },
        "id": "HUkeownoVO1I",
        "outputId": "1e4d2b23-05a1-4c7b-e68f-5672566694e1"
      },
      "execution_count": 30,
      "outputs": [
        {
          "output_type": "execute_result",
          "data": {
            "text/plain": [
              "2819272"
            ]
          },
          "metadata": {},
          "execution_count": 30
        }
      ]
    },
    {
      "cell_type": "code",
      "source": [
        "glp.printSchema()"
      ],
      "metadata": {
        "colab": {
          "base_uri": "https://localhost:8080/"
        },
        "id": "v6Yv3nWKV2JZ",
        "outputId": "40932d7b-b0e3-4743-c6aa-e5f4ecebda3a"
      },
      "execution_count": 31,
      "outputs": [
        {
          "output_type": "stream",
          "name": "stdout",
          "text": [
            "root\n",
            " |-- Regiao - Sigla: string (nullable = true)\n",
            " |-- Estado - Sigla: string (nullable = true)\n",
            " |-- Municipio: string (nullable = true)\n",
            " |-- Revenda: string (nullable = true)\n",
            " |-- CNPJ da Revenda: string (nullable = true)\n",
            " |-- Nome da Rua: string (nullable = true)\n",
            " |-- Numero Rua: string (nullable = true)\n",
            " |-- Complemento: string (nullable = true)\n",
            " |-- Bairro: string (nullable = true)\n",
            " |-- Cep: string (nullable = true)\n",
            " |-- Produto: string (nullable = true)\n",
            " |-- Data da Coleta: string (nullable = true)\n",
            " |-- Valor de Venda: string (nullable = true)\n",
            " |-- Valor de Compra: string (nullable = true)\n",
            " |-- Unidade de Medida: string (nullable = true)\n",
            " |-- Bandeira: string (nullable = true)\n",
            "\n"
          ]
        }
      ]
    },
    {
      "cell_type": "code",
      "source": [],
      "metadata": {
        "id": "ePen5uNTV5Qt"
      },
      "execution_count": null,
      "outputs": []
    }
  ]
}